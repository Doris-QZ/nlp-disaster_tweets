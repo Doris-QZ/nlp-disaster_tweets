{
  "cells": [
    {
      "cell_type": "markdown",
      "metadata": {
        "id": "view-in-github",
        "colab_type": "text"
      },
      "source": [
        "<a href=\"https://colab.research.google.com/github/Doris-QZ/nlp-disaster_tweets/blob/main/RNN_Disaster_Tweets.ipynb\" target=\"_parent\"><img src=\"https://colab.research.google.com/assets/colab-badge.svg\" alt=\"Open In Colab\"/></a>"
      ]
    },
    {
      "cell_type": "markdown",
      "metadata": {
        "id": "2ORCtbbeCza1"
      },
      "source": [
        "# Introduction   \n",
        "\n",
        "In this Kaggle competition, [Natural Language Processing with Disaster Tweets](https://www.kaggle.com/competitions/nlp-getting-started/overview), my goal is to build a deep learning model---specifically, a Recurrent Neural Network(RNN) ---to predict whether a given tweet is about a real disaster (class 1) or not(class 0).\n",
        "\n",
        "### Data   \n",
        "\n",
        "The training set contains 7613 records with five attributes: `id`, `keyword`, `location`, `text`, and `target`, where the `text` column contains tweets and the `target` column provides the label of the tweet (1: disaster, 0: non-disaster).\n",
        "\n",
        "\n",
        "**Data Source:** Addison Howard, devrishi, Phil Culliton, and Yufeng Guo. Natural Language Processing with Disaster Tweets. https://kaggle.com/competitions/nlp-getting-started, 2019. Kaggle.\n"
      ]
    },
    {
      "cell_type": "markdown",
      "source": [
        "**Connect to kaggle and download the dataset**"
      ],
      "metadata": {
        "id": "1g6JDJr4DnHe"
      }
    },
    {
      "cell_type": "code",
      "source": [
        "# Install Kaggle library\n",
        "!pip install kaggle\n",
        "\n",
        "# Mount Google Drive\n",
        "from google.colab import drive\n",
        "drive.mount('/content/drive')\n",
        "\n",
        "# Make a directory for Kaggle\n",
        "!mkdir ~/.kaggle\n",
        "\n",
        "# Copy the kaggle.json file to the directory\n",
        "! cp /content/drive/MyDrive/ColabNotebooks/Kaggle_API_Key/kaggle.json ~/.kaggle/\n",
        "\n",
        "# Change the file permissions to read/write to the owner only\n",
        "!chmod 600 ~/.kaggle/kaggle.json\n",
        "\n",
        "# Download the dataset\n",
        "!kaggle competitions download nlp-getting-started\n",
        "\n",
        "# Unzio the data\n",
        "! unzip nlp-getting-started.zip"
      ],
      "metadata": {
        "id": "Kc5OW1-GDmlz",
        "colab": {
          "base_uri": "https://localhost:8080/"
        },
        "collapsed": true,
        "outputId": "99ab9534-b04e-49ee-86d5-6b45759da204"
      },
      "execution_count": null,
      "outputs": [
        {
          "output_type": "stream",
          "name": "stdout",
          "text": [
            "Requirement already satisfied: kaggle in /usr/local/lib/python3.11/dist-packages (1.6.17)\n",
            "Requirement already satisfied: six>=1.10 in /usr/local/lib/python3.11/dist-packages (from kaggle) (1.17.0)\n",
            "Requirement already satisfied: certifi>=2023.7.22 in /usr/local/lib/python3.11/dist-packages (from kaggle) (2025.1.31)\n",
            "Requirement already satisfied: python-dateutil in /usr/local/lib/python3.11/dist-packages (from kaggle) (2.8.2)\n",
            "Requirement already satisfied: requests in /usr/local/lib/python3.11/dist-packages (from kaggle) (2.32.3)\n",
            "Requirement already satisfied: tqdm in /usr/local/lib/python3.11/dist-packages (from kaggle) (4.67.1)\n",
            "Requirement already satisfied: python-slugify in /usr/local/lib/python3.11/dist-packages (from kaggle) (8.0.4)\n",
            "Requirement already satisfied: urllib3 in /usr/local/lib/python3.11/dist-packages (from kaggle) (2.3.0)\n",
            "Requirement already satisfied: bleach in /usr/local/lib/python3.11/dist-packages (from kaggle) (6.2.0)\n",
            "Requirement already satisfied: webencodings in /usr/local/lib/python3.11/dist-packages (from bleach->kaggle) (0.5.1)\n",
            "Requirement already satisfied: text-unidecode>=1.3 in /usr/local/lib/python3.11/dist-packages (from python-slugify->kaggle) (1.3)\n",
            "Requirement already satisfied: charset-normalizer<4,>=2 in /usr/local/lib/python3.11/dist-packages (from requests->kaggle) (3.4.1)\n",
            "Requirement already satisfied: idna<4,>=2.5 in /usr/local/lib/python3.11/dist-packages (from requests->kaggle) (3.10)\n",
            "Drive already mounted at /content/drive; to attempt to forcibly remount, call drive.mount(\"/content/drive\", force_remount=True).\n",
            "mkdir: cannot create directory ‘/root/.kaggle’: File exists\n",
            "nlp-getting-started.zip: Skipping, found more recently modified local copy (use --force to force download)\n",
            "Archive:  nlp-getting-started.zip\n",
            "replace sample_submission.csv? [y]es, [n]o, [A]ll, [N]one, [r]ename: "
          ]
        }
      ]
    },
    {
      "cell_type": "code",
      "source": [
        "#!pip install keras-tuner"
      ],
      "metadata": {
        "id": "urO5zSNiVCV7",
        "colab": {
          "base_uri": "https://localhost:8080/"
        },
        "collapsed": true,
        "outputId": "eb09d137-9cfa-42f9-e8c7-72854cb7b442"
      },
      "execution_count": null,
      "outputs": [
        {
          "output_type": "stream",
          "name": "stdout",
          "text": [
            "Requirement already satisfied: keras-tuner in /usr/local/lib/python3.11/dist-packages (1.4.7)\n",
            "Requirement already satisfied: keras in /usr/local/lib/python3.11/dist-packages (from keras-tuner) (3.8.0)\n",
            "Requirement already satisfied: packaging in /usr/local/lib/python3.11/dist-packages (from keras-tuner) (24.2)\n",
            "Requirement already satisfied: requests in /usr/local/lib/python3.11/dist-packages (from keras-tuner) (2.32.3)\n",
            "Requirement already satisfied: kt-legacy in /usr/local/lib/python3.11/dist-packages (from keras-tuner) (1.0.5)\n",
            "Requirement already satisfied: absl-py in /usr/local/lib/python3.11/dist-packages (from keras->keras-tuner) (1.4.0)\n",
            "Requirement already satisfied: numpy in /usr/local/lib/python3.11/dist-packages (from keras->keras-tuner) (1.26.4)\n",
            "Requirement already satisfied: rich in /usr/local/lib/python3.11/dist-packages (from keras->keras-tuner) (13.9.4)\n",
            "Requirement already satisfied: namex in /usr/local/lib/python3.11/dist-packages (from keras->keras-tuner) (0.0.8)\n",
            "Requirement already satisfied: h5py in /usr/local/lib/python3.11/dist-packages (from keras->keras-tuner) (3.12.1)\n",
            "Requirement already satisfied: optree in /usr/local/lib/python3.11/dist-packages (from keras->keras-tuner) (0.14.0)\n",
            "Requirement already satisfied: ml-dtypes in /usr/local/lib/python3.11/dist-packages (from keras->keras-tuner) (0.4.1)\n",
            "Requirement already satisfied: charset-normalizer<4,>=2 in /usr/local/lib/python3.11/dist-packages (from requests->keras-tuner) (3.4.1)\n",
            "Requirement already satisfied: idna<4,>=2.5 in /usr/local/lib/python3.11/dist-packages (from requests->keras-tuner) (3.10)\n",
            "Requirement already satisfied: urllib3<3,>=1.21.1 in /usr/local/lib/python3.11/dist-packages (from requests->keras-tuner) (2.3.0)\n",
            "Requirement already satisfied: certifi>=2017.4.17 in /usr/local/lib/python3.11/dist-packages (from requests->keras-tuner) (2025.1.31)\n",
            "Requirement already satisfied: typing-extensions>=4.5.0 in /usr/local/lib/python3.11/dist-packages (from optree->keras->keras-tuner) (4.12.2)\n",
            "Requirement already satisfied: markdown-it-py>=2.2.0 in /usr/local/lib/python3.11/dist-packages (from rich->keras->keras-tuner) (3.0.0)\n",
            "Requirement already satisfied: pygments<3.0.0,>=2.13.0 in /usr/local/lib/python3.11/dist-packages (from rich->keras->keras-tuner) (2.18.0)\n",
            "Requirement already satisfied: mdurl~=0.1 in /usr/local/lib/python3.11/dist-packages (from markdown-it-py>=2.2.0->rich->keras->keras-tuner) (0.1.2)\n"
          ]
        }
      ]
    },
    {
      "cell_type": "code",
      "execution_count": null,
      "metadata": {
        "id": "QGlY3KThCza5",
        "colab": {
          "base_uri": "https://localhost:8080/"
        },
        "outputId": "de7aabb2-9d79-4bbe-d2ac-2366208d4daf"
      },
      "outputs": [
        {
          "output_type": "stream",
          "name": "stderr",
          "text": [
            "<ipython-input-3-e58604e202dc>:29: DeprecationWarning: `import kerastuner` is deprecated, please use `import keras_tuner`.\n",
            "  from kerastuner.tuners import BayesianOptimization\n"
          ]
        }
      ],
      "source": [
        "# Import important packages\n",
        "import pandas as pd\n",
        "import numpy as np\n",
        "import matplotlib.pyplot as plt\n",
        "import seaborn as sns\n",
        "import math\n",
        "\n",
        "# EDA and Data preprocessing\n",
        "import re\n",
        "import spacy\n",
        "from scipy.stats import f_oneway\n",
        "import sklearn\n",
        "from sklearn.feature_extraction.text import CountVectorizer\n",
        "\n",
        "# Word Embedding\n",
        "from transformers import BertTokenizer, BertModel\n",
        "import torch\n",
        "\n",
        "# Modeling\n",
        "import tensorflow as tf\n",
        "from tensorflow import keras\n",
        "from keras.models import Sequential, Model\n",
        "from keras.layers import Input, LSTM, GRU, Dense, Activation, Flatten, Dropout, Concatenate, BatchNormalization\n",
        "from keras.optimizers import Adam\n",
        "from keras.regularizers import l2\n",
        "from keras.metrics import binary_crossentropy\n",
        "from keras.callbacks import EarlyStopping, ReduceLROnPlateau, ModelCheckpoint\n",
        "import keras_tuner\n",
        "from kerastuner.tuners import BayesianOptimization\n",
        "from sklearn.model_selection import train_test_split\n",
        "from sklearn.utils.class_weight import compute_class_weight\n",
        "from sklearn.preprocessing import StandardScaler\n",
        "from sklearn.metrics import classification_report, roc_curve, roc_auc_score\n",
        "from sklearn.preprocessing import MinMaxScaler\n"
      ]
    },
    {
      "cell_type": "code",
      "execution_count": null,
      "metadata": {
        "id": "hKD4w8HMCza6"
      },
      "outputs": [],
      "source": [
        "# Load the data\n",
        "raw_train = pd.read_csv('/content/train.csv')\n",
        "raw_test = pd.read_csv('/content/test.csv')\n",
        "sample_submission = pd.read_csv('/content/sample_submission.csv')"
      ]
    },
    {
      "cell_type": "code",
      "execution_count": null,
      "metadata": {
        "id": "W91jpIFPCza6",
        "outputId": "3c2ad688-13ca-4b15-d343-0ff19de38f2a",
        "colab": {
          "base_uri": "https://localhost:8080/"
        }
      },
      "outputs": [
        {
          "output_type": "stream",
          "name": "stdout",
          "text": [
            "<class 'pandas.core.frame.DataFrame'>\n",
            "RangeIndex: 7613 entries, 0 to 7612\n",
            "Data columns (total 5 columns):\n",
            " #   Column    Non-Null Count  Dtype \n",
            "---  ------    --------------  ----- \n",
            " 0   id        7613 non-null   int64 \n",
            " 1   keyword   7552 non-null   object\n",
            " 2   location  5080 non-null   object\n",
            " 3   text      7613 non-null   object\n",
            " 4   target    7613 non-null   int64 \n",
            "dtypes: int64(2), object(3)\n",
            "memory usage: 297.5+ KB\n",
            "None\n",
            "\n",
            "<class 'pandas.core.frame.DataFrame'>\n",
            "RangeIndex: 3263 entries, 0 to 3262\n",
            "Data columns (total 4 columns):\n",
            " #   Column    Non-Null Count  Dtype \n",
            "---  ------    --------------  ----- \n",
            " 0   id        3263 non-null   int64 \n",
            " 1   keyword   3237 non-null   object\n",
            " 2   location  2158 non-null   object\n",
            " 3   text      3263 non-null   object\n",
            "dtypes: int64(1), object(3)\n",
            "memory usage: 102.1+ KB\n",
            "None\n"
          ]
        }
      ],
      "source": [
        "# Take a look at the data\n",
        "print(raw_train.info())\n",
        "print()\n",
        "print(raw_test.info())"
      ]
    },
    {
      "cell_type": "markdown",
      "metadata": {
        "id": "TruOfYq9Cza7"
      },
      "source": [
        "There are 7613 records with 5 attributes in the training set, and 3263 records with 4 attributes in the test set. Both the 'keyword' and 'location' attribute have null values in both dataset."
      ]
    },
    {
      "cell_type": "markdown",
      "metadata": {
        "id": "O282gab8Cza7"
      },
      "source": [
        "### Preliminary Data Cleaning  \n",
        "  \n",
        "First, let's take a closer examination on the two attributes with null values.    "
      ]
    },
    {
      "cell_type": "code",
      "source": [
        "# Make a copy of the train and test set\n",
        "clean_train = raw_train.copy()\n",
        "clean_test = raw_test.copy()"
      ],
      "metadata": {
        "id": "ABN2VLptZIaj"
      },
      "execution_count": null,
      "outputs": []
    },
    {
      "cell_type": "code",
      "execution_count": null,
      "metadata": {
        "id": "nKL8Bm_bCza7",
        "outputId": "960747a3-15fc-4400-bef8-3c445069f825",
        "colab": {
          "base_uri": "https://localhost:8080/",
          "height": 507
        }
      },
      "outputs": [
        {
          "output_type": "stream",
          "name": "stdout",
          "text": [
            "The proportion of null value is 0.8%\n"
          ]
        },
        {
          "output_type": "execute_result",
          "data": {
            "text/plain": [
              "keyword\n",
              "fatalities               45\n",
              "armageddon               42\n",
              "deluge                   42\n",
              "harm                     41\n",
              "damage                   41\n",
              "                         ..\n",
              "forest%20fire            19\n",
              "epicentre                12\n",
              "threat                   11\n",
              "inundation               10\n",
              "radiation%20emergency     9\n",
              "Name: count, Length: 221, dtype: int64"
            ],
            "text/html": [
              "<div>\n",
              "<style scoped>\n",
              "    .dataframe tbody tr th:only-of-type {\n",
              "        vertical-align: middle;\n",
              "    }\n",
              "\n",
              "    .dataframe tbody tr th {\n",
              "        vertical-align: top;\n",
              "    }\n",
              "\n",
              "    .dataframe thead th {\n",
              "        text-align: right;\n",
              "    }\n",
              "</style>\n",
              "<table border=\"1\" class=\"dataframe\">\n",
              "  <thead>\n",
              "    <tr style=\"text-align: right;\">\n",
              "      <th></th>\n",
              "      <th>count</th>\n",
              "    </tr>\n",
              "    <tr>\n",
              "      <th>keyword</th>\n",
              "      <th></th>\n",
              "    </tr>\n",
              "  </thead>\n",
              "  <tbody>\n",
              "    <tr>\n",
              "      <th>fatalities</th>\n",
              "      <td>45</td>\n",
              "    </tr>\n",
              "    <tr>\n",
              "      <th>armageddon</th>\n",
              "      <td>42</td>\n",
              "    </tr>\n",
              "    <tr>\n",
              "      <th>deluge</th>\n",
              "      <td>42</td>\n",
              "    </tr>\n",
              "    <tr>\n",
              "      <th>harm</th>\n",
              "      <td>41</td>\n",
              "    </tr>\n",
              "    <tr>\n",
              "      <th>damage</th>\n",
              "      <td>41</td>\n",
              "    </tr>\n",
              "    <tr>\n",
              "      <th>...</th>\n",
              "      <td>...</td>\n",
              "    </tr>\n",
              "    <tr>\n",
              "      <th>forest%20fire</th>\n",
              "      <td>19</td>\n",
              "    </tr>\n",
              "    <tr>\n",
              "      <th>epicentre</th>\n",
              "      <td>12</td>\n",
              "    </tr>\n",
              "    <tr>\n",
              "      <th>threat</th>\n",
              "      <td>11</td>\n",
              "    </tr>\n",
              "    <tr>\n",
              "      <th>inundation</th>\n",
              "      <td>10</td>\n",
              "    </tr>\n",
              "    <tr>\n",
              "      <th>radiation%20emergency</th>\n",
              "      <td>9</td>\n",
              "    </tr>\n",
              "  </tbody>\n",
              "</table>\n",
              "<p>221 rows × 1 columns</p>\n",
              "</div><br><label><b>dtype:</b> int64</label>"
            ]
          },
          "metadata": {},
          "execution_count": 6
        }
      ],
      "source": [
        "# Examine the 'keyword' attribute\n",
        "print('The proportion of null value is', '{:.1%}'.format(clean_train.keyword.isnull().sum() / clean_train.shape[0]))\n",
        "clean_train.keyword.value_counts()"
      ]
    },
    {
      "cell_type": "markdown",
      "metadata": {
        "id": "_oOwJMFrCza7"
      },
      "source": [
        "There are 0.8% of null values and 221 unique values in the 'keyword' attribute. I will clean the 'keyword' column and add it to the cleaned text later."
      ]
    },
    {
      "cell_type": "code",
      "execution_count": null,
      "metadata": {
        "id": "NHbIY5z7Cza8"
      },
      "outputs": [],
      "source": [
        "# Define a function to clean keyword column\n",
        "def clean_keyword(keyword):\n",
        "    keyword.fillna('', inplace = True)   # replace nan with '', the sentiment score would be 0 (neural)\n",
        "    keyword = keyword.str.replace('%20', ' ')   # replace '%20', the URL-encoded representation of a space character, with a space\n",
        "    keyword = keyword.str.replace(r'\\s+', ' ', regex = True)  # remove extra space\n",
        "    return keyword"
      ]
    },
    {
      "cell_type": "code",
      "execution_count": null,
      "metadata": {
        "id": "VMZbrl5MCza8"
      },
      "outputs": [],
      "source": [
        "# Clean keyword on train and test data\n",
        "clean_train['keyword'] = clean_keyword(clean_train['keyword'])\n",
        "clean_test['keyword'] = clean_keyword(clean_test['keyword'])"
      ]
    },
    {
      "cell_type": "code",
      "source": [
        "# Examine the 'location' attribute\n",
        "print('There are', '{:.1%}'.format(clean_train.location.isnull().sum() / clean_train.shape[0]), 'null value in location.')\n",
        "print('There are', len(clean_train.location.unique()), 'unique values in location')"
      ],
      "metadata": {
        "colab": {
          "base_uri": "https://localhost:8080/"
        },
        "id": "XAbct__FZLbE",
        "outputId": "44c79e45-b71b-4e13-f07e-4484278ca6de"
      },
      "execution_count": null,
      "outputs": [
        {
          "output_type": "stream",
          "name": "stdout",
          "text": [
            "There are 33.3% null value in location.\n",
            "There are 3342 unique values in location\n"
          ]
        }
      ]
    },
    {
      "cell_type": "markdown",
      "metadata": {
        "id": "fl8WhgDFCza9"
      },
      "source": [
        "The 'location' attribute indicates where the tweet comes from, which is random and not necessarily associated with a disaster (also random). Given the relatively large proportion of missing values (33.3%) and the high number of unique values (3,342), I will drop this column from both the training and test sets."
      ]
    },
    {
      "cell_type": "code",
      "execution_count": null,
      "metadata": {
        "id": "Iqg9DbKjCza9"
      },
      "outputs": [],
      "source": [
        "# Drop the 'location' column\n",
        "clean_train = clean_train.drop(columns = 'location')\n",
        "clean_test = clean_test.drop(columns = 'location')"
      ]
    },
    {
      "cell_type": "markdown",
      "source": [
        "Now, let's take a look at the 'text' column."
      ],
      "metadata": {
        "id": "OhBFuxTlbo7S"
      }
    },
    {
      "cell_type": "code",
      "source": [
        "# Take a look at the text in each target\n",
        "pd.set_option('display.max_colwidth', 200)\n",
        "\n",
        "for category, group in clean_train.groupby('target'):\n",
        "    print(f'target: {category}')\n",
        "    print(group['text'].str.ljust(200).sample(6))\n",
        "    print()"
      ],
      "metadata": {
        "colab": {
          "base_uri": "https://localhost:8080/"
        },
        "id": "FBLpKXHNboGY",
        "outputId": "2adbc0c3-9da2-4513-837c-3d316f145879"
      },
      "execution_count": null,
      "outputs": [
        {
          "output_type": "stream",
          "name": "stdout",
          "text": [
            "target: 0\n",
            "2925    http://t.co/MoA0q0AuFa Jacksonville family bands together as memorial is planned for toddler who ... - FloridaÛ_ http://t.co/NKOu7zWwRT                                                            ...\n",
            "652     My hair is poverty at the moment need to get a fade before the weekend gets here                                                                                                                    ...\n",
            "600     #BreakingNews http://t.co/gAN14PW9TG FedEx no longer willing to transport research specimens of potential bioterÛ_ http://t.co/5n4hUsewLy                                                          ...\n",
            "883     Add these items to your everyday eating habits. Please do the research on how to take with your bloodÛ_ https://t.co/LnpsCaDaXr                                                                    ...\n",
            "340     Lee does comedy: ÛÏ@LeeJasper: Working class Tories prepare for your Armageddon. #InterestRateRiseÛ                                                                                              ...\n",
            "5650    Don't Panik! #KelbyTomlinson to the rescue! http://t.co/hujvgsFLUs                                                                                                                                  ...\n",
            "Name: text, dtype: object\n",
            "\n",
            "target: 1\n",
            "7321    Wild land fires.. Here I come. ??????                                                                                                                                                               ...\n",
            "4265    @wfaaweather Pete when will the heat wave pass? Is it really going to be mid month? Frisco Boy Scouts have a canoe trip in Okla.                                                                    ...\n",
            "5108    573 deaths have been certified by the Government as Û÷nuclear disaster-related deathsÛª                                                                                                           ...\n",
            "3962    When the waves are flooding the shore\\nAnd I can't find my way home anymore\\nThat's when I look at you http://t.co/TDAKtGlU5p                                                                       ...\n",
            "4572    Tonight we have attended a fire in Romford with @LondonFire thankfully no injuries http://t.co/iyjeJop2WI                                                                                           ...\n",
            "5248    Refugio oil spill may have been costlier bigger than projected http://t.co/Rqu5Ub8PLF                                                                                                               ...\n",
            "Name: text, dtype: object\n",
            "\n"
          ]
        }
      ]
    },
    {
      "cell_type": "markdown",
      "metadata": {
        "id": "vGMeNo8ZcJaT"
      },
      "source": [
        "As we can see from the tweets above, there are many mentions (@), hashtags(#), URLs, abbreviation, and irregular usage of punctuations. Before further cleaning the text, I will extract the following meta features from the tweets:  \n",
        "* Number of mentions (@) in a tweet;  \n",
        "* Number of hashtags (#) in a tweet;  \n",
        "* Number of URLs in a tweet;  \n",
        "* Number of irregular usage of punctuations in a tweet.\n"
      ]
    },
    {
      "cell_type": "code",
      "source": [
        "# Define a function to extract the meta features from the text\n",
        "def meta_features(text):\n",
        "    mentions = len(re.findall(r'@\\w+', text))   # count mentions (@)\n",
        "    hashtags = len(re.findall(r'#\\w+', text))   # count hashtags (#)\n",
        "    urls = len(re.findall(r'https?\\S+', text))  # count URLs\n",
        "    irre_punt = len(re.findall(r'[?!]{2,}', text))  # count irregular usage of punctuations\n",
        "\n",
        "    return pd.Series({\n",
        "        'num_mentions': mentions,\n",
        "        'num_hashtags': hashtags,\n",
        "        'num_urls': urls,\n",
        "        'irregular_punctuation': irre_punt\n",
        "    })\n",
        "\n",
        "# Add columns of meta features to train and test set\n",
        "clean_train = pd.concat([clean_train, clean_train['text'].apply(meta_features)], axis = 1)\n",
        "clean_test = pd.concat([clean_test, clean_test['text'].apply(meta_features)], axis = 1)"
      ],
      "metadata": {
        "id": "43G21ZkJcrOs"
      },
      "execution_count": null,
      "outputs": []
    },
    {
      "cell_type": "markdown",
      "source": [
        "I will perform minimal cleaning(such as removing URLs, mentions, and hashtags) on the text data to preserve context for BERT Embedding, inspired by this [blog](https://towardsdatascience.com/does-bert-need-clean-data-part-2-classification-d29adf9f745a).  "
      ],
      "metadata": {
        "id": "AnAa3Wmgc0Di"
      }
    },
    {
      "cell_type": "code",
      "source": [
        "# Define a function for minimal cleaning\n",
        "def minimal_cleaning(text):\n",
        "    text = text.replace('\\n', ' ')           # replace the newline character with a space\n",
        "    text = text.replace('w/', 'with ')        # replace w/ with 'with'\n",
        "    text = text.replace('&amp', 'and')       # replace &amp with 'and'\n",
        "    text = text.replace('Ûªm', 'am')\n",
        "    text = re.sub(r'\\S*&gt\\S*', ' ', text)   # remove symbol '&gt'\n",
        "    text = re.sub(r'\\S*&lt\\S*', ' ', text)   # remove symbol '&lt'\n",
        "    text = re.sub(r'[^\\x00-\\x7F]', ' ', text)  # remove non-ASCII letters\n",
        "    text = re.sub(r'https?\\S+', ' ', text)  # remove urls\n",
        "    text = re.sub(r'@\\S+', ' ', text)     # remove mentions\n",
        "    text = re.sub(r'#\\S+', '', text) # remove hashtags\n",
        "    text = re.sub(r'\\s+', ' ', text)  # remove extra space\n",
        "\n",
        "    return text"
      ],
      "metadata": {
        "id": "p9bLnJXYc3Cb"
      },
      "execution_count": null,
      "outputs": []
    },
    {
      "cell_type": "code",
      "source": [
        "# Add new columns of 'cleaned_text' to clean_train and clean_test dataframe\n",
        "clean_train['cleaned_text'] = clean_train['text'].apply(minimal_cleaning)\n",
        "clean_test['cleaned_text'] = clean_test['text'].apply(minimal_cleaning)"
      ],
      "metadata": {
        "id": "OplCqVNtqYhs"
      },
      "execution_count": null,
      "outputs": []
    },
    {
      "cell_type": "markdown",
      "source": [
        "The text column is clean now, and I will check if there are any duplicated rows in the training set."
      ],
      "metadata": {
        "id": "blzJcncUq7m2"
      }
    },
    {
      "cell_type": "code",
      "execution_count": null,
      "metadata": {
        "id": "QNs8g0PQCza9",
        "outputId": "ee1bebc9-e810-458c-f770-3293e7c04f3f",
        "colab": {
          "base_uri": "https://localhost:8080/"
        }
      },
      "outputs": [
        {
          "output_type": "stream",
          "name": "stdout",
          "text": [
            "There are 653 duplicated text with the same target labels.\n"
          ]
        }
      ],
      "source": [
        "# Check the number of duplicated text with the same target labels\n",
        "print('There are', clean_train[clean_train.duplicated(subset = ['cleaned_text', 'target'])].shape[0], 'duplicated text with the same target labels.')"
      ]
    },
    {
      "cell_type": "code",
      "execution_count": null,
      "metadata": {
        "id": "2cIN2gfPCza9"
      },
      "outputs": [],
      "source": [
        "# Drop duplicated text with the same target labels, keep only the first occurrence\n",
        "clean_train = clean_train.drop_duplicates(subset = ['cleaned_text', 'target'])"
      ]
    },
    {
      "cell_type": "code",
      "execution_count": null,
      "metadata": {
        "id": "MG1gD-y_Cza-",
        "outputId": "716eb1ac-a1f2-45b7-91fc-1221b0152952",
        "colab": {
          "base_uri": "https://localhost:8080/"
        }
      },
      "outputs": [
        {
          "output_type": "stream",
          "name": "stdout",
          "text": [
            "There are 162 duplicated text with different target labels.\n"
          ]
        }
      ],
      "source": [
        "# Check the number of duplicated text with different target labels\n",
        "print('There are', clean_train[clean_train.duplicated(subset = 'cleaned_text', keep = False)].shape[0], 'duplicated text with different target labels.')"
      ]
    },
    {
      "cell_type": "markdown",
      "metadata": {
        "id": "gtLzPrj-Cza-"
      },
      "source": [
        "I will remove the duplicates tweets with different target labels to avoid confusion while modeling."
      ]
    },
    {
      "cell_type": "code",
      "execution_count": null,
      "metadata": {
        "id": "1f38jU7yCza-"
      },
      "outputs": [],
      "source": [
        "# Drop duplicated text with the different target labels\n",
        "clean_train = clean_train.drop_duplicates(subset = ['cleaned_text'], keep = False)"
      ]
    },
    {
      "cell_type": "code",
      "execution_count": null,
      "metadata": {
        "id": "fFCvKvwYCzbA"
      },
      "outputs": [],
      "source": [
        "# Concatenate 'keyword' with 'cleaned_text'\n",
        "clean_train['cleaned_text'] = clean_train['keyword'].str.cat(others = clean_train['cleaned_text'], sep = '. ')\n",
        "clean_test['cleaned_text'] = clean_test['keyword'].str.cat(others = clean_test['cleaned_text'], sep = '. ')"
      ]
    },
    {
      "cell_type": "code",
      "source": [
        "# Remove the '. ' in the begining of a string (rows with no keyword)\n",
        "clean_train['cleaned_text'] = clean_train['cleaned_text'].str.replace(r'^\\. ', '', regex = True)\n",
        "clean_test['cleaned_text'] = clean_test['cleaned_text'].str.replace(r'^\\. ', '', regex = True)"
      ],
      "metadata": {
        "id": "S_CouNiZzL-O"
      },
      "execution_count": null,
      "outputs": []
    },
    {
      "cell_type": "code",
      "execution_count": null,
      "metadata": {
        "id": "aOMYlFE3CzbA"
      },
      "outputs": [],
      "source": [
        "# Drop the columns of 'keyword' and 'text'\n",
        "clean_train = clean_train.drop(columns = ['keyword', 'text'])\n",
        "clean_test = clean_test.drop(columns = ['keyword', 'text'])\n",
        "\n",
        "# Rename the column 'target' to avoid ambiguous ('target' could be both an index level and a column label in a word count dataframe which we will create later)\n",
        "clean_train.rename(columns = {'target': 'Target'}, inplace = True)"
      ]
    },
    {
      "cell_type": "code",
      "execution_count": null,
      "metadata": {
        "id": "QADyHEADCzbD",
        "outputId": "83d4d225-61c4-4ce6-ef38-4f4409c7cf9c",
        "colab": {
          "base_uri": "https://localhost:8080/"
        }
      },
      "outputs": [
        {
          "output_type": "stream",
          "name": "stdout",
          "text": [
            "<class 'pandas.core.frame.DataFrame'>\n",
            "RangeIndex: 6798 entries, 0 to 6797\n",
            "Data columns (total 7 columns):\n",
            " #   Column                 Non-Null Count  Dtype \n",
            "---  ------                 --------------  ----- \n",
            " 0   id                     6798 non-null   int64 \n",
            " 1   Target                 6798 non-null   int64 \n",
            " 2   num_mentions           6798 non-null   int64 \n",
            " 3   num_hashtags           6798 non-null   int64 \n",
            " 4   num_urls               6798 non-null   int64 \n",
            " 5   irregular_punctuation  6798 non-null   int64 \n",
            " 6   cleaned_text           6798 non-null   object\n",
            "dtypes: int64(6), object(1)\n",
            "memory usage: 371.9+ KB\n"
          ]
        }
      ],
      "source": [
        "# Reset index of the training set\n",
        "clean_train = clean_train.reset_index(drop = True)\n",
        "\n",
        "clean_train.info()"
      ]
    },
    {
      "cell_type": "markdown",
      "metadata": {
        "id": "UN0FbISUCzbD"
      },
      "source": [
        "**Summary of Data Cleaning**  \n",
        "\n",
        "Here’s what I have done during the preliminary data cleaning:\n",
        "\n",
        "* Cleaned the ‘keyword’ attribute.\n",
        "* Dropped the ‘location’ attribute as it doesn’t contribute much to classifying a tweet.\n",
        "* Extracted meta features from the text data, which will be further examined during Exploratory Data Analysis.\n",
        "* Performed minimal cleaning on text data to preserve context for BERT Embedding.\n",
        "* Concatenated 'keyword' with 'cleaned_text', and drop the 'keyword' and 'text' columns.\n",
        "* Dropped duplicate rows, especially those with same tweets but different labels, to avoid confusion.    "
      ]
    },
    {
      "cell_type": "markdown",
      "metadata": {
        "id": "FsMa7oXCCzbE"
      },
      "source": [
        "# Exploratory Data Analysis (EDA)  \n",
        "\n",
        "I will explore a few linguistic features that reflect the writting style of tweets in different categories(disaster or non-disaster) from the following perspectives:  \n",
        "\n",
        "* Sentence Length: the average length of sentences.\n",
        "* Word Length: the average length of words.\n",
        "* Word Frequency: the most frequency words and bi-grams used in each category of tweets.  \n",
        "\n",
        "First, let's check the sentence length and word length of each tweets."
      ]
    },
    {
      "cell_type": "code",
      "source": [
        "# Load the pre-trained English model from spaCy\n",
        "nlp = spacy.load('en_core_web_sm')\n",
        "\n",
        "# Define a function to extract sentence length and word length\n",
        "def linguistic_features(text):\n",
        "\n",
        "  # create a Doc container using spaCy package\n",
        "  text = text.lower()\n",
        "  doc = nlp(text)\n",
        "\n",
        "  # Sentence length\n",
        "  sentence_len = [len(sent) for sent in doc.sents]\n",
        "  sentence_len = np.mean(sentence_len) if sentence_len else 0\n",
        "\n",
        "  # Word length\n",
        "  word_len = [len(token.text) for token in doc if token.is_alpha]\n",
        "  word_len = np.mean(word_len) if word_len else 0\n",
        "\n",
        "  return pd.Series({\n",
        "      'sentence_len': sentence_len,\n",
        "      'word_len': word_len\n",
        "  })"
      ],
      "metadata": {
        "id": "qgAnmh3jwSeg"
      },
      "execution_count": null,
      "outputs": []
    },
    {
      "cell_type": "code",
      "source": [
        "# Add columns of linguistic features to train and test set\n",
        "clean_train = pd.concat([clean_train, clean_train['cleaned_text'].apply(linguistic_features)], axis = 1)\n",
        "clean_test = pd.concat([clean_test, clean_test['cleaned_text'].apply(linguistic_features)], axis = 1)"
      ],
      "metadata": {
        "id": "fprxZU746RLp"
      },
      "execution_count": null,
      "outputs": []
    },
    {
      "cell_type": "markdown",
      "source": [
        "I will take a closer look at both meta features and linguistic features, and then examine the association between these features and the target label using ANOVA test."
      ],
      "metadata": {
        "id": "gbAEVnrE1F0f"
      }
    },
    {
      "cell_type": "code",
      "execution_count": null,
      "metadata": {
        "id": "h3Zmq3FfCzbE",
        "outputId": "d8610710-1d5e-4d81-ffd5-2795915d3f95",
        "colab": {
          "base_uri": "https://localhost:8080/",
          "height": 300
        }
      },
      "outputs": [
        {
          "output_type": "execute_result",
          "data": {
            "text/plain": [
              "       num_mentions  num_hashtags     num_urls  irregular_punctuation  \\\n",
              "count   6798.000000   6798.000000  6798.000000            6798.000000   \n",
              "mean       0.380847      0.409826     0.566196               0.111650   \n",
              "std        0.732501      0.999354     0.648411               0.390459   \n",
              "min        0.000000      0.000000     0.000000               0.000000   \n",
              "25%        0.000000      0.000000     0.000000               0.000000   \n",
              "50%        0.000000      0.000000     0.000000               0.000000   \n",
              "75%        1.000000      0.000000     1.000000               0.000000   \n",
              "max        8.000000     13.000000     4.000000               9.000000   \n",
              "\n",
              "       sentence_len     word_len  \n",
              "count   6798.000000  6798.000000  \n",
              "mean       7.815036     4.977519  \n",
              "std        3.091946     0.988373  \n",
              "min        1.000000     2.600000  \n",
              "25%        5.500000     4.281429  \n",
              "50%        7.500000     4.863636  \n",
              "75%        9.500000     5.562500  \n",
              "max       37.000000    11.333333  "
            ],
            "text/html": [
              "\n",
              "  <div id=\"df-67350ac2-4827-449f-82ed-6b82d73f3ee4\" class=\"colab-df-container\">\n",
              "    <div>\n",
              "<style scoped>\n",
              "    .dataframe tbody tr th:only-of-type {\n",
              "        vertical-align: middle;\n",
              "    }\n",
              "\n",
              "    .dataframe tbody tr th {\n",
              "        vertical-align: top;\n",
              "    }\n",
              "\n",
              "    .dataframe thead th {\n",
              "        text-align: right;\n",
              "    }\n",
              "</style>\n",
              "<table border=\"1\" class=\"dataframe\">\n",
              "  <thead>\n",
              "    <tr style=\"text-align: right;\">\n",
              "      <th></th>\n",
              "      <th>num_mentions</th>\n",
              "      <th>num_hashtags</th>\n",
              "      <th>num_urls</th>\n",
              "      <th>irregular_punctuation</th>\n",
              "      <th>sentence_len</th>\n",
              "      <th>word_len</th>\n",
              "    </tr>\n",
              "  </thead>\n",
              "  <tbody>\n",
              "    <tr>\n",
              "      <th>count</th>\n",
              "      <td>6798.000000</td>\n",
              "      <td>6798.000000</td>\n",
              "      <td>6798.000000</td>\n",
              "      <td>6798.000000</td>\n",
              "      <td>6798.000000</td>\n",
              "      <td>6798.000000</td>\n",
              "    </tr>\n",
              "    <tr>\n",
              "      <th>mean</th>\n",
              "      <td>0.380847</td>\n",
              "      <td>0.409826</td>\n",
              "      <td>0.566196</td>\n",
              "      <td>0.111650</td>\n",
              "      <td>7.815036</td>\n",
              "      <td>4.977519</td>\n",
              "    </tr>\n",
              "    <tr>\n",
              "      <th>std</th>\n",
              "      <td>0.732501</td>\n",
              "      <td>0.999354</td>\n",
              "      <td>0.648411</td>\n",
              "      <td>0.390459</td>\n",
              "      <td>3.091946</td>\n",
              "      <td>0.988373</td>\n",
              "    </tr>\n",
              "    <tr>\n",
              "      <th>min</th>\n",
              "      <td>0.000000</td>\n",
              "      <td>0.000000</td>\n",
              "      <td>0.000000</td>\n",
              "      <td>0.000000</td>\n",
              "      <td>1.000000</td>\n",
              "      <td>2.600000</td>\n",
              "    </tr>\n",
              "    <tr>\n",
              "      <th>25%</th>\n",
              "      <td>0.000000</td>\n",
              "      <td>0.000000</td>\n",
              "      <td>0.000000</td>\n",
              "      <td>0.000000</td>\n",
              "      <td>5.500000</td>\n",
              "      <td>4.281429</td>\n",
              "    </tr>\n",
              "    <tr>\n",
              "      <th>50%</th>\n",
              "      <td>0.000000</td>\n",
              "      <td>0.000000</td>\n",
              "      <td>0.000000</td>\n",
              "      <td>0.000000</td>\n",
              "      <td>7.500000</td>\n",
              "      <td>4.863636</td>\n",
              "    </tr>\n",
              "    <tr>\n",
              "      <th>75%</th>\n",
              "      <td>1.000000</td>\n",
              "      <td>0.000000</td>\n",
              "      <td>1.000000</td>\n",
              "      <td>0.000000</td>\n",
              "      <td>9.500000</td>\n",
              "      <td>5.562500</td>\n",
              "    </tr>\n",
              "    <tr>\n",
              "      <th>max</th>\n",
              "      <td>8.000000</td>\n",
              "      <td>13.000000</td>\n",
              "      <td>4.000000</td>\n",
              "      <td>9.000000</td>\n",
              "      <td>37.000000</td>\n",
              "      <td>11.333333</td>\n",
              "    </tr>\n",
              "  </tbody>\n",
              "</table>\n",
              "</div>\n",
              "    <div class=\"colab-df-buttons\">\n",
              "\n",
              "  <div class=\"colab-df-container\">\n",
              "    <button class=\"colab-df-convert\" onclick=\"convertToInteractive('df-67350ac2-4827-449f-82ed-6b82d73f3ee4')\"\n",
              "            title=\"Convert this dataframe to an interactive table.\"\n",
              "            style=\"display:none;\">\n",
              "\n",
              "  <svg xmlns=\"http://www.w3.org/2000/svg\" height=\"24px\" viewBox=\"0 -960 960 960\">\n",
              "    <path d=\"M120-120v-720h720v720H120Zm60-500h600v-160H180v160Zm220 220h160v-160H400v160Zm0 220h160v-160H400v160ZM180-400h160v-160H180v160Zm440 0h160v-160H620v160ZM180-180h160v-160H180v160Zm440 0h160v-160H620v160Z\"/>\n",
              "  </svg>\n",
              "    </button>\n",
              "\n",
              "  <style>\n",
              "    .colab-df-container {\n",
              "      display:flex;\n",
              "      gap: 12px;\n",
              "    }\n",
              "\n",
              "    .colab-df-convert {\n",
              "      background-color: #E8F0FE;\n",
              "      border: none;\n",
              "      border-radius: 50%;\n",
              "      cursor: pointer;\n",
              "      display: none;\n",
              "      fill: #1967D2;\n",
              "      height: 32px;\n",
              "      padding: 0 0 0 0;\n",
              "      width: 32px;\n",
              "    }\n",
              "\n",
              "    .colab-df-convert:hover {\n",
              "      background-color: #E2EBFA;\n",
              "      box-shadow: 0px 1px 2px rgba(60, 64, 67, 0.3), 0px 1px 3px 1px rgba(60, 64, 67, 0.15);\n",
              "      fill: #174EA6;\n",
              "    }\n",
              "\n",
              "    .colab-df-buttons div {\n",
              "      margin-bottom: 4px;\n",
              "    }\n",
              "\n",
              "    [theme=dark] .colab-df-convert {\n",
              "      background-color: #3B4455;\n",
              "      fill: #D2E3FC;\n",
              "    }\n",
              "\n",
              "    [theme=dark] .colab-df-convert:hover {\n",
              "      background-color: #434B5C;\n",
              "      box-shadow: 0px 1px 3px 1px rgba(0, 0, 0, 0.15);\n",
              "      filter: drop-shadow(0px 1px 2px rgba(0, 0, 0, 0.3));\n",
              "      fill: #FFFFFF;\n",
              "    }\n",
              "  </style>\n",
              "\n",
              "    <script>\n",
              "      const buttonEl =\n",
              "        document.querySelector('#df-67350ac2-4827-449f-82ed-6b82d73f3ee4 button.colab-df-convert');\n",
              "      buttonEl.style.display =\n",
              "        google.colab.kernel.accessAllowed ? 'block' : 'none';\n",
              "\n",
              "      async function convertToInteractive(key) {\n",
              "        const element = document.querySelector('#df-67350ac2-4827-449f-82ed-6b82d73f3ee4');\n",
              "        const dataTable =\n",
              "          await google.colab.kernel.invokeFunction('convertToInteractive',\n",
              "                                                    [key], {});\n",
              "        if (!dataTable) return;\n",
              "\n",
              "        const docLinkHtml = 'Like what you see? Visit the ' +\n",
              "          '<a target=\"_blank\" href=https://colab.research.google.com/notebooks/data_table.ipynb>data table notebook</a>'\n",
              "          + ' to learn more about interactive tables.';\n",
              "        element.innerHTML = '';\n",
              "        dataTable['output_type'] = 'display_data';\n",
              "        await google.colab.output.renderOutput(dataTable, element);\n",
              "        const docLink = document.createElement('div');\n",
              "        docLink.innerHTML = docLinkHtml;\n",
              "        element.appendChild(docLink);\n",
              "      }\n",
              "    </script>\n",
              "  </div>\n",
              "\n",
              "\n",
              "<div id=\"df-f42b363e-761e-4c0c-97de-5e18e70d0a30\">\n",
              "  <button class=\"colab-df-quickchart\" onclick=\"quickchart('df-f42b363e-761e-4c0c-97de-5e18e70d0a30')\"\n",
              "            title=\"Suggest charts\"\n",
              "            style=\"display:none;\">\n",
              "\n",
              "<svg xmlns=\"http://www.w3.org/2000/svg\" height=\"24px\"viewBox=\"0 0 24 24\"\n",
              "     width=\"24px\">\n",
              "    <g>\n",
              "        <path d=\"M19 3H5c-1.1 0-2 .9-2 2v14c0 1.1.9 2 2 2h14c1.1 0 2-.9 2-2V5c0-1.1-.9-2-2-2zM9 17H7v-7h2v7zm4 0h-2V7h2v10zm4 0h-2v-4h2v4z\"/>\n",
              "    </g>\n",
              "</svg>\n",
              "  </button>\n",
              "\n",
              "<style>\n",
              "  .colab-df-quickchart {\n",
              "      --bg-color: #E8F0FE;\n",
              "      --fill-color: #1967D2;\n",
              "      --hover-bg-color: #E2EBFA;\n",
              "      --hover-fill-color: #174EA6;\n",
              "      --disabled-fill-color: #AAA;\n",
              "      --disabled-bg-color: #DDD;\n",
              "  }\n",
              "\n",
              "  [theme=dark] .colab-df-quickchart {\n",
              "      --bg-color: #3B4455;\n",
              "      --fill-color: #D2E3FC;\n",
              "      --hover-bg-color: #434B5C;\n",
              "      --hover-fill-color: #FFFFFF;\n",
              "      --disabled-bg-color: #3B4455;\n",
              "      --disabled-fill-color: #666;\n",
              "  }\n",
              "\n",
              "  .colab-df-quickchart {\n",
              "    background-color: var(--bg-color);\n",
              "    border: none;\n",
              "    border-radius: 50%;\n",
              "    cursor: pointer;\n",
              "    display: none;\n",
              "    fill: var(--fill-color);\n",
              "    height: 32px;\n",
              "    padding: 0;\n",
              "    width: 32px;\n",
              "  }\n",
              "\n",
              "  .colab-df-quickchart:hover {\n",
              "    background-color: var(--hover-bg-color);\n",
              "    box-shadow: 0 1px 2px rgba(60, 64, 67, 0.3), 0 1px 3px 1px rgba(60, 64, 67, 0.15);\n",
              "    fill: var(--button-hover-fill-color);\n",
              "  }\n",
              "\n",
              "  .colab-df-quickchart-complete:disabled,\n",
              "  .colab-df-quickchart-complete:disabled:hover {\n",
              "    background-color: var(--disabled-bg-color);\n",
              "    fill: var(--disabled-fill-color);\n",
              "    box-shadow: none;\n",
              "  }\n",
              "\n",
              "  .colab-df-spinner {\n",
              "    border: 2px solid var(--fill-color);\n",
              "    border-color: transparent;\n",
              "    border-bottom-color: var(--fill-color);\n",
              "    animation:\n",
              "      spin 1s steps(1) infinite;\n",
              "  }\n",
              "\n",
              "  @keyframes spin {\n",
              "    0% {\n",
              "      border-color: transparent;\n",
              "      border-bottom-color: var(--fill-color);\n",
              "      border-left-color: var(--fill-color);\n",
              "    }\n",
              "    20% {\n",
              "      border-color: transparent;\n",
              "      border-left-color: var(--fill-color);\n",
              "      border-top-color: var(--fill-color);\n",
              "    }\n",
              "    30% {\n",
              "      border-color: transparent;\n",
              "      border-left-color: var(--fill-color);\n",
              "      border-top-color: var(--fill-color);\n",
              "      border-right-color: var(--fill-color);\n",
              "    }\n",
              "    40% {\n",
              "      border-color: transparent;\n",
              "      border-right-color: var(--fill-color);\n",
              "      border-top-color: var(--fill-color);\n",
              "    }\n",
              "    60% {\n",
              "      border-color: transparent;\n",
              "      border-right-color: var(--fill-color);\n",
              "    }\n",
              "    80% {\n",
              "      border-color: transparent;\n",
              "      border-right-color: var(--fill-color);\n",
              "      border-bottom-color: var(--fill-color);\n",
              "    }\n",
              "    90% {\n",
              "      border-color: transparent;\n",
              "      border-bottom-color: var(--fill-color);\n",
              "    }\n",
              "  }\n",
              "</style>\n",
              "\n",
              "  <script>\n",
              "    async function quickchart(key) {\n",
              "      const quickchartButtonEl =\n",
              "        document.querySelector('#' + key + ' button');\n",
              "      quickchartButtonEl.disabled = true;  // To prevent multiple clicks.\n",
              "      quickchartButtonEl.classList.add('colab-df-spinner');\n",
              "      try {\n",
              "        const charts = await google.colab.kernel.invokeFunction(\n",
              "            'suggestCharts', [key], {});\n",
              "      } catch (error) {\n",
              "        console.error('Error during call to suggestCharts:', error);\n",
              "      }\n",
              "      quickchartButtonEl.classList.remove('colab-df-spinner');\n",
              "      quickchartButtonEl.classList.add('colab-df-quickchart-complete');\n",
              "    }\n",
              "    (() => {\n",
              "      let quickchartButtonEl =\n",
              "        document.querySelector('#df-f42b363e-761e-4c0c-97de-5e18e70d0a30 button');\n",
              "      quickchartButtonEl.style.display =\n",
              "        google.colab.kernel.accessAllowed ? 'block' : 'none';\n",
              "    })();\n",
              "  </script>\n",
              "</div>\n",
              "\n",
              "    </div>\n",
              "  </div>\n"
            ],
            "application/vnd.google.colaboratory.intrinsic+json": {
              "type": "dataframe",
              "summary": "{\n  \"name\": \"             'sentence_len', 'word_len']]\",\n  \"rows\": 8,\n  \"fields\": [\n    {\n      \"column\": \"num_mentions\",\n      \"properties\": {\n        \"dtype\": \"number\",\n        \"std\": 2402.946666091839,\n        \"min\": 0.0,\n        \"max\": 6798.0,\n        \"num_unique_values\": 6,\n        \"samples\": [\n          6798.0,\n          0.3808473080317741,\n          8.0\n        ],\n        \"semantic_type\": \"\",\n        \"description\": \"\"\n      }\n    },\n    {\n      \"column\": \"num_hashtags\",\n      \"properties\": {\n        \"dtype\": \"number\",\n        \"std\": 2402.7323527057442,\n        \"min\": 0.0,\n        \"max\": 6798.0,\n        \"num_unique_values\": 5,\n        \"samples\": [\n          0.4098264195351574,\n          13.0,\n          0.9993541827484619\n        ],\n        \"semantic_type\": \"\",\n        \"description\": \"\"\n      }\n    },\n    {\n      \"column\": \"num_urls\",\n      \"properties\": {\n        \"dtype\": \"number\",\n        \"std\": 2403.142427511072,\n        \"min\": 0.0,\n        \"max\": 6798.0,\n        \"num_unique_values\": 6,\n        \"samples\": [\n          6798.0,\n          0.5661959399823477,\n          4.0\n        ],\n        \"semantic_type\": \"\",\n        \"description\": \"\"\n      }\n    },\n    {\n      \"column\": \"irregular_punctuation\",\n      \"properties\": {\n        \"dtype\": \"number\",\n        \"std\": 2402.9780494810298,\n        \"min\": 0.0,\n        \"max\": 6798.0,\n        \"num_unique_values\": 5,\n        \"samples\": [\n          0.11165048543689321,\n          9.0,\n          0.390458752748597\n        ],\n        \"semantic_type\": \"\",\n        \"description\": \"\"\n      }\n    },\n    {\n      \"column\": \"sentence_len\",\n      \"properties\": {\n        \"dtype\": \"number\",\n        \"std\": 2399.8758107717595,\n        \"min\": 1.0,\n        \"max\": 6798.0,\n        \"num_unique_values\": 8,\n        \"samples\": [\n          7.815035584695779,\n          7.5,\n          6798.0\n        ],\n        \"semantic_type\": \"\",\n        \"description\": \"\"\n      }\n    },\n    {\n      \"column\": \"word_len\",\n      \"properties\": {\n        \"dtype\": \"number\",\n        \"std\": 2401.709909926549,\n        \"min\": 0.9883730012138747,\n        \"max\": 6798.0,\n        \"num_unique_values\": 8,\n        \"samples\": [\n          4.977519080097722,\n          4.863636363636363,\n          6798.0\n        ],\n        \"semantic_type\": \"\",\n        \"description\": \"\"\n      }\n    }\n  ]\n}"
            }
          },
          "metadata": {},
          "execution_count": 25
        }
      ],
      "source": [
        "clean_train[['num_mentions', 'num_hashtags', 'num_urls', 'irregular_punctuation',\n",
        "             'sentence_len', 'word_len']].describe()"
      ]
    },
    {
      "cell_type": "code",
      "source": [
        "# Create a figure with 6 plots\n",
        "fig, axes = plt.subplots(nrows = 2, ncols = 3, figsize = (10, 6))\n",
        "\n",
        "# Flatten the axes for easy iteration\n",
        "axes = axes.flatten()\n",
        "\n",
        "# The column names of both meta features and linguistic features\n",
        "meta_lingu = ['num_mentions', 'num_hashtags', 'num_urls', 'irregular_punctuation',\n",
        "             'sentence_len', 'word_len']\n",
        "\n",
        "# Plot the meta feature and linguistic feature\n",
        "for i, col in enumerate(meta_lingu):\n",
        "  sns.boxplot(data = clean_train, x = 'Target', y = col, hue = 'Target',\n",
        "              palette = ['skyblue', 'lightsalmon'], legend = False, ax = axes[i])\n",
        "  axes[i].set_ylabel('')\n",
        "  axes[i].set_xlabel('')\n",
        "  axes[i].set_title(col);\n"
      ],
      "metadata": {
        "colab": {
          "base_uri": "https://localhost:8080/",
          "height": 545
        },
        "id": "G0em1XBWPndG",
        "outputId": "3084175e-04be-4200-ce06-1d980b6f1f6c"
      },
      "execution_count": null,
      "outputs": [
        {
          "output_type": "display_data",
          "data": {
            "text/plain": [
              "<Figure size 1000x600 with 6 Axes>"
            ],
            "image/png": "[encoded data removed]"
          },
          "metadata": {}
        }
      ]
    },
    {
      "cell_type": "markdown",
      "source": [
        "As shown in the plots above, the non-disaster tweets contain more mentions and less hashtags, while the disaster tweets tend to use longer sentences and words. There is not obvisous deviations between the two categories in terms of number of urls or irregular punctuations.  \n",
        "\n",
        "I will use an ANOVA test to further determine if there are statistically significant differences between the means of these features across the two categories, setting alpha = 0.05.  "
      ],
      "metadata": {
        "id": "aelPW27xToXd"
      }
    },
    {
      "cell_type": "code",
      "execution_count": null,
      "metadata": {
        "id": "oqDqGp4qCzbF",
        "outputId": "72f2a7cb-5448-4f2b-ed2b-bba6487e02fa",
        "colab": {
          "base_uri": "https://localhost:8080/"
        }
      },
      "outputs": [
        {
          "output_type": "stream",
          "name": "stdout",
          "text": [
            "Feature: num_mentions, p-value:  0.000\n",
            "Feature: num_hashtags, p-value:  0.000\n",
            "Feature: num_urls, p-value:  0.000\n",
            "Feature: irregular_punctuation, p-value:  0.000\n",
            "Feature: sentence_len, p-value:  0.000\n",
            "Feature: word_len, p-value:  0.000\n"
          ]
        }
      ],
      "source": [
        "# Unique value in 'Target'\n",
        "categories = clean_train['Target'].unique()\n",
        "\n",
        "# Apply ANOVA for each feature across the categories\n",
        "for feature in meta_lingu:\n",
        "  #Create groups for each category\n",
        "  groups = [clean_train[clean_train['Target'] == category][feature] for category in categories]\n",
        "\n",
        "  # Perform one-way ANOVA\n",
        "  f_statistic, p_value = f_oneway(*groups)\n",
        "\n",
        "  # Print results\n",
        "  print(f\"Feature: {feature}, p-value: {p_value: .3f}\")\n"
      ]
    },
    {
      "cell_type": "markdown",
      "metadata": {
        "id": "Odg8XW8tCzbG"
      },
      "source": [
        "All of the p-values above are much less than 0.05, with all values equal to 0. This suggests that there are statistically significant differences between the two categories in terms of the number of mentions, hashtags, URLs, irregular punctuation usage, sentence length, and word length.  \n",
        "\n",
        "There are two categories in the target variable: 1 represents 'disaster' and 0 represents 'not disaster'. I'll check the proportion of each category in the training set to see if it is balanced.    "
      ]
    },
    {
      "cell_type": "code",
      "execution_count": null,
      "metadata": {
        "id": "Z2hhz_bcCzbH",
        "outputId": "5a88722f-e3b2-490b-d94e-c1d207352e68",
        "colab": {
          "base_uri": "https://localhost:8080/",
          "height": 428
        }
      },
      "outputs": [
        {
          "output_type": "display_data",
          "data": {
            "text/plain": [
              "<Figure size 640x480 with 1 Axes>"
            ],
            "image/png": "[encoded data removed]"
          },
          "metadata": {}
        }
      ],
      "source": [
        "# Check the value count of the 'target' variable\n",
        "labels = clean_train['Target'].value_counts().index\n",
        "values = clean_train['Target'].value_counts().values\n",
        "\n",
        "plt.pie(values, labels = labels, colors = ['skyblue', 'lightsalmon'], autopct = '%1.0f%%')\n",
        "plt.title('The Ratio of the Target Variable');"
      ]
    },
    {
      "cell_type": "markdown",
      "metadata": {
        "id": "uPlrj8DjCzbH"
      },
      "source": [
        "The training set is slightly imbalanced, with 59% labeled as 0 (not disaster) and 41% labeled as 1 (disaster).  \n",
        "\n",
        "Now let's check the most common words in each category."
      ]
    },
    {
      "cell_type": "code",
      "execution_count": null,
      "metadata": {
        "id": "8KZA_GJKCzbH"
      },
      "outputs": [],
      "source": [
        "# Create a countvectorizer\n",
        "cnt_vt = CountVectorizer(ngram_range = (1, 2), stop_words= 'english')\n",
        "\n",
        "# Transform the 'cleaned_text' into a word count matrix\n",
        "word_cnt_mx = cnt_vt.fit_transform(clean_train['cleaned_text'])\n",
        "\n",
        "# Convert the word count matrix into to dataframe\n",
        "word_cnt_df = pd.DataFrame(word_cnt_mx.toarray(), columns = cnt_vt.get_feature_names_out(),\n",
        "                           index = clean_train['Target'])\n",
        "\n",
        "# Group the dataframe by 'Target'\n",
        "word_cnt = word_cnt_df.groupby('Target').sum()\n",
        "word_cnt = word_cnt.reset_index()"
      ]
    },
    {
      "cell_type": "code",
      "execution_count": null,
      "metadata": {
        "id": "sWdRGYLbCzbI",
        "outputId": "573f910f-bed1-4eaa-b269-5d3a908df82f",
        "colab": {
          "base_uri": "https://localhost:8080/",
          "height": 487
        }
      },
      "outputs": [
        {
          "output_type": "display_data",
          "data": {
            "text/plain": [
              "<Figure size 1000x500 with 2 Axes>"
            ],
            "image/png": "[encoded data removed]"
          },
          "metadata": {}
        }
      ],
      "source": [
        "# Define a function to plot top words\n",
        "def plot_top_words(category, n, ax):\n",
        "    df = word_cnt[word_cnt['Target'] == category].drop(columns = 'Target').T\n",
        "    df.columns = ['Frequency']\n",
        "    df = df.sort_values(by = 'Frequency', ascending = False).head(n)\n",
        "\n",
        "    sns.barplot(x = df['Frequency'], y = df.index, color = 'skyblue', ax = ax)\n",
        "    ax.set_title(f'Top {n} words in category {category}')\n",
        "    ax.set_ylabel('')\n",
        "\n",
        "    return ax\n",
        "\n",
        "# Plot top 15 words of both categories\n",
        "fig, ax = plt.subplots(nrows = 1, ncols = 2, figsize = (10, 5))\n",
        "plt.subplots_adjust(wspace = 0.5)\n",
        "for i, category in enumerate(clean_train['Target'].unique()):\n",
        "    plot_top_words(category, 15, ax[i])"
      ]
    },
    {
      "cell_type": "markdown",
      "metadata": {
        "id": "zdQimECICzbI"
      },
      "source": [
        "All of the top words in both categories are unigrams. While some of the top words in category 1 appear more intense, such as 'suicide', 'fire', 'storm', and 'disaster', there are also overlaps between the two categories, with words like 'emergency', 'burning', 'people', 'just', and 'like' appearing in both plots.\n",
        "\n",
        "I will plot top bigrams of the two categories to see if it looks different."
      ]
    },
    {
      "cell_type": "code",
      "execution_count": null,
      "metadata": {
        "id": "qnD3Ecj8CzbI",
        "outputId": "6f3c3616-91e1-4c55-8461-019da4cffee6",
        "colab": {
          "base_uri": "https://localhost:8080/",
          "height": 487
        }
      },
      "outputs": [
        {
          "output_type": "display_data",
          "data": {
            "text/plain": [
              "<Figure size 1000x500 with 2 Axes>"
            ],
            "image/png": "[encoded data removed]"
          },
          "metadata": {}
        }
      ],
      "source": [
        "# Define a function to plot top bigrams:\n",
        "def plot_top_bigrams(category, n, ax):\n",
        "    df = word_cnt[word_cnt['Target'] == category].drop(columns = 'Target').T\n",
        "    df.columns = ['Frequency']\n",
        "    df_bigrams = df[df.index.str.contains(' ')]\n",
        "    df_bigrams = df_bigrams.sort_values(by = 'Frequency', ascending = False).head(n)\n",
        "\n",
        "    sns.barplot(x = df_bigrams['Frequency'], y = df_bigrams.index, color = 'skyblue', ax = ax)\n",
        "    ax.set_title(f'Top {n} Bigrams in Category {category}')\n",
        "    ax.set_ylabel('')\n",
        "\n",
        "    return ax\n",
        "\n",
        "# Plot top 15 bigrams of both categories\n",
        "fig, ax = plt.subplots(nrows = 1, ncols = 2, figsize = (10, 5))\n",
        "plt.subplots_adjust(wspace = 0.5)\n",
        "for i, category in enumerate(clean_train['Target'].unique()):\n",
        "    plot_top_bigrams(category, 15, ax[i])"
      ]
    },
    {
      "cell_type": "markdown",
      "metadata": {
        "id": "RnT_U2NCCzbJ"
      },
      "source": [
        "Similar to the previous top words plots, there are words we may naturally associate with 'disaster' appearing in the top 15 bigrams of category 0 (non-disaster), such as 'body bags' and 'mass murderer'. There are also overlaps between the two categories, with bigrams like 'burning buildings', 'natural disaster', and 'emergency plan' appearing in both plots.\n",
        "\n",
        "These overlaps make the distinction between the two categories fairly small in terms of top words and bigrams.\n",
        "  \n",
        "    \n",
        "**Summary of EDA**  \n",
        "    \n",
        "Here is what I have done during the EDA:  \n",
        "\n",
        "* Extracted linguistic features from the text data, and discovered statistically significant difference between the two categories of tweets in terms of the number of mentions, hashtags, URLs, irregular punctuation usage, sentence length, and word length using an ANOVA test.\n",
        "\n",
        "* Checked the proportion of each target label in the training set and discovered the slightly imbalanced nature of the dataset(59% vs. 41%).  \n",
        "\n",
        "* Analyzed the top words in each target category and found that words we may naturally associate with 'disaster' appear in the plot for category 0 (non-disaster). There are also overlaps in both plots, making the distinction between the two categories fairly small in terms of top words.  \n",
        "  \n",
        "\n",
        "**Potential Challenges:**\n",
        "\n",
        "**I. Imbalanced Dataset**  \n",
        "  \n",
        "The slightly imbalanced nature of the dataset might pose a challenge. I will first use the 'stratify' parameter when splitting the data into training and validation sets to ensure the same label distribution, and then set 'class_weight' parameter during training.  \n",
        "\n",
        "**II. Overlaps of Top Words**  \n",
        "  \n",
        "The overlap of top words blurs the boundary between the two target labels, which might challenge the models we are about to build. Using a word embedding method that considers the context in which the word appears, such as BERT, might provide more valuable information in this case and perform better.  "
      ]
    },
    {
      "cell_type": "code",
      "execution_count": null,
      "metadata": {
        "id": "gqPZZ47LCzbJ"
      },
      "outputs": [],
      "source": [
        "# Save clean_train and clean_test dataframe\n",
        "clean_train.to_csv('/content/drive/MyDrive/ColabNotebooks/Disaster_tweets/clean_train.csv', index = False)\n",
        "clean_test.to_csv('/content/drive/MyDrive/ColabNotebooks/Disaster_tweets/clean_test.csv', index = False)"
      ]
    },
    {
      "cell_type": "markdown",
      "metadata": {
        "id": "porUmeKMCzbJ"
      },
      "source": [
        "### Modeling  \n",
        "\n",
        "**Word Embedding**  \n",
        "\n",
        "BERT embeddings are known for their ability to represent words in a way that captures their meaning within specific contexts. Given the challenge of overlapping words between the two target labels, BERT's contextual word embedding is a good choice.\n",
        "  \n",
        "**Model**  \n",
        "\n",
        "Long Short-Term Memory (LSTM), a type of Recurrent Neural Network (RNN), will be used in this project. It is known for its capability to mitigate the vanishing gradient problem commonly encountered in traditional RNNs and is well-suited for handling sequential data, as RNNs do.\n",
        "\n",
        "**Evaluation**  \n",
        "\n",
        "For evaluation, accuracy will be used as the metric during training since it is more intuitive. However, when comparing different models, I will use `classification_report`, which includes key classification metrics such as precision, recall, and F1-score, to gain a more comprehensive understanding of model performance—especially given that the dataset is slightly imbalanced."
      ]
    },
    {
      "cell_type": "code",
      "execution_count": null,
      "metadata": {
        "id": "QY-9JQtZCzbJ"
      },
      "outputs": [],
      "source": [
        "# Split the 'clean_train' dataset into training and validation set\n",
        "tra, val = train_test_split(clean_train, test_size = 0.2, stratify = clean_train['Target'], random_state = 6)"
      ]
    },
    {
      "cell_type": "code",
      "execution_count": null,
      "metadata": {
        "id": "UHqxWQYGCzbK",
        "colab": {
          "base_uri": "https://localhost:8080/",
          "height": 301,
          "referenced_widgets": [
            "c874839e840f471aad2b59bc3fcfc6a4",
            "51cf69982aed40f497c8bc4ed7908cad",
            "ce1e356ba4824c0f81837eec7cf77f23",
            "d24b140873484c7393a77133376d3200",
            "406496c113d74ed1b06f51a336716b35",
            "0474c9e54d4b48e2a55b7c67e100acf0",
            "8f602b6bf54a41a5bbb0e64dbb22f37a",
            "a033ccaa1f9a441a9c09073b122ce9c0",
            "ddc8eec4c7a040f2aac3c504bb8935ed",
            "a386a2cb11004c0c9946937fd047870a",
            "d634faf44a6b4b4cbf4ad71a88525a44",
            "0f21bbce0d2a436b8934cb8e422970f7",
            "332746fe82d3474087263640a57e6403",
            "988149e9af0f423f963408da4ebf4de0",
            "a2319e8737b54765a0448c05133c963c",
            "34d2c17bdeb14cbc94a498e4b2f12a4a",
            "b37f4e5334bd489bbb59df62149fab53",
            "0a839ab4247e47fab5b6ca88b2d2b54f",
            "0cfb816db2464e7b8a7d60ff633a806f",
            "942b59e945074b4698c97a99537eb9e4",
            "6c0f1567b11f43b2ae0a6e2d2857b9b5",
            "800086e460834faebaaa7a52f2ec204b",
            "49e30bd2186e4951b3e49501e4381afd",
            "f4eccfa284a943ee942bdec356bff03a",
            "2ed11d6c882c4ddb8b05dc7cff1a8939",
            "46e230013a544d92b88564fabce88e4e",
            "f9487fdb87534975b4704c04cd488d03",
            "8f89e9ccc8094640b54ae474f4440276",
            "2fdb6152e13e4ed78898432b41890b2f",
            "a0f524369a504388aaf93bcac001ca5b",
            "d98885e8adfb4c148188870e8e5639b4",
            "f42f22ad6aef4b1a8e6b143478085300",
            "19439d3c13de4c0780b040ab8bec6149",
            "2ecd42472815415eb02970cd3992bc2b",
            "ec6b3e8692b64c2c9199bc4b34bef55f",
            "b6f3b268186743f0be341f5d9a72f582",
            "99262dceacc94deea961f68098fac135",
            "29a6183772774780accaadd03d07c135",
            "c96f9db610654a728a4de5963b6fa540",
            "d05d418315424b8a894f51f4dabc254e",
            "7dd16f5a4e79412ca7a5de6db634708f",
            "affea81a8dc04108a59f4f6fe264acee",
            "d58c6f1f40664ef5b871dc63a3356310",
            "2200b65cb463467f9a4ae7d6249923f0",
            "62dad9f5d3ac4c64b546ca2cf893deed",
            "b7f9dd0ec9cc4f128ad39bcf4db05d7b",
            "de35b6355e0a444eacbb3189e9f9f22c",
            "8474767906b54ba0a9746968bc26ed73",
            "c049cf307f6b4d75979e59f05b2b884e",
            "3aaae3abe2d84e4ebe85360aaaa75571",
            "d6ebcbe3977e44eea98e913029d199e5",
            "0d29511ac8d04467a90c8a689f2ad0d2",
            "e9a2641b59df417b8b89ca24114c9533",
            "07873d69f4834a4b8c3c3ee9b1c22b17",
            "13d3d19997b44c78aca8112eaa3a72df"
          ]
        },
        "collapsed": true,
        "outputId": "55e764ef-dd62-4e37-f59e-2fa8f12dc85f"
      },
      "outputs": [
        {
          "output_type": "stream",
          "name": "stderr",
          "text": [
            "/usr/local/lib/python3.11/dist-packages/huggingface_hub/utils/_auth.py:94: UserWarning: \n",
            "The secret `HF_TOKEN` does not exist in your Colab secrets.\n",
            "To authenticate with the Hugging Face Hub, create a token in your settings tab (https://huggingface.co/settings/tokens), set it as secret in your Google Colab and restart your session.\n",
            "You will be able to reuse this secret in all of your notebooks.\n",
            "Please note that authentication is recommended but still optional to access public models or datasets.\n",
            "  warnings.warn(\n"
          ]
        },
        {
          "output_type": "display_data",
          "data": {
            "text/plain": [
              "tokenizer_config.json:   0%|          | 0.00/48.0 [00:00<?, ?B/s]"
            ],
            "application/vnd.jupyter.widget-view+json": {
              "version_major": 2,
              "version_minor": 0,
              "model_id": "c874839e840f471aad2b59bc3fcfc6a4"
            }
          },
          "metadata": {}
        },
        {
          "output_type": "display_data",
          "data": {
            "text/plain": [
              "vocab.txt:   0%|          | 0.00/232k [00:00<?, ?B/s]"
            ],
            "application/vnd.jupyter.widget-view+json": {
              "version_major": 2,
              "version_minor": 0,
              "model_id": "0f21bbce0d2a436b8934cb8e422970f7"
            }
          },
          "metadata": {}
        },
        {
          "output_type": "display_data",
          "data": {
            "text/plain": [
              "tokenizer.json:   0%|          | 0.00/466k [00:00<?, ?B/s]"
            ],
            "application/vnd.jupyter.widget-view+json": {
              "version_major": 2,
              "version_minor": 0,
              "model_id": "49e30bd2186e4951b3e49501e4381afd"
            }
          },
          "metadata": {}
        },
        {
          "output_type": "display_data",
          "data": {
            "text/plain": [
              "config.json:   0%|          | 0.00/570 [00:00<?, ?B/s]"
            ],
            "application/vnd.jupyter.widget-view+json": {
              "version_major": 2,
              "version_minor": 0,
              "model_id": "2ecd42472815415eb02970cd3992bc2b"
            }
          },
          "metadata": {}
        },
        {
          "output_type": "display_data",
          "data": {
            "text/plain": [
              "model.safetensors:   0%|          | 0.00/440M [00:00<?, ?B/s]"
            ],
            "application/vnd.jupyter.widget-view+json": {
              "version_major": 2,
              "version_minor": 0,
              "model_id": "62dad9f5d3ac4c64b546ca2cf893deed"
            }
          },
          "metadata": {}
        }
      ],
      "source": [
        "# Load bert tokenizer and bert base model\n",
        "bert_tokenizer = BertTokenizer.from_pretrained('bert-base-uncased')\n",
        "bert_model = BertModel.from_pretrained('bert-base-uncased')"
      ]
    },
    {
      "cell_type": "code",
      "source": [
        "# Check the number of words in tweets\n",
        "clean_train['cleaned_text'].str.split().str.len().describe()"
      ],
      "metadata": {
        "colab": {
          "base_uri": "https://localhost:8080/",
          "height": 335
        },
        "id": "nhnpQgDKlESx",
        "outputId": "33f163b3-bdf9-4d7f-df1e-f4ccbe474387"
      },
      "execution_count": null,
      "outputs": [
        {
          "output_type": "execute_result",
          "data": {
            "text/plain": [
              "count    6798.000000\n",
              "mean       14.770815\n",
              "std         6.110778\n",
              "min         1.000000\n",
              "25%        10.000000\n",
              "50%        15.000000\n",
              "75%        19.000000\n",
              "max        32.000000\n",
              "Name: cleaned_text, dtype: float64"
            ],
            "text/html": [
              "<div>\n",
              "<style scoped>\n",
              "    .dataframe tbody tr th:only-of-type {\n",
              "        vertical-align: middle;\n",
              "    }\n",
              "\n",
              "    .dataframe tbody tr th {\n",
              "        vertical-align: top;\n",
              "    }\n",
              "\n",
              "    .dataframe thead th {\n",
              "        text-align: right;\n",
              "    }\n",
              "</style>\n",
              "<table border=\"1\" class=\"dataframe\">\n",
              "  <thead>\n",
              "    <tr style=\"text-align: right;\">\n",
              "      <th></th>\n",
              "      <th>cleaned_text</th>\n",
              "    </tr>\n",
              "  </thead>\n",
              "  <tbody>\n",
              "    <tr>\n",
              "      <th>count</th>\n",
              "      <td>6798.000000</td>\n",
              "    </tr>\n",
              "    <tr>\n",
              "      <th>mean</th>\n",
              "      <td>14.770815</td>\n",
              "    </tr>\n",
              "    <tr>\n",
              "      <th>std</th>\n",
              "      <td>6.110778</td>\n",
              "    </tr>\n",
              "    <tr>\n",
              "      <th>min</th>\n",
              "      <td>1.000000</td>\n",
              "    </tr>\n",
              "    <tr>\n",
              "      <th>25%</th>\n",
              "      <td>10.000000</td>\n",
              "    </tr>\n",
              "    <tr>\n",
              "      <th>50%</th>\n",
              "      <td>15.000000</td>\n",
              "    </tr>\n",
              "    <tr>\n",
              "      <th>75%</th>\n",
              "      <td>19.000000</td>\n",
              "    </tr>\n",
              "    <tr>\n",
              "      <th>max</th>\n",
              "      <td>32.000000</td>\n",
              "    </tr>\n",
              "  </tbody>\n",
              "</table>\n",
              "</div><br><label><b>dtype:</b> float64</label>"
            ]
          },
          "metadata": {},
          "execution_count": 35
        }
      ]
    },
    {
      "cell_type": "markdown",
      "source": [
        "The maximum number of words in the tweets is 32. I will set the `max_length` of the BERT tokenizer to 40 to account for punctuation and potential split tokens due to unrecognized vocabulary."
      ],
      "metadata": {
        "id": "qH9wvPYvlN4W"
      }
    },
    {
      "cell_type": "code",
      "execution_count": null,
      "metadata": {
        "id": "nhfvikiPCzbK"
      },
      "outputs": [],
      "source": [
        "# Define a function to get the last hidden state of bert embedding\n",
        "def bert_embedding(texts):\n",
        "    inputs = bert_tokenizer(texts.tolist(), return_tensors='pt', padding=True, truncation=True,\n",
        "                            add_special_tokens=True, max_length=40)\n",
        "    with torch.no_grad():\n",
        "      outputs = bert_model(**inputs)\n",
        "\n",
        "    token_embeddings = outputs.last_hidden_state\n",
        "\n",
        "    return token_embeddings.detach().numpy()"
      ]
    },
    {
      "cell_type": "code",
      "execution_count": null,
      "metadata": {
        "id": "WucM2n3KCzbK"
      },
      "outputs": [],
      "source": [
        "# Reset the index of the training and validation datasets to ensure that the following code, which references the index, works correctly\n",
        "tra = tra.reset_index(drop = True)\n",
        "val = val.reset_index(drop = True)\n",
        "\n",
        "# Get BERT Embeddings for tra and val dataset\n",
        "tra_embeddings = bert_embedding(tra['cleaned_text'])\n",
        "val_embeddings = bert_embedding(val['cleaned_text'])\n",
        "\n",
        "# Save the embeddings as a Numpy file\n",
        "np.save('/content/drive/MyDrive/ColabNotebooks/Disaster_tweets/tra_embeddings.npy', tra_embeddings)\n",
        "np.save('/content/drive/MyDrive/ColabNotebooks/Disaster_tweets/val_embeddings.npy', val_embeddings)"
      ]
    },
    {
      "cell_type": "code",
      "source": [
        "# Save tra and val just in case Google Colab disconnect\n",
        "tra.to_csv('/content/drive/MyDrive/ColabNotebooks/Disaster_tweets/tra.csv', index = False)\n",
        "val.to_csv('/content/drive/MyDrive/ColabNotebooks/Disaster_tweets/val.csv', index = False)"
      ],
      "metadata": {
        "id": "Vxa7vh4-uIPw"
      },
      "execution_count": null,
      "outputs": []
    },
    {
      "cell_type": "markdown",
      "source": [
        "**First LTSM Model**\n",
        "\n",
        "I will train a simple LSTM model with the following architecture---\n",
        "\n",
        "* Structure: [LSTM(128)]-[Dense(64)]-[Sigmoid]\n",
        "* Activation functions: ReLU for Dense layer, sigmoid for the output layer\n",
        "* Regularization: L2 regularization, Batch Normalization, Dropout\n",
        "* Opimization method: Adam\n",
        "* Learning rate: start from 0.001\n",
        "* Callbacks: Model Checkpoint, Early Stopping, Reduced learning rate\n",
        "\n",
        "---as the dataset is not large, only 6798 samples in the entire training set after cleaning. Moreover, it has been split into an 80% training set and a 20% validation set"
      ],
      "metadata": {
        "id": "NyHPEyAv2Pit"
      }
    },
    {
      "cell_type": "code",
      "source": [
        "BATCH_SIZE = 64\n",
        "\n",
        "# Build a LSTM model\n",
        "lstm1 = Sequential([\n",
        "    LSTM(128, input_shape = (40, 768)),\n",
        "    Dense(64, kernel_regularizer = l2(0.001)),\n",
        "    BatchNormalization(),\n",
        "    Activation('relu'),\n",
        "    Dropout(0.3),\n",
        "    Dense(1, activation = 'sigmoid')\n",
        "])\n",
        "\n",
        "lstm1.summary()"
      ],
      "metadata": {
        "colab": {
          "base_uri": "https://localhost:8080/",
          "height": 392
        },
        "id": "3aT6YPDM2HMK",
        "outputId": "9edab298-58f8-40fe-9aaa-4438a3c9bc39"
      },
      "execution_count": null,
      "outputs": [
        {
          "output_type": "stream",
          "name": "stderr",
          "text": [
            "/usr/local/lib/python3.11/dist-packages/keras/src/layers/rnn/rnn.py:200: UserWarning: Do not pass an `input_shape`/`input_dim` argument to a layer. When using Sequential models, prefer using an `Input(shape)` object as the first layer in the model instead.\n",
            "  super().__init__(**kwargs)\n"
          ]
        },
        {
          "output_type": "display_data",
          "data": {
            "text/plain": [
              "\u001b[1mModel: \"sequential_3\"\u001b[0m\n"
            ],
            "text/html": [
              "<pre style=\"white-space:pre;overflow-x:auto;line-height:normal;font-family:Menlo,'DejaVu Sans Mono',consolas,'Courier New',monospace\"><span style=\"font-weight: bold\">Model: \"sequential_3\"</span>\n",
              "</pre>\n"
            ]
          },
          "metadata": {}
        },
        {
          "output_type": "display_data",
          "data": {
            "text/plain": [
              "┏━━━━━━━━━━━━━━━━━━━━━━━━━━━━━━━━━━━━━━┳━━━━━━━━━━━━━━━━━━━━━━━━━━━━━┳━━━━━━━━━━━━━━━━━┓\n",
              "┃\u001b[1m \u001b[0m\u001b[1mLayer (type)                        \u001b[0m\u001b[1m \u001b[0m┃\u001b[1m \u001b[0m\u001b[1mOutput Shape               \u001b[0m\u001b[1m \u001b[0m┃\u001b[1m \u001b[0m\u001b[1m        Param #\u001b[0m\u001b[1m \u001b[0m┃\n",
              "┡━━━━━━━━━━━━━━━━━━━━━━━━━━━━━━━━━━━━━━╇━━━━━━━━━━━━━━━━━━━━━━━━━━━━━╇━━━━━━━━━━━━━━━━━┩\n",
              "│ lstm_3 (\u001b[38;5;33mLSTM\u001b[0m)                        │ (\u001b[38;5;45mNone\u001b[0m, \u001b[38;5;34m128\u001b[0m)                 │         \u001b[38;5;34m459,264\u001b[0m │\n",
              "├──────────────────────────────────────┼─────────────────────────────┼─────────────────┤\n",
              "│ dense_6 (\u001b[38;5;33mDense\u001b[0m)                      │ (\u001b[38;5;45mNone\u001b[0m, \u001b[38;5;34m64\u001b[0m)                  │           \u001b[38;5;34m8,256\u001b[0m │\n",
              "├──────────────────────────────────────┼─────────────────────────────┼─────────────────┤\n",
              "│ batch_normalization_3                │ (\u001b[38;5;45mNone\u001b[0m, \u001b[38;5;34m64\u001b[0m)                  │             \u001b[38;5;34m256\u001b[0m │\n",
              "│ (\u001b[38;5;33mBatchNormalization\u001b[0m)                 │                             │                 │\n",
              "├──────────────────────────────────────┼─────────────────────────────┼─────────────────┤\n",
              "│ activation_3 (\u001b[38;5;33mActivation\u001b[0m)            │ (\u001b[38;5;45mNone\u001b[0m, \u001b[38;5;34m64\u001b[0m)                  │               \u001b[38;5;34m0\u001b[0m │\n",
              "├──────────────────────────────────────┼─────────────────────────────┼─────────────────┤\n",
              "│ dropout_3 (\u001b[38;5;33mDropout\u001b[0m)                  │ (\u001b[38;5;45mNone\u001b[0m, \u001b[38;5;34m64\u001b[0m)                  │               \u001b[38;5;34m0\u001b[0m │\n",
              "├──────────────────────────────────────┼─────────────────────────────┼─────────────────┤\n",
              "│ dense_7 (\u001b[38;5;33mDense\u001b[0m)                      │ (\u001b[38;5;45mNone\u001b[0m, \u001b[38;5;34m1\u001b[0m)                   │              \u001b[38;5;34m65\u001b[0m │\n",
              "└──────────────────────────────────────┴─────────────────────────────┴─────────────────┘\n"
            ],
            "text/html": [
              "<pre style=\"white-space:pre;overflow-x:auto;line-height:normal;font-family:Menlo,'DejaVu Sans Mono',consolas,'Courier New',monospace\">┏━━━━━━━━━━━━━━━━━━━━━━━━━━━━━━━━━━━━━━┳━━━━━━━━━━━━━━━━━━━━━━━━━━━━━┳━━━━━━━━━━━━━━━━━┓\n",
              "┃<span style=\"font-weight: bold\"> Layer (type)                         </span>┃<span style=\"font-weight: bold\"> Output Shape                </span>┃<span style=\"font-weight: bold\">         Param # </span>┃\n",
              "┡━━━━━━━━━━━━━━━━━━━━━━━━━━━━━━━━━━━━━━╇━━━━━━━━━━━━━━━━━━━━━━━━━━━━━╇━━━━━━━━━━━━━━━━━┩\n",
              "│ lstm_3 (<span style=\"color: #0087ff; text-decoration-color: #0087ff\">LSTM</span>)                        │ (<span style=\"color: #00d7ff; text-decoration-color: #00d7ff\">None</span>, <span style=\"color: #00af00; text-decoration-color: #00af00\">128</span>)                 │         <span style=\"color: #00af00; text-decoration-color: #00af00\">459,264</span> │\n",
              "├──────────────────────────────────────┼─────────────────────────────┼─────────────────┤\n",
              "│ dense_6 (<span style=\"color: #0087ff; text-decoration-color: #0087ff\">Dense</span>)                      │ (<span style=\"color: #00d7ff; text-decoration-color: #00d7ff\">None</span>, <span style=\"color: #00af00; text-decoration-color: #00af00\">64</span>)                  │           <span style=\"color: #00af00; text-decoration-color: #00af00\">8,256</span> │\n",
              "├──────────────────────────────────────┼─────────────────────────────┼─────────────────┤\n",
              "│ batch_normalization_3                │ (<span style=\"color: #00d7ff; text-decoration-color: #00d7ff\">None</span>, <span style=\"color: #00af00; text-decoration-color: #00af00\">64</span>)                  │             <span style=\"color: #00af00; text-decoration-color: #00af00\">256</span> │\n",
              "│ (<span style=\"color: #0087ff; text-decoration-color: #0087ff\">BatchNormalization</span>)                 │                             │                 │\n",
              "├──────────────────────────────────────┼─────────────────────────────┼─────────────────┤\n",
              "│ activation_3 (<span style=\"color: #0087ff; text-decoration-color: #0087ff\">Activation</span>)            │ (<span style=\"color: #00d7ff; text-decoration-color: #00d7ff\">None</span>, <span style=\"color: #00af00; text-decoration-color: #00af00\">64</span>)                  │               <span style=\"color: #00af00; text-decoration-color: #00af00\">0</span> │\n",
              "├──────────────────────────────────────┼─────────────────────────────┼─────────────────┤\n",
              "│ dropout_3 (<span style=\"color: #0087ff; text-decoration-color: #0087ff\">Dropout</span>)                  │ (<span style=\"color: #00d7ff; text-decoration-color: #00d7ff\">None</span>, <span style=\"color: #00af00; text-decoration-color: #00af00\">64</span>)                  │               <span style=\"color: #00af00; text-decoration-color: #00af00\">0</span> │\n",
              "├──────────────────────────────────────┼─────────────────────────────┼─────────────────┤\n",
              "│ dense_7 (<span style=\"color: #0087ff; text-decoration-color: #0087ff\">Dense</span>)                      │ (<span style=\"color: #00d7ff; text-decoration-color: #00d7ff\">None</span>, <span style=\"color: #00af00; text-decoration-color: #00af00\">1</span>)                   │              <span style=\"color: #00af00; text-decoration-color: #00af00\">65</span> │\n",
              "└──────────────────────────────────────┴─────────────────────────────┴─────────────────┘\n",
              "</pre>\n"
            ]
          },
          "metadata": {}
        },
        {
          "output_type": "display_data",
          "data": {
            "text/plain": [
              "\u001b[1m Total params: \u001b[0m\u001b[38;5;34m467,841\u001b[0m (1.78 MB)\n"
            ],
            "text/html": [
              "<pre style=\"white-space:pre;overflow-x:auto;line-height:normal;font-family:Menlo,'DejaVu Sans Mono',consolas,'Courier New',monospace\"><span style=\"font-weight: bold\"> Total params: </span><span style=\"color: #00af00; text-decoration-color: #00af00\">467,841</span> (1.78 MB)\n",
              "</pre>\n"
            ]
          },
          "metadata": {}
        },
        {
          "output_type": "display_data",
          "data": {
            "text/plain": [
              "\u001b[1m Trainable params: \u001b[0m\u001b[38;5;34m467,713\u001b[0m (1.78 MB)\n"
            ],
            "text/html": [
              "<pre style=\"white-space:pre;overflow-x:auto;line-height:normal;font-family:Menlo,'DejaVu Sans Mono',consolas,'Courier New',monospace\"><span style=\"font-weight: bold\"> Trainable params: </span><span style=\"color: #00af00; text-decoration-color: #00af00\">467,713</span> (1.78 MB)\n",
              "</pre>\n"
            ]
          },
          "metadata": {}
        },
        {
          "output_type": "display_data",
          "data": {
            "text/plain": [
              "\u001b[1m Non-trainable params: \u001b[0m\u001b[38;5;34m128\u001b[0m (512.00 B)\n"
            ],
            "text/html": [
              "<pre style=\"white-space:pre;overflow-x:auto;line-height:normal;font-family:Menlo,'DejaVu Sans Mono',consolas,'Courier New',monospace\"><span style=\"font-weight: bold\"> Non-trainable params: </span><span style=\"color: #00af00; text-decoration-color: #00af00\">128</span> (512.00 B)\n",
              "</pre>\n"
            ]
          },
          "metadata": {}
        }
      ]
    },
    {
      "cell_type": "code",
      "source": [
        "# Compile the LSTM model with optimizer, loss function and metric\n",
        "lstm1.compile(optimizer = Adam(learning_rate = 0.001),\n",
        "              loss = 'binary_crossentropy',\n",
        "              metrics = ['accuracy'])"
      ],
      "metadata": {
        "id": "DEHBXiWE5Jck"
      },
      "execution_count": null,
      "outputs": []
    },
    {
      "cell_type": "code",
      "source": [
        "# Compute class_weight\n",
        "train_weight = compute_class_weight(class_weight = 'balanced', classes = np.unique(tra['Target']),\n",
        "                                    y = tra['Target'])\n",
        "train_weight = dict(enumerate(train_weight))\n",
        "print(train_weight)"
      ],
      "metadata": {
        "colab": {
          "base_uri": "https://localhost:8080/"
        },
        "id": "zZlK3ebT5mDo",
        "outputId": "6c146db0-0986-4b41-aac8-25bb01d65a9f"
      },
      "execution_count": null,
      "outputs": [
        {
          "output_type": "stream",
          "name": "stdout",
          "text": [
            "{0: 0.8420563641994425, 1: 1.2308736985061113}\n"
          ]
        }
      ]
    },
    {
      "cell_type": "code",
      "source": [
        "# Define callbacks\n",
        "model_checkpoint = ModelCheckpoint(\n",
        "    filepath = '/content/drive/MyDrive/ColabNotebooks/Disaster_tweets/disaster_tweets_lstm1.keras',\n",
        "    monitor = 'val_accuracy',\n",
        "    save_best_only = True,\n",
        "    mode = 'max'\n",
        ")\n",
        "\n",
        "early_stopping = EarlyStopping(\n",
        "    monitor = 'val_accuracy',\n",
        "    patience = 5,\n",
        "    verbose = 1,\n",
        "    restore_best_weights = True\n",
        ")\n",
        "\n",
        "reduce_lr = ReduceLROnPlateau(\n",
        "    monitor = 'val_accuracy',\n",
        "    factor = 0.5,\n",
        "    patience = 3,\n",
        "    verbose = 1,\n",
        "    min_lr = 1e-6\n",
        ")"
      ],
      "metadata": {
        "id": "1j6vM0G06j65"
      },
      "execution_count": null,
      "outputs": []
    },
    {
      "cell_type": "code",
      "source": [
        "history1 = lstm1.fit(\n",
        "    tra_embeddings,\n",
        "    tra['Target'],\n",
        "    steps_per_epoch = math.ceil(tra.shape[0]/BATCH_SIZE),\n",
        "    batch_size = BATCH_SIZE,\n",
        "    validation_data = (val_embeddings, val['Target']),\n",
        "    validation_steps = math.ceil(val.shape[0]/BATCH_SIZE),\n",
        "    epochs = 30,\n",
        "    class_weight = train_weight,\n",
        "    callbacks = [model_checkpoint, early_stopping, reduce_lr]\n",
        ")"
      ],
      "metadata": {
        "colab": {
          "base_uri": "https://localhost:8080/"
        },
        "id": "W_trQEeC73zx",
        "outputId": "9241bdda-86c1-4e01-b666-5f4e952dea26"
      },
      "execution_count": null,
      "outputs": [
        {
          "output_type": "stream",
          "name": "stdout",
          "text": [
            "Epoch 1/30\n",
            "\u001b[1m85/85\u001b[0m \u001b[32m━━━━━━━━━━━━━━━━━━━━\u001b[0m\u001b[37m\u001b[0m \u001b[1m5s\u001b[0m 31ms/step - accuracy: 0.6925 - loss: 0.6767 - val_accuracy: 0.7963 - val_loss: 0.6009 - learning_rate: 0.0010\n",
            "Epoch 2/30\n",
            "\u001b[1m85/85\u001b[0m \u001b[32m━━━━━━━━━━━━━━━━━━━━\u001b[0m\u001b[37m\u001b[0m \u001b[1m2s\u001b[0m 22ms/step - accuracy: 0.8136 - loss: 0.5003 - val_accuracy: 0.7963 - val_loss: 0.5397 - learning_rate: 0.0010\n",
            "Epoch 3/30\n",
            "\u001b[1m85/85\u001b[0m \u001b[32m━━━━━━━━━━━━━━━━━━━━\u001b[0m\u001b[37m\u001b[0m \u001b[1m2s\u001b[0m 15ms/step - accuracy: 0.8378 - loss: 0.4493 - val_accuracy: 0.7875 - val_loss: 0.5307 - learning_rate: 0.0010\n",
            "Epoch 4/30\n",
            "\u001b[1m81/85\u001b[0m \u001b[32m━━━━━━━━━━━━━━━━━━━\u001b[0m\u001b[37m━\u001b[0m \u001b[1m0s\u001b[0m 12ms/step - accuracy: 0.8578 - loss: 0.3938\n",
            "Epoch 4: ReduceLROnPlateau reducing learning rate to 0.0005000000237487257.\n",
            "\u001b[1m85/85\u001b[0m \u001b[32m━━━━━━━━━━━━━━━━━━━━\u001b[0m\u001b[37m\u001b[0m \u001b[1m1s\u001b[0m 15ms/step - accuracy: 0.8582 - loss: 0.3928 - val_accuracy: 0.7449 - val_loss: 0.5872 - learning_rate: 0.0010\n",
            "Epoch 5/30\n",
            "\u001b[1m85/85\u001b[0m \u001b[32m━━━━━━━━━━━━━━━━━━━━\u001b[0m\u001b[37m\u001b[0m \u001b[1m1s\u001b[0m 16ms/step - accuracy: 0.8903 - loss: 0.3297 - val_accuracy: 0.7971 - val_loss: 0.5283 - learning_rate: 5.0000e-04\n",
            "Epoch 6/30\n",
            "\u001b[1m85/85\u001b[0m \u001b[32m━━━━━━━━━━━━━━━━━━━━\u001b[0m\u001b[37m\u001b[0m \u001b[1m4s\u001b[0m 29ms/step - accuracy: 0.9135 - loss: 0.2774 - val_accuracy: 0.7765 - val_loss: 0.5891 - learning_rate: 5.0000e-04\n",
            "Epoch 7/30\n",
            "\u001b[1m85/85\u001b[0m \u001b[32m━━━━━━━━━━━━━━━━━━━━\u001b[0m\u001b[37m\u001b[0m \u001b[1m2s\u001b[0m 19ms/step - accuracy: 0.9307 - loss: 0.2255 - val_accuracy: 0.7860 - val_loss: 0.6252 - learning_rate: 5.0000e-04\n",
            "Epoch 8/30\n",
            "\u001b[1m83/85\u001b[0m \u001b[32m━━━━━━━━━━━━━━━━━━━\u001b[0m\u001b[37m━\u001b[0m \u001b[1m0s\u001b[0m 15ms/step - accuracy: 0.9586 - loss: 0.1802\n",
            "Epoch 8: ReduceLROnPlateau reducing learning rate to 0.0002500000118743628.\n",
            "\u001b[1m85/85\u001b[0m \u001b[32m━━━━━━━━━━━━━━━━━━━━\u001b[0m\u001b[37m\u001b[0m \u001b[1m2s\u001b[0m 18ms/step - accuracy: 0.9588 - loss: 0.1797 - val_accuracy: 0.7809 - val_loss: 0.6829 - learning_rate: 5.0000e-04\n",
            "Epoch 9/30\n",
            "\u001b[1m85/85\u001b[0m \u001b[32m━━━━━━━━━━━━━━━━━━━━\u001b[0m\u001b[37m\u001b[0m \u001b[1m2s\u001b[0m 21ms/step - accuracy: 0.9735 - loss: 0.1383 - val_accuracy: 0.7728 - val_loss: 0.7794 - learning_rate: 2.5000e-04\n",
            "Epoch 10/30\n",
            "\u001b[1m85/85\u001b[0m \u001b[32m━━━━━━━━━━━━━━━━━━━━\u001b[0m\u001b[37m\u001b[0m \u001b[1m2s\u001b[0m 15ms/step - accuracy: 0.9806 - loss: 0.1199 - val_accuracy: 0.7713 - val_loss: 0.8031 - learning_rate: 2.5000e-04\n",
            "Epoch 10: early stopping\n",
            "Restoring model weights from the end of the best epoch: 5.\n"
          ]
        }
      ]
    },
    {
      "cell_type": "markdown",
      "source": [
        "The model stopped training at epoch 10. The best validation accuracy 0.7971 occurs in epoch 5, when the training accuracy was 0.8903. The training accuracy continue improving after that, while the validation accuracy fluctuated, indicating an overfitting.\n",
        "\n",
        "I will add the meta and linguistic features into the model, before the dense layer, and see if it improves the performance.\n",
        "\n",
        "**Add meta & linguistics features**\n"
      ],
      "metadata": {
        "id": "htoywWNT9QQ4"
      }
    },
    {
      "cell_type": "code",
      "source": [
        "# Extra meta & linguistic features from tra and val dataset\n",
        "meta_tra = tra[['num_mentions', 'num_hashtags', 'num_urls', 'irregular_punctuation',\n",
        "                'sentence_len', 'word_len']]\n",
        "meta_val = val[['num_mentions', 'num_hashtags', 'num_urls', 'irregular_punctuation',\n",
        "                'sentence_len', 'word_len']]\n",
        "\n",
        "# Normalize the meta & linguistic features\n",
        "meta_tra = StandardScaler().fit_transform(meta_tra)\n",
        "meta_val = StandardScaler().fit_transform(meta_val)"
      ],
      "metadata": {
        "id": "hRdASRBr0Amo"
      },
      "execution_count": null,
      "outputs": []
    },
    {
      "cell_type": "code",
      "source": [
        "# Define a function to build the model\n",
        "def build_model(lstm_units, dense_units, l2_rate, dropout_rate):\n",
        "  # Define the input for BERT Embedding\n",
        "  input_bert = Input(shape = (40, 768))\n",
        "\n",
        "  # LSTM Layer to process the BERT Embeddings\n",
        "  x = LSTM(lstm_units)(input_bert)\n",
        "\n",
        "  # Define the input for meta features\n",
        "  input_meta = Input(shape = (6,))\n",
        "\n",
        "  # Concatenate the output of LSTM with the meta features\n",
        "  x = Concatenate()([x, input_meta])\n",
        "\n",
        "  # Dense layer\n",
        "  x = Dense(dense_units, kernel_regularizer = l2(l2_rate))(x)\n",
        "  x = BatchNormalization()(x)\n",
        "  x = Activation('relu')(x)\n",
        "  x = Dropout(dropout_rate)(x)\n",
        "\n",
        "  # Output layer\n",
        "  output = Dense(1, activation = 'sigmoid')(x)\n",
        "\n",
        "  # Create the model\n",
        "  model = Model(inputs = [input_bert, input_meta], outputs = output)\n",
        "\n",
        "  return model"
      ],
      "metadata": {
        "id": "24xWDItM0aTa"
      },
      "execution_count": null,
      "outputs": []
    },
    {
      "cell_type": "code",
      "source": [
        "lstm_meta = build_model(128, 64, 0.001, 0.3)\n",
        "lstm_meta.summary()"
      ],
      "metadata": {
        "colab": {
          "base_uri": "https://localhost:8080/",
          "height": 481
        },
        "id": "UTbjfem30tmg",
        "outputId": "978b6e7d-96ca-42ea-8be8-2e68cb0df525"
      },
      "execution_count": null,
      "outputs": [
        {
          "output_type": "display_data",
          "data": {
            "text/plain": [
              "\u001b[1mModel: \"functional_1\"\u001b[0m\n"
            ],
            "text/html": [
              "<pre style=\"white-space:pre;overflow-x:auto;line-height:normal;font-family:Menlo,'DejaVu Sans Mono',consolas,'Courier New',monospace\"><span style=\"font-weight: bold\">Model: \"functional_1\"</span>\n",
              "</pre>\n"
            ]
          },
          "metadata": {}
        },
        {
          "output_type": "display_data",
          "data": {
            "text/plain": [
              "┏━━━━━━━━━━━━━━━━━━━━━━━━━━━┳━━━━━━━━━━━━━━━━━━━━━━━━┳━━━━━━━━━━━━━━━━┳━━━━━━━━━━━━━━━━━━━━━━━━┓\n",
              "┃\u001b[1m \u001b[0m\u001b[1mLayer (type)             \u001b[0m\u001b[1m \u001b[0m┃\u001b[1m \u001b[0m\u001b[1mOutput Shape          \u001b[0m\u001b[1m \u001b[0m┃\u001b[1m \u001b[0m\u001b[1m       Param #\u001b[0m\u001b[1m \u001b[0m┃\u001b[1m \u001b[0m\u001b[1mConnected to          \u001b[0m\u001b[1m \u001b[0m┃\n",
              "┡━━━━━━━━━━━━━━━━━━━━━━━━━━━╇━━━━━━━━━━━━━━━━━━━━━━━━╇━━━━━━━━━━━━━━━━╇━━━━━━━━━━━━━━━━━━━━━━━━┩\n",
              "│ input_layer_1             │ (\u001b[38;5;45mNone\u001b[0m, \u001b[38;5;34m40\u001b[0m, \u001b[38;5;34m768\u001b[0m)        │              \u001b[38;5;34m0\u001b[0m │ -                      │\n",
              "│ (\u001b[38;5;33mInputLayer\u001b[0m)              │                        │                │                        │\n",
              "├───────────────────────────┼────────────────────────┼────────────────┼────────────────────────┤\n",
              "│ lstm_1 (\u001b[38;5;33mLSTM\u001b[0m)             │ (\u001b[38;5;45mNone\u001b[0m, \u001b[38;5;34m128\u001b[0m)            │        \u001b[38;5;34m459,264\u001b[0m │ input_layer_1[\u001b[38;5;34m0\u001b[0m][\u001b[38;5;34m0\u001b[0m]    │\n",
              "├───────────────────────────┼────────────────────────┼────────────────┼────────────────────────┤\n",
              "│ input_layer_2             │ (\u001b[38;5;45mNone\u001b[0m, \u001b[38;5;34m6\u001b[0m)              │              \u001b[38;5;34m0\u001b[0m │ -                      │\n",
              "│ (\u001b[38;5;33mInputLayer\u001b[0m)              │                        │                │                        │\n",
              "├───────────────────────────┼────────────────────────┼────────────────┼────────────────────────┤\n",
              "│ concatenate (\u001b[38;5;33mConcatenate\u001b[0m) │ (\u001b[38;5;45mNone\u001b[0m, \u001b[38;5;34m134\u001b[0m)            │              \u001b[38;5;34m0\u001b[0m │ lstm_1[\u001b[38;5;34m0\u001b[0m][\u001b[38;5;34m0\u001b[0m],          │\n",
              "│                           │                        │                │ input_layer_2[\u001b[38;5;34m0\u001b[0m][\u001b[38;5;34m0\u001b[0m]    │\n",
              "├───────────────────────────┼────────────────────────┼────────────────┼────────────────────────┤\n",
              "│ dense_2 (\u001b[38;5;33mDense\u001b[0m)           │ (\u001b[38;5;45mNone\u001b[0m, \u001b[38;5;34m64\u001b[0m)             │          \u001b[38;5;34m8,640\u001b[0m │ concatenate[\u001b[38;5;34m0\u001b[0m][\u001b[38;5;34m0\u001b[0m]      │\n",
              "├───────────────────────────┼────────────────────────┼────────────────┼────────────────────────┤\n",
              "│ batch_normalization_1     │ (\u001b[38;5;45mNone\u001b[0m, \u001b[38;5;34m64\u001b[0m)             │            \u001b[38;5;34m256\u001b[0m │ dense_2[\u001b[38;5;34m0\u001b[0m][\u001b[38;5;34m0\u001b[0m]          │\n",
              "│ (\u001b[38;5;33mBatchNormalization\u001b[0m)      │                        │                │                        │\n",
              "├───────────────────────────┼────────────────────────┼────────────────┼────────────────────────┤\n",
              "│ activation_1 (\u001b[38;5;33mActivation\u001b[0m) │ (\u001b[38;5;45mNone\u001b[0m, \u001b[38;5;34m64\u001b[0m)             │              \u001b[38;5;34m0\u001b[0m │ batch_normalization_1… │\n",
              "├───────────────────────────┼────────────────────────┼────────────────┼────────────────────────┤\n",
              "│ dropout_1 (\u001b[38;5;33mDropout\u001b[0m)       │ (\u001b[38;5;45mNone\u001b[0m, \u001b[38;5;34m64\u001b[0m)             │              \u001b[38;5;34m0\u001b[0m │ activation_1[\u001b[38;5;34m0\u001b[0m][\u001b[38;5;34m0\u001b[0m]     │\n",
              "├───────────────────────────┼────────────────────────┼────────────────┼────────────────────────┤\n",
              "│ dense_3 (\u001b[38;5;33mDense\u001b[0m)           │ (\u001b[38;5;45mNone\u001b[0m, \u001b[38;5;34m1\u001b[0m)              │             \u001b[38;5;34m65\u001b[0m │ dropout_1[\u001b[38;5;34m0\u001b[0m][\u001b[38;5;34m0\u001b[0m]        │\n",
              "└───────────────────────────┴────────────────────────┴────────────────┴────────────────────────┘\n"
            ],
            "text/html": [
              "<pre style=\"white-space:pre;overflow-x:auto;line-height:normal;font-family:Menlo,'DejaVu Sans Mono',consolas,'Courier New',monospace\">┏━━━━━━━━━━━━━━━━━━━━━━━━━━━┳━━━━━━━━━━━━━━━━━━━━━━━━┳━━━━━━━━━━━━━━━━┳━━━━━━━━━━━━━━━━━━━━━━━━┓\n",
              "┃<span style=\"font-weight: bold\"> Layer (type)              </span>┃<span style=\"font-weight: bold\"> Output Shape           </span>┃<span style=\"font-weight: bold\">        Param # </span>┃<span style=\"font-weight: bold\"> Connected to           </span>┃\n",
              "┡━━━━━━━━━━━━━━━━━━━━━━━━━━━╇━━━━━━━━━━━━━━━━━━━━━━━━╇━━━━━━━━━━━━━━━━╇━━━━━━━━━━━━━━━━━━━━━━━━┩\n",
              "│ input_layer_1             │ (<span style=\"color: #00d7ff; text-decoration-color: #00d7ff\">None</span>, <span style=\"color: #00af00; text-decoration-color: #00af00\">40</span>, <span style=\"color: #00af00; text-decoration-color: #00af00\">768</span>)        │              <span style=\"color: #00af00; text-decoration-color: #00af00\">0</span> │ -                      │\n",
              "│ (<span style=\"color: #0087ff; text-decoration-color: #0087ff\">InputLayer</span>)              │                        │                │                        │\n",
              "├───────────────────────────┼────────────────────────┼────────────────┼────────────────────────┤\n",
              "│ lstm_1 (<span style=\"color: #0087ff; text-decoration-color: #0087ff\">LSTM</span>)             │ (<span style=\"color: #00d7ff; text-decoration-color: #00d7ff\">None</span>, <span style=\"color: #00af00; text-decoration-color: #00af00\">128</span>)            │        <span style=\"color: #00af00; text-decoration-color: #00af00\">459,264</span> │ input_layer_1[<span style=\"color: #00af00; text-decoration-color: #00af00\">0</span>][<span style=\"color: #00af00; text-decoration-color: #00af00\">0</span>]    │\n",
              "├───────────────────────────┼────────────────────────┼────────────────┼────────────────────────┤\n",
              "│ input_layer_2             │ (<span style=\"color: #00d7ff; text-decoration-color: #00d7ff\">None</span>, <span style=\"color: #00af00; text-decoration-color: #00af00\">6</span>)              │              <span style=\"color: #00af00; text-decoration-color: #00af00\">0</span> │ -                      │\n",
              "│ (<span style=\"color: #0087ff; text-decoration-color: #0087ff\">InputLayer</span>)              │                        │                │                        │\n",
              "├───────────────────────────┼────────────────────────┼────────────────┼────────────────────────┤\n",
              "│ concatenate (<span style=\"color: #0087ff; text-decoration-color: #0087ff\">Concatenate</span>) │ (<span style=\"color: #00d7ff; text-decoration-color: #00d7ff\">None</span>, <span style=\"color: #00af00; text-decoration-color: #00af00\">134</span>)            │              <span style=\"color: #00af00; text-decoration-color: #00af00\">0</span> │ lstm_1[<span style=\"color: #00af00; text-decoration-color: #00af00\">0</span>][<span style=\"color: #00af00; text-decoration-color: #00af00\">0</span>],          │\n",
              "│                           │                        │                │ input_layer_2[<span style=\"color: #00af00; text-decoration-color: #00af00\">0</span>][<span style=\"color: #00af00; text-decoration-color: #00af00\">0</span>]    │\n",
              "├───────────────────────────┼────────────────────────┼────────────────┼────────────────────────┤\n",
              "│ dense_2 (<span style=\"color: #0087ff; text-decoration-color: #0087ff\">Dense</span>)           │ (<span style=\"color: #00d7ff; text-decoration-color: #00d7ff\">None</span>, <span style=\"color: #00af00; text-decoration-color: #00af00\">64</span>)             │          <span style=\"color: #00af00; text-decoration-color: #00af00\">8,640</span> │ concatenate[<span style=\"color: #00af00; text-decoration-color: #00af00\">0</span>][<span style=\"color: #00af00; text-decoration-color: #00af00\">0</span>]      │\n",
              "├───────────────────────────┼────────────────────────┼────────────────┼────────────────────────┤\n",
              "│ batch_normalization_1     │ (<span style=\"color: #00d7ff; text-decoration-color: #00d7ff\">None</span>, <span style=\"color: #00af00; text-decoration-color: #00af00\">64</span>)             │            <span style=\"color: #00af00; text-decoration-color: #00af00\">256</span> │ dense_2[<span style=\"color: #00af00; text-decoration-color: #00af00\">0</span>][<span style=\"color: #00af00; text-decoration-color: #00af00\">0</span>]          │\n",
              "│ (<span style=\"color: #0087ff; text-decoration-color: #0087ff\">BatchNormalization</span>)      │                        │                │                        │\n",
              "├───────────────────────────┼────────────────────────┼────────────────┼────────────────────────┤\n",
              "│ activation_1 (<span style=\"color: #0087ff; text-decoration-color: #0087ff\">Activation</span>) │ (<span style=\"color: #00d7ff; text-decoration-color: #00d7ff\">None</span>, <span style=\"color: #00af00; text-decoration-color: #00af00\">64</span>)             │              <span style=\"color: #00af00; text-decoration-color: #00af00\">0</span> │ batch_normalization_1… │\n",
              "├───────────────────────────┼────────────────────────┼────────────────┼────────────────────────┤\n",
              "│ dropout_1 (<span style=\"color: #0087ff; text-decoration-color: #0087ff\">Dropout</span>)       │ (<span style=\"color: #00d7ff; text-decoration-color: #00d7ff\">None</span>, <span style=\"color: #00af00; text-decoration-color: #00af00\">64</span>)             │              <span style=\"color: #00af00; text-decoration-color: #00af00\">0</span> │ activation_1[<span style=\"color: #00af00; text-decoration-color: #00af00\">0</span>][<span style=\"color: #00af00; text-decoration-color: #00af00\">0</span>]     │\n",
              "├───────────────────────────┼────────────────────────┼────────────────┼────────────────────────┤\n",
              "│ dense_3 (<span style=\"color: #0087ff; text-decoration-color: #0087ff\">Dense</span>)           │ (<span style=\"color: #00d7ff; text-decoration-color: #00d7ff\">None</span>, <span style=\"color: #00af00; text-decoration-color: #00af00\">1</span>)              │             <span style=\"color: #00af00; text-decoration-color: #00af00\">65</span> │ dropout_1[<span style=\"color: #00af00; text-decoration-color: #00af00\">0</span>][<span style=\"color: #00af00; text-decoration-color: #00af00\">0</span>]        │\n",
              "└───────────────────────────┴────────────────────────┴────────────────┴────────────────────────┘\n",
              "</pre>\n"
            ]
          },
          "metadata": {}
        },
        {
          "output_type": "display_data",
          "data": {
            "text/plain": [
              "\u001b[1m Total params: \u001b[0m\u001b[38;5;34m468,225\u001b[0m (1.79 MB)\n"
            ],
            "text/html": [
              "<pre style=\"white-space:pre;overflow-x:auto;line-height:normal;font-family:Menlo,'DejaVu Sans Mono',consolas,'Courier New',monospace\"><span style=\"font-weight: bold\"> Total params: </span><span style=\"color: #00af00; text-decoration-color: #00af00\">468,225</span> (1.79 MB)\n",
              "</pre>\n"
            ]
          },
          "metadata": {}
        },
        {
          "output_type": "display_data",
          "data": {
            "text/plain": [
              "\u001b[1m Trainable params: \u001b[0m\u001b[38;5;34m468,097\u001b[0m (1.79 MB)\n"
            ],
            "text/html": [
              "<pre style=\"white-space:pre;overflow-x:auto;line-height:normal;font-family:Menlo,'DejaVu Sans Mono',consolas,'Courier New',monospace\"><span style=\"font-weight: bold\"> Trainable params: </span><span style=\"color: #00af00; text-decoration-color: #00af00\">468,097</span> (1.79 MB)\n",
              "</pre>\n"
            ]
          },
          "metadata": {}
        },
        {
          "output_type": "display_data",
          "data": {
            "text/plain": [
              "\u001b[1m Non-trainable params: \u001b[0m\u001b[38;5;34m128\u001b[0m (512.00 B)\n"
            ],
            "text/html": [
              "<pre style=\"white-space:pre;overflow-x:auto;line-height:normal;font-family:Menlo,'DejaVu Sans Mono',consolas,'Courier New',monospace\"><span style=\"font-weight: bold\"> Non-trainable params: </span><span style=\"color: #00af00; text-decoration-color: #00af00\">128</span> (512.00 B)\n",
              "</pre>\n"
            ]
          },
          "metadata": {}
        }
      ]
    },
    {
      "cell_type": "code",
      "source": [
        "# Compile the LSTM model with optimizer, loss function and metric\n",
        "lstm_meta.compile(optimizer = Adam(learning_rate = 0.001),\n",
        "              loss = 'binary_crossentropy',\n",
        "              metrics = ['accuracy'])\n",
        "\n",
        "# Define callbacks\n",
        "model_checkpoint_meta = ModelCheckpoint(\n",
        "    filepath = '/content/drive/MyDrive/ColabNotebooks/Disaster_tweets/disaster_tweets_lstm_meta.keras',\n",
        "    monitor = 'val_accuracy',\n",
        "    save_best_only = True,\n",
        "    mode = 'max'\n",
        ")\n",
        "\n",
        "history_meta = lstm_meta.fit(\n",
        "    [tra_embeddings, meta_tra],\n",
        "    tra['Target'],\n",
        "    steps_per_epoch = math.ceil(tra.shape[0]/BATCH_SIZE),\n",
        "    batch_size = BATCH_SIZE,\n",
        "    validation_data = ([val_embeddings, meta_val], val['Target']),\n",
        "    validation_steps = math.ceil(val.shape[0]/BATCH_SIZE),\n",
        "    epochs = 30,\n",
        "    class_weight = train_weight,\n",
        "    callbacks = [model_checkpoint_meta, early_stopping, reduce_lr]\n",
        ")"
      ],
      "metadata": {
        "colab": {
          "base_uri": "https://localhost:8080/"
        },
        "id": "rMKm97Mq1bRM",
        "outputId": "bd9ecd05-b770-4f73-cd1c-4a0540e7ce8b"
      },
      "execution_count": null,
      "outputs": [
        {
          "output_type": "stream",
          "name": "stdout",
          "text": [
            "Epoch 1/30\n",
            "\u001b[1m85/85\u001b[0m \u001b[32m━━━━━━━━━━━━━━━━━━━━\u001b[0m\u001b[37m\u001b[0m \u001b[1m5s\u001b[0m 27ms/step - accuracy: 0.7343 - loss: 0.6576 - val_accuracy: 0.6471 - val_loss: 0.7001 - learning_rate: 0.0010\n",
            "Epoch 2/30\n",
            "\u001b[1m85/85\u001b[0m \u001b[32m━━━━━━━━━━━━━━━━━━━━\u001b[0m\u001b[37m\u001b[0m \u001b[1m2s\u001b[0m 16ms/step - accuracy: 0.8090 - loss: 0.5174 - val_accuracy: 0.7610 - val_loss: 0.5553 - learning_rate: 0.0010\n",
            "Epoch 3/30\n",
            "\u001b[1m85/85\u001b[0m \u001b[32m━━━━━━━━━━━━━━━━━━━━\u001b[0m\u001b[37m\u001b[0m \u001b[1m3s\u001b[0m 18ms/step - accuracy: 0.8289 - loss: 0.4643 - val_accuracy: 0.7824 - val_loss: 0.5338 - learning_rate: 0.0010\n",
            "Epoch 4/30\n",
            "\u001b[1m85/85\u001b[0m \u001b[32m━━━━━━━━━━━━━━━━━━━━\u001b[0m\u001b[37m\u001b[0m \u001b[1m3s\u001b[0m 19ms/step - accuracy: 0.8464 - loss: 0.4173 - val_accuracy: 0.7809 - val_loss: 0.5358 - learning_rate: 0.0010\n",
            "Epoch 5/30\n",
            "\u001b[1m85/85\u001b[0m \u001b[32m━━━━━━━━━━━━━━━━━━━━\u001b[0m\u001b[37m\u001b[0m \u001b[1m3s\u001b[0m 22ms/step - accuracy: 0.8736 - loss: 0.3598 - val_accuracy: 0.7882 - val_loss: 0.5320 - learning_rate: 0.0010\n",
            "Epoch 6/30\n",
            "\u001b[1m85/85\u001b[0m \u001b[32m━━━━━━━━━━━━━━━━━━━━\u001b[0m\u001b[37m\u001b[0m \u001b[1m1s\u001b[0m 15ms/step - accuracy: 0.8973 - loss: 0.3065 - val_accuracy: 0.7463 - val_loss: 0.8378 - learning_rate: 0.0010\n",
            "Epoch 7/30\n",
            "\u001b[1m85/85\u001b[0m \u001b[32m━━━━━━━━━━━━━━━━━━━━\u001b[0m\u001b[37m\u001b[0m \u001b[1m1s\u001b[0m 15ms/step - accuracy: 0.9196 - loss: 0.2445 - val_accuracy: 0.7221 - val_loss: 1.1355 - learning_rate: 0.0010\n",
            "Epoch 8/30\n",
            "\u001b[1m84/85\u001b[0m \u001b[32m━━━━━━━━━━━━━━━━━━━\u001b[0m\u001b[37m━\u001b[0m \u001b[1m0s\u001b[0m 12ms/step - accuracy: 0.9157 - loss: 0.2549\n",
            "Epoch 8: ReduceLROnPlateau reducing learning rate to 0.0005000000237487257.\n",
            "\u001b[1m85/85\u001b[0m \u001b[32m━━━━━━━━━━━━━━━━━━━━\u001b[0m\u001b[37m\u001b[0m \u001b[1m1s\u001b[0m 16ms/step - accuracy: 0.9159 - loss: 0.2544 - val_accuracy: 0.7713 - val_loss: 0.8679 - learning_rate: 0.0010\n",
            "Epoch 9/30\n",
            "\u001b[1m85/85\u001b[0m \u001b[32m━━━━━━━━━━━━━━━━━━━━\u001b[0m\u001b[37m\u001b[0m \u001b[1m1s\u001b[0m 15ms/step - accuracy: 0.9373 - loss: 0.1958 - val_accuracy: 0.7743 - val_loss: 0.7710 - learning_rate: 5.0000e-04\n",
            "Epoch 10/30\n",
            "\u001b[1m85/85\u001b[0m \u001b[32m━━━━━━━━━━━━━━━━━━━━\u001b[0m\u001b[37m\u001b[0m \u001b[1m1s\u001b[0m 15ms/step - accuracy: 0.9610 - loss: 0.1492 - val_accuracy: 0.7610 - val_loss: 0.8130 - learning_rate: 5.0000e-04\n",
            "Epoch 10: early stopping\n",
            "Restoring model weights from the end of the best epoch: 5.\n"
          ]
        }
      ]
    },
    {
      "cell_type": "markdown",
      "source": [
        "The best validation accuracy is 0.7882, suggesting that adding meta and linguistic features into the model does not improve the performance."
      ],
      "metadata": {
        "id": "U-wVNyh-10hu"
      }
    },
    {
      "cell_type": "markdown",
      "source": [
        "**Tune the LSTM Model**\n",
        "\n",
        "I will tune the following hyperparameter of the LSTM model using `BayesianOptimization` from `keras_tunner`:  \n",
        "\n",
        "* Number of units in LSTM layer\n",
        "* Number of units in Dense layer\n",
        "* l2 regularizer values\n",
        "* Activation function of Dense layer\n",
        "* Dropout rate values\n",
        "* Learning rate"
      ],
      "metadata": {
        "id": "PBPI73AV0C87"
      }
    },
    {
      "cell_type": "code",
      "source": [
        "def build_model(hp):\n",
        "  model = Sequential([\n",
        "    LSTM(units = hp.Int('lstm_units', min_value = 16,\n",
        "                        max_value = 128, step = 16),\n",
        "         input_shape = (40, 768)),\n",
        "    Dense(units = hp.Int('dense_units', min_value = 16,\n",
        "                         max_value = 128, step = 16),\n",
        "          kernel_regularizer = l2(hp.Choice('l2', values = [0.01, 0.001]))),\n",
        "    BatchNormalization(),\n",
        "    Activation(hp.Choice('activation', values = ['relu', 'leaky_relu'])),\n",
        "    Dropout(hp.Choice('dropout', values = [0.3, 0.4, 0.5])),\n",
        "    Dense(1, activation = 'sigmoid')\n",
        "])\n",
        "  model.compile(optimizer = Adam(learning_rate = hp.Choice('learning_rate',\n",
        "                                                           values = [0.001, 0.0001])),\n",
        "              loss = 'binary_crossentropy',\n",
        "              metrics = ['accuracy']\n",
        "  )\n",
        "  return model\n",
        "\n",
        "tuner = BayesianOptimization(\n",
        "    build_model,\n",
        "    objective = 'val_accuracy',\n",
        "    max_trials = 100\n",
        ")\n",
        "\n",
        "tuner.search(tra_embeddings,\n",
        "    tra['Target'],\n",
        "    batch_size = BATCH_SIZE,\n",
        "    validation_data = (val_embeddings, val['Target']),\n",
        "    epochs = 30,\n",
        "    class_weight = train_weight,\n",
        "    callbacks = [early_stopping, reduce_lr])"
      ],
      "metadata": {
        "colab": {
          "base_uri": "https://localhost:8080/"
        },
        "id": "QAP8fug5k26H",
        "outputId": "612d5191-d2c7-4a1d-ce23-23fba747f15d"
      },
      "execution_count": null,
      "outputs": [
        {
          "output_type": "stream",
          "name": "stdout",
          "text": [
            "Trial 100 Complete [00h 00m 42s]\n",
            "val_accuracy: 0.8154411911964417\n",
            "\n",
            "Best val_accuracy So Far: 0.8242647051811218\n",
            "Total elapsed time: 00h 50m 23s\n"
          ]
        }
      ]
    },
    {
      "cell_type": "markdown",
      "source": [
        "The best validation accuracy during hyperparameter tuning was 0.8242. I will check the hyperparameters of the top-3 models."
      ],
      "metadata": {
        "id": "Wp0K323lb4hI"
      }
    },
    {
      "cell_type": "code",
      "source": [
        "# Get the optimal hyperparameters\n",
        "best_hps1, best_hps2, best_hps3 = tuner.get_best_hyperparameters(num_trials = 3)[0:3]\n",
        "print('Top One:')\n",
        "print('lstm_units:', best_hps1.get('lstm_units'), ' ', 'dense_units:', best_hps1.get('dense_units'), ' ',\n",
        "      'l2:', best_hps1.get('l2'), ' ', 'activation:', best_hps1.get('activation'), ' ',\n",
        "      'dropout:', best_hps1.get('dropout'), ' ', 'learning_rate:', best_hps1.get('learning_rate'))\n",
        "print('')\n",
        "\n",
        "print('Top Two:')\n",
        "print('lstm_units:', best_hps2.get('lstm_units'), ' ', 'dense_units:', best_hps2.get('dense_units'), ' ',\n",
        "      'l2:', best_hps2.get('l2'), ' ', 'activation:', best_hps2.get('activation'), ' ',\n",
        "      'dropout:', best_hps2.get('dropout'), ' ', 'learning_rate:', best_hps2.get('learning_rate'))\n",
        "print('')\n",
        "\n",
        "print('Top Three:')\n",
        "print('lstm_units:', best_hps3.get('lstm_units'), ' ', 'dense_units:', best_hps3.get('dense_units'), ' ',\n",
        "      'l2:', best_hps3.get('l2'), ' ', 'activation:', best_hps3.get('activation'), ' ',\n",
        "      'dropout:', best_hps3.get('dropout'), ' ', 'learning_rate:', best_hps3.get('learning_rate'))\n",
        "print('')"
      ],
      "metadata": {
        "colab": {
          "base_uri": "https://localhost:8080/"
        },
        "id": "oq7uHhOmaW0V",
        "outputId": "cd0c4dac-6cdd-4eff-87c8-9b523fc3f49f"
      },
      "execution_count": null,
      "outputs": [
        {
          "output_type": "stream",
          "name": "stdout",
          "text": [
            "Top One:\n",
            "lstm_units: 32   dense_units: 16   l2: 0.01   activation: relu   dropout: 0.5   learning_rate: 0.001\n",
            "\n",
            "Top Two:\n",
            "lstm_units: 96   dense_units: 16   l2: 0.001   activation: relu   dropout: 0.5   learning_rate: 0.001\n",
            "\n",
            "Top Three:\n",
            "lstm_units: 96   dense_units: 80   l2: 0.001   activation: relu   dropout: 0.3   learning_rate: 0.0001\n",
            "\n"
          ]
        }
      ]
    },
    {
      "cell_type": "code",
      "source": [
        "# Get the top-3 best models\n",
        "best_models = tuner.get_best_models(num_models = 3)\n",
        "tuned_lstm1 = best_models[0]\n",
        "tuned_lstm2 = best_models[1]\n",
        "tuned_lstm3 = best_models[2]"
      ],
      "metadata": {
        "colab": {
          "base_uri": "https://localhost:8080/"
        },
        "id": "S-G6vW7XIoil",
        "outputId": "97cbe3f8-9b00-42ff-8462-dc083fcb4c04"
      },
      "execution_count": null,
      "outputs": [
        {
          "output_type": "stream",
          "name": "stderr",
          "text": [
            "/usr/local/lib/python3.11/dist-packages/keras/src/layers/rnn/rnn.py:200: UserWarning: Do not pass an `input_shape`/`input_dim` argument to a layer. When using Sequential models, prefer using an `Input(shape)` object as the first layer in the model instead.\n",
            "  super().__init__(**kwargs)\n",
            "/usr/local/lib/python3.11/dist-packages/keras/src/saving/saving_lib.py:757: UserWarning: Skipping variable loading for optimizer 'adam', because it has 2 variables whereas the saved optimizer has 20 variables. \n",
            "  saveable.load_own_variables(weights_store.get(inner_path))\n"
          ]
        }
      ]
    },
    {
      "cell_type": "markdown",
      "source": [
        "# Result and Analysis\n",
        "\n"
      ],
      "metadata": {
        "id": "XyY0CQyg_cuV"
      }
    },
    {
      "cell_type": "code",
      "source": [
        "# Compare the three models' performance using classification reports\n",
        "pred_proba_tuned_lstm1 = tuned_lstm1.predict(val_embeddings, verbose = 0)\n",
        "pred_tuned_lstm1 = np.round(pred_proba_tuned_lstm1).astype(int)\n",
        "\n",
        "pred_proba_tuned_lstm2 = tuned_lstm2.predict(val_embeddings, verbose = 0)\n",
        "pred_tuned_lstm2 = np.round(pred_proba_tuned_lstm2).astype(int)\n",
        "\n",
        "pred_proba_tuned_lstm3 = tuned_lstm3.predict(val_embeddings, verbose = 0)\n",
        "pred_tuned_lstm3 = np.round(pred_proba_tuned_lstm3).astype(int)\n",
        "\n",
        "y_true = val['Target']\n",
        "\n",
        "print('Model_1: tuned_lstm1')\n",
        "print(classification_report(y_true, pred_tuned_lstm1))\n",
        "\n",
        "print('Model_2: tuned_lstm2')\n",
        "print(classification_report(y_true, pred_tuned_lstm2))\n",
        "\n",
        "print('Model_3: tuned_lstm3')\n",
        "print(classification_report(y_true, pred_tuned_lstm3))"
      ],
      "metadata": {
        "colab": {
          "base_uri": "https://localhost:8080/"
        },
        "id": "1BNil3moGKgI",
        "outputId": "ffe8cba4-d662-4474-fd97-0193e5c80216"
      },
      "execution_count": null,
      "outputs": [
        {
          "output_type": "stream",
          "name": "stdout",
          "text": [
            "Model_1: tuned_lstm1\n",
            "              precision    recall  f1-score   support\n",
            "\n",
            "           0       0.82      0.90      0.86       807\n",
            "           1       0.83      0.72      0.77       553\n",
            "\n",
            "    accuracy                           0.82      1360\n",
            "   macro avg       0.82      0.81      0.81      1360\n",
            "weighted avg       0.82      0.82      0.82      1360\n",
            "\n",
            "Model_2: tuned_lstm2\n",
            "              precision    recall  f1-score   support\n",
            "\n",
            "           0       0.81      0.90      0.85       807\n",
            "           1       0.83      0.70      0.76       553\n",
            "\n",
            "    accuracy                           0.82      1360\n",
            "   macro avg       0.82      0.80      0.81      1360\n",
            "weighted avg       0.82      0.82      0.82      1360\n",
            "\n",
            "Model_3: tuned_lstm3\n",
            "              precision    recall  f1-score   support\n",
            "\n",
            "           0       0.82      0.89      0.85       807\n",
            "           1       0.81      0.72      0.76       553\n",
            "\n",
            "    accuracy                           0.82      1360\n",
            "   macro avg       0.82      0.80      0.81      1360\n",
            "weighted avg       0.82      0.82      0.82      1360\n",
            "\n"
          ]
        }
      ]
    },
    {
      "cell_type": "markdown",
      "source": [
        "All three models have the same accuracy (0.82), while the first two models perform slightly better than the third on in terms of macro and weighted average F1-score, and precision for class 1.  \n",
        "\n",
        "I will rebuild the top two models using the corresponding hyperparameter sets, then train it again to get the history."
      ],
      "metadata": {
        "id": "OMBj1cuJHKDI"
      }
    },
    {
      "cell_type": "code",
      "source": [
        "# Build the top two models with the optimal hyperparameters\n",
        "tuned_lstm1_new = tuner.hypermodel.build(best_hps1)\n",
        "tuned_lstm2_new = tuner.hypermodel.build(best_hps2)\n",
        "\n",
        "\n",
        "# Define callbacks\n",
        "model_checkpoint_tuned_lstm1 = ModelCheckpoint(\n",
        "    filepath = '/content/drive/MyDrive/ColabNotebooks/Disaster_tweets/disaster_tweets_tuned_lstm1_new.keras',\n",
        "    monitor = 'val_accuracy',\n",
        "    save_best_only = True,\n",
        "    mode = 'max'\n",
        ")\n",
        "\n",
        "history_tuned_lstm1 = tuned_lstm1_new.fit(tra_embeddings,\n",
        "    tra['Target'],\n",
        "    batch_size = BATCH_SIZE,\n",
        "    validation_data = (val_embeddings, val['Target']),\n",
        "    epochs = 30,\n",
        "    class_weight = train_weight,\n",
        "    callbacks = [model_checkpoint_tuned_lstm1, early_stopping, reduce_lr])\n"
      ],
      "metadata": {
        "colab": {
          "base_uri": "https://localhost:8080/"
        },
        "id": "7cloOCyLM0z5",
        "outputId": "0a5c1fbf-e013-4463-f626-6b74f40791c3"
      },
      "execution_count": null,
      "outputs": [
        {
          "output_type": "stream",
          "name": "stderr",
          "text": [
            "/usr/local/lib/python3.11/dist-packages/keras/src/layers/rnn/rnn.py:200: UserWarning: Do not pass an `input_shape`/`input_dim` argument to a layer. When using Sequential models, prefer using an `Input(shape)` object as the first layer in the model instead.\n",
            "  super().__init__(**kwargs)\n"
          ]
        },
        {
          "output_type": "stream",
          "name": "stdout",
          "text": [
            "Epoch 1/30\n",
            "\u001b[1m85/85\u001b[0m \u001b[32m━━━━━━━━━━━━━━━━━━━━\u001b[0m\u001b[37m\u001b[0m \u001b[1m11s\u001b[0m 52ms/step - accuracy: 0.6409 - loss: 0.8234 - val_accuracy: 0.7816 - val_loss: 0.7052 - learning_rate: 0.0010\n",
            "Epoch 2/30\n",
            "\u001b[1m85/85\u001b[0m \u001b[32m━━━━━━━━━━━━━━━━━━━━\u001b[0m\u001b[37m\u001b[0m \u001b[1m4s\u001b[0m 41ms/step - accuracy: 0.7812 - loss: 0.6275 - val_accuracy: 0.7838 - val_loss: 0.6018 - learning_rate: 0.0010\n",
            "Epoch 3/30\n",
            "\u001b[1m85/85\u001b[0m \u001b[32m━━━━━━━━━━━━━━━━━━━━\u001b[0m\u001b[37m\u001b[0m \u001b[1m3s\u001b[0m 30ms/step - accuracy: 0.7976 - loss: 0.5397 - val_accuracy: 0.7978 - val_loss: 0.5482 - learning_rate: 0.0010\n",
            "Epoch 4/30\n",
            "\u001b[1m85/85\u001b[0m \u001b[32m━━━━━━━━━━━━━━━━━━━━\u001b[0m\u001b[37m\u001b[0m \u001b[1m2s\u001b[0m 26ms/step - accuracy: 0.8131 - loss: 0.4782 - val_accuracy: 0.8118 - val_loss: 0.4954 - learning_rate: 0.0010\n",
            "Epoch 5/30\n",
            "\u001b[1m85/85\u001b[0m \u001b[32m━━━━━━━━━━━━━━━━━━━━\u001b[0m\u001b[37m\u001b[0m \u001b[1m3s\u001b[0m 26ms/step - accuracy: 0.8335 - loss: 0.4370 - val_accuracy: 0.8110 - val_loss: 0.4824 - learning_rate: 0.0010\n",
            "Epoch 6/30\n",
            "\u001b[1m85/85\u001b[0m \u001b[32m━━━━━━━━━━━━━━━━━━━━\u001b[0m\u001b[37m\u001b[0m \u001b[1m2s\u001b[0m 20ms/step - accuracy: 0.8512 - loss: 0.3916 - val_accuracy: 0.8037 - val_loss: 0.4751 - learning_rate: 0.0010\n",
            "Epoch 7/30\n",
            "\u001b[1m83/85\u001b[0m \u001b[32m━━━━━━━━━━━━━━━━━━━\u001b[0m\u001b[37m━\u001b[0m \u001b[1m0s\u001b[0m 16ms/step - accuracy: 0.8593 - loss: 0.3606\n",
            "Epoch 7: ReduceLROnPlateau reducing learning rate to 0.0005000000237487257.\n",
            "\u001b[1m85/85\u001b[0m \u001b[32m━━━━━━━━━━━━━━━━━━━━\u001b[0m\u001b[37m\u001b[0m \u001b[1m2s\u001b[0m 20ms/step - accuracy: 0.8598 - loss: 0.3599 - val_accuracy: 0.8022 - val_loss: 0.4940 - learning_rate: 0.0010\n",
            "Epoch 8/30\n",
            "\u001b[1m85/85\u001b[0m \u001b[32m━━━━━━━━━━━━━━━━━━━━\u001b[0m\u001b[37m\u001b[0m \u001b[1m3s\u001b[0m 32ms/step - accuracy: 0.8783 - loss: 0.3119 - val_accuracy: 0.7897 - val_loss: 0.5479 - learning_rate: 5.0000e-04\n",
            "Epoch 9/30\n",
            "\u001b[1m85/85\u001b[0m \u001b[32m━━━━━━━━━━━━━━━━━━━━\u001b[0m\u001b[37m\u001b[0m \u001b[1m4s\u001b[0m 16ms/step - accuracy: 0.8991 - loss: 0.2683 - val_accuracy: 0.8000 - val_loss: 0.5619 - learning_rate: 5.0000e-04\n",
            "Epoch 9: early stopping\n",
            "Restoring model weights from the end of the best epoch: 4.\n"
          ]
        }
      ]
    },
    {
      "cell_type": "code",
      "source": [
        "# Define callbacks\n",
        "model_checkpoint_tuned_lstm2 = ModelCheckpoint(\n",
        "    filepath = '/content/drive/MyDrive/ColabNotebooks/Disaster_tweets/disaster_tweets_tuned_lstm2_new.keras',\n",
        "    monitor = 'val_accuracy',\n",
        "    save_best_only = True,\n",
        "    mode = 'max'\n",
        ")\n",
        "\n",
        "history_tuned_lstm2 = tuned_lstm2_new.fit(tra_embeddings,\n",
        "    tra['Target'],\n",
        "    batch_size = BATCH_SIZE,\n",
        "    validation_data = (val_embeddings, val['Target']),\n",
        "    epochs = 30,\n",
        "    class_weight = train_weight,\n",
        "    callbacks = [model_checkpoint_tuned_lstm2, early_stopping, reduce_lr])"
      ],
      "metadata": {
        "colab": {
          "base_uri": "https://localhost:8080/"
        },
        "id": "Y_2B3YrvNFDP",
        "outputId": "588734b8-6c1f-4d7e-be27-d123b32b746d"
      },
      "execution_count": null,
      "outputs": [
        {
          "output_type": "stream",
          "name": "stdout",
          "text": [
            "Epoch 1/30\n",
            "\u001b[1m85/85\u001b[0m \u001b[32m━━━━━━━━━━━━━━━━━━━━\u001b[0m\u001b[37m\u001b[0m \u001b[1m10s\u001b[0m 60ms/step - accuracy: 0.6620 - loss: 0.6275 - val_accuracy: 0.7919 - val_loss: 0.4930 - learning_rate: 0.0010\n",
            "Epoch 2/30\n",
            "\u001b[1m85/85\u001b[0m \u001b[32m━━━━━━━━━━━━━━━━━━━━\u001b[0m\u001b[37m\u001b[0m \u001b[1m7s\u001b[0m 27ms/step - accuracy: 0.7976 - loss: 0.4840 - val_accuracy: 0.8051 - val_loss: 0.4548 - learning_rate: 0.0010\n",
            "Epoch 3/30\n",
            "\u001b[1m85/85\u001b[0m \u001b[32m━━━━━━━━━━━━━━━━━━━━\u001b[0m\u001b[37m\u001b[0m \u001b[1m3s\u001b[0m 35ms/step - accuracy: 0.8124 - loss: 0.4624 - val_accuracy: 0.8059 - val_loss: 0.4672 - learning_rate: 0.0010\n",
            "Epoch 4/30\n",
            "\u001b[1m85/85\u001b[0m \u001b[32m━━━━━━━━━━━━━━━━━━━━\u001b[0m\u001b[37m\u001b[0m \u001b[1m4s\u001b[0m 22ms/step - accuracy: 0.8239 - loss: 0.4283 - val_accuracy: 0.8044 - val_loss: 0.4694 - learning_rate: 0.0010\n",
            "Epoch 5/30\n",
            "\u001b[1m85/85\u001b[0m \u001b[32m━━━━━━━━━━━━━━━━━━━━\u001b[0m\u001b[37m\u001b[0m \u001b[1m2s\u001b[0m 25ms/step - accuracy: 0.8393 - loss: 0.3960 - val_accuracy: 0.8059 - val_loss: 0.4749 - learning_rate: 0.0010\n",
            "Epoch 6/30\n",
            "\u001b[1m85/85\u001b[0m \u001b[32m━━━━━━━━━━━━━━━━━━━━\u001b[0m\u001b[37m\u001b[0m \u001b[1m0s\u001b[0m 19ms/step - accuracy: 0.8607 - loss: 0.3476\n",
            "Epoch 6: ReduceLROnPlateau reducing learning rate to 0.0005000000237487257.\n",
            "\u001b[1m85/85\u001b[0m \u001b[32m━━━━━━━━━━━━━━━━━━━━\u001b[0m\u001b[37m\u001b[0m \u001b[1m2s\u001b[0m 24ms/step - accuracy: 0.8607 - loss: 0.3475 - val_accuracy: 0.7926 - val_loss: 0.4830 - learning_rate: 0.0010\n",
            "Epoch 7/30\n",
            "\u001b[1m85/85\u001b[0m \u001b[32m━━━━━━━━━━━━━━━━━━━━\u001b[0m\u001b[37m\u001b[0m \u001b[1m2s\u001b[0m 19ms/step - accuracy: 0.8775 - loss: 0.3203 - val_accuracy: 0.7875 - val_loss: 0.4832 - learning_rate: 5.0000e-04\n",
            "Epoch 8/30\n",
            "\u001b[1m85/85\u001b[0m \u001b[32m━━━━━━━━━━━━━━━━━━━━\u001b[0m\u001b[37m\u001b[0m \u001b[1m2s\u001b[0m 17ms/step - accuracy: 0.9029 - loss: 0.2734 - val_accuracy: 0.7904 - val_loss: 0.5358 - learning_rate: 5.0000e-04\n",
            "Epoch 8: early stopping\n",
            "Restoring model weights from the end of the best epoch: 3.\n"
          ]
        }
      ]
    },
    {
      "cell_type": "code",
      "source": [
        "# Create dataframes of the three models' history\n",
        "tuned_lstm1_history = pd.DataFrame({\n",
        "    'dataset': ['train'] * 9 + ['validation'] * 9,\n",
        "    'epoch': list(range(9)) * 2,\n",
        "    'loss': history_tuned_lstm1.history['loss'] + history_tuned_lstm1.history['val_loss'],\n",
        "    'accuracy': history_tuned_lstm1.history['accuracy'] + history_tuned_lstm1.history['val_accuracy']\n",
        "})\n",
        "\n",
        "tuned_lstm2_history = pd.DataFrame({\n",
        "    'dataset': ['train'] * 8 + ['validation'] * 8,\n",
        "    'epoch': list(range(8)) * 2,\n",
        "    'loss': history_tuned_lstm2.history['loss'] + history_tuned_lstm2.history['val_loss'],\n",
        "    'accuracy': history_tuned_lstm2.history['accuracy'] + history_tuned_lstm2.history['val_accuracy']\n",
        "})\n",
        "\n",
        "\n",
        "# Plot the training and validation accuracy and loss\n",
        "fig, axes = plt.subplots(nrows = 2, ncols = 2, figsize = (12, 10))\n",
        "axes = axes.flatten()\n",
        "\n",
        "sns.lineplot(data = tuned_lstm1_history, x = 'epoch', y = 'accuracy', hue = 'dataset',\n",
        "             palette = ['skyblue', 'lightsalmon'], ax = axes[0])\n",
        "axes[0].set_title('tuned_lstm1: Train Accuracy vs. Validation Accuracy')\n",
        "axes[0].legend(title = '');\n",
        "\n",
        "sns.lineplot(data = tuned_lstm1_history, x = 'epoch', y = 'loss', hue = 'dataset',\n",
        "             palette = ['skyblue', 'lightsalmon'], ax = axes[1])\n",
        "axes[1].set_title('tuned_lstm1: Train Loss vs. Validation Loss')\n",
        "axes[1].legend(title = '');\n",
        "\n",
        "sns.lineplot(data = tuned_lstm2_history, x = 'epoch', y = 'accuracy', hue = 'dataset',\n",
        "             palette = ['skyblue', 'lightsalmon'], ax = axes[2])\n",
        "axes[2].set_title('tuned_lstm2: Train Accuracy vs. Validation Accuracy')\n",
        "axes[2].legend(title = '');\n",
        "\n",
        "sns.lineplot(data = tuned_lstm2_history, x = 'epoch', y = 'loss', hue = 'dataset',\n",
        "             palette = ['skyblue', 'lightsalmon'], ax = axes[3])\n",
        "axes[3].set_title('tuned_lstm2: Train Loss vs. Validation Loss')\n",
        "axes[3].legend(title = '');"
      ],
      "metadata": {
        "colab": {
          "base_uri": "https://localhost:8080/",
          "height": 872
        },
        "id": "L4NgLvoFsP9b",
        "outputId": "7c2d5508-4f69-4ca5-a1f4-3db57bc74dd4"
      },
      "execution_count": null,
      "outputs": [
        {
          "output_type": "display_data",
          "data": {
            "text/plain": [
              "<Figure size 1200x1000 with 4 Axes>"
            ],
            "image/png": "[encoded data removed]"
          },
          "metadata": {}
        }
      ]
    },
    {
      "cell_type": "markdown",
      "source": [
        "The training history plots above show that both models has overfitting after a few epochs, while the metrics of validation set in the first one seems more smooth. I will make prediction on the test set using both models, then submit to Kaggle"
      ],
      "metadata": {
        "id": "S-gPMXx3IrsD"
      }
    },
    {
      "cell_type": "code",
      "source": [
        "# Get BERT Embeddings for test dataset\n",
        "test_embeddings = bert_embedding(clean_test['cleaned_text'])\n",
        "\n",
        "# Save the embeddings as a Numpy file\n",
        "np.save('/content/drive/MyDrive/ColabNotebooks/Disaster_tweets/test_embeddings.npy', test_embeddings)\n"
      ],
      "metadata": {
        "id": "Cje7dgwTPWPL"
      },
      "execution_count": null,
      "outputs": []
    },
    {
      "cell_type": "code",
      "source": [
        "# make prediction\n",
        "pred_test_tuned_lstm1 = tuned_lstm1.predict(test_embeddings, verbose = 0)\n",
        "pred_test_tuned_lstm1 = np.round(pred_test_tuned_lstm1).astype(int)\n",
        "\n",
        "pred_test_tuned_lstm2 = tuned_lstm2.predict(test_embeddings, verbose = 0)\n",
        "pred_test_tuned_lstm2 = np.round(pred_test_tuned_lstm2).astype(int)"
      ],
      "metadata": {
        "id": "JSSmo_PzPUlS"
      },
      "execution_count": null,
      "outputs": []
    },
    {
      "cell_type": "code",
      "source": [
        "# Create two submission dataframes\n",
        "submission_tuned_lstm1 = pd.DataFrame({\n",
        "    'id': clean_test['id'],\n",
        "    'target': pred_test_tuned_lstm1.reshape(-1)\n",
        "})\n",
        "\n",
        "submission_tuned_lstm2 = pd.DataFrame({\n",
        "    'id': clean_test['id'],\n",
        "    'target': pred_test_tuned_lstm2.reshape(-1)\n",
        "})"
      ],
      "metadata": {
        "id": "PYn_iMmiRBwQ"
      },
      "execution_count": null,
      "outputs": []
    },
    {
      "cell_type": "code",
      "source": [
        "submission_tuned_lstm1.to_csv('/content/drive/MyDrive/ColabNotebooks/Disaster_tweets/submission_tuned_lstm1.csv', index = False)\n",
        "submission_tuned_lstm2.to_csv('/content/drive/MyDrive/ColabNotebooks/Disaster_tweets/submission_tuned_lstm2.csv', index = False)"
      ],
      "metadata": {
        "id": "WhXMrVFLRZFK"
      },
      "execution_count": null,
      "outputs": []
    },
    {
      "cell_type": "markdown",
      "source": [
        "After submit the prediction to Kaggle, I got the result as follows:\n",
        "![Disaster_tweets_submission.png](data:image/png;base64,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)\n"
      ],
      "metadata": {
        "id": "_65WLTKDQpR5"
      }
    },
    {
      "cell_type": "markdown",
      "source": [
        "# Conclusion\n",
        "\n",
        "In this project, I built multiple LSTM models to predict whether a given tweet is about a real disaster (class 1) or not (class 0). After hyperparameter tuning, I identified two best models in terms of F1 score and precision. I then made predictions on the test set and submitted the results to Kaggle. The results show that the ‘tuned_lstm2’ model achieved a slightly higher F1 score on the test set.\n",
        "\n",
        "I also experimented with incorporating meta features and linguistic features that were statistically significantly different between the two classes. However, this did not improve the model’s performance.\n",
        "\n",
        "The history plot indicates that the tuned models still suffer from overfitting, despite using L2 regularization, dropout, batch normalization, and reducing the number of units in both the LSTM and Dense layers. A larger dataset might help mitigate the overfitting issue."
      ],
      "metadata": {
        "id": "woNeLnZVRBu3"
      }
    },
    {
      "cell_type": "code",
      "source": [],
      "metadata": {
        "id": "4KvtmxtBQ3fv"
      },
      "execution_count": null,
      "outputs": []
    }
  ],
  "metadata": {
    "kernelspec": {
      "display_name": "Python 3",
      "name": "python3"
    },
    "language_info": {
      "codemirror_mode": {
        "name": "ipython",
        "version": 3
      },
      "file_extension": ".py",
      "mimetype": "text/x-python",
      "name": "python",
      "nbconvert_exporter": "python",
      "pygments_lexer": "ipython3",
      "version": "3.12.4"
    },
    "colab": {
      "provenance": [],
      "gpuType": "T4",
      "include_colab_link": true
    },
    "accelerator": "GPU",
    "widgets": {
      "application/vnd.jupyter.widget-state+json": {
        "c874839e840f471aad2b59bc3fcfc6a4": {
          "model_module": "@jupyter-widgets/controls",
          "model_name": "HBoxModel",
          "model_module_version": "1.5.0",
          "state": {
            "_dom_classes": [],
            "_model_module": "@jupyter-widgets/controls",
            "_model_module_version": "1.5.0",
            "_model_name": "HBoxModel",
            "_view_count": null,
            "_view_module": "@jupyter-widgets/controls",
            "_view_module_version": "1.5.0",
            "_view_name": "HBoxView",
            "box_style": "",
            "children": [
              "IPY_MODEL_51cf69982aed40f497c8bc4ed7908cad",
              "IPY_MODEL_ce1e356ba4824c0f81837eec7cf77f23",
              "IPY_MODEL_d24b140873484c7393a77133376d3200"
            ],
            "layout": "IPY_MODEL_406496c113d74ed1b06f51a336716b35"
          }
        },
        "51cf69982aed40f497c8bc4ed7908cad": {
          "model_module": "@jupyter-widgets/controls",
          "model_name": "HTMLModel",
          "model_module_version": "1.5.0",
          "state": {
            "_dom_classes": [],
            "_model_module": "@jupyter-widgets/controls",
            "_model_module_version": "1.5.0",
            "_model_name": "HTMLModel",
            "_view_count": null,
            "_view_module": "@jupyter-widgets/controls",
            "_view_module_version": "1.5.0",
            "_view_name": "HTMLView",
            "description": "",
            "description_tooltip": null,
            "layout": "IPY_MODEL_0474c9e54d4b48e2a55b7c67e100acf0",
            "placeholder": "​",
            "style": "IPY_MODEL_8f602b6bf54a41a5bbb0e64dbb22f37a",
            "value": "tokenizer_config.json: 100%"
          }
        },
        "ce1e356ba4824c0f81837eec7cf77f23": {
          "model_module": "@jupyter-widgets/controls",
          "model_name": "FloatProgressModel",
          "model_module_version": "1.5.0",
          "state": {
            "_dom_classes": [],
            "_model_module": "@jupyter-widgets/controls",
            "_model_module_version": "1.5.0",
            "_model_name": "FloatProgressModel",
            "_view_count": null,
            "_view_module": "@jupyter-widgets/controls",
            "_view_module_version": "1.5.0",
            "_view_name": "ProgressView",
            "bar_style": "success",
            "description": "",
            "description_tooltip": null,
            "layout": "IPY_MODEL_a033ccaa1f9a441a9c09073b122ce9c0",
            "max": 48,
            "min": 0,
            "orientation": "horizontal",
            "style": "IPY_MODEL_ddc8eec4c7a040f2aac3c504bb8935ed",
            "value": 48
          }
        },
        "d24b140873484c7393a77133376d3200": {
          "model_module": "@jupyter-widgets/controls",
          "model_name": "HTMLModel",
          "model_module_version": "1.5.0",
          "state": {
            "_dom_classes": [],
            "_model_module": "@jupyter-widgets/controls",
            "_model_module_version": "1.5.0",
            "_model_name": "HTMLModel",
            "_view_count": null,
            "_view_module": "@jupyter-widgets/controls",
            "_view_module_version": "1.5.0",
            "_view_name": "HTMLView",
            "description": "",
            "description_tooltip": null,
            "layout": "IPY_MODEL_a386a2cb11004c0c9946937fd047870a",
            "placeholder": "​",
            "style": "IPY_MODEL_d634faf44a6b4b4cbf4ad71a88525a44",
            "value": " 48.0/48.0 [00:00&lt;00:00, 3.43kB/s]"
          }
        },
        "406496c113d74ed1b06f51a336716b35": {
          "model_module": "@jupyter-widgets/base",
          "model_name": "LayoutModel",
          "model_module_version": "1.2.0",
          "state": {
            "_model_module": "@jupyter-widgets/base",
            "_model_module_version": "1.2.0",
            "_model_name": "LayoutModel",
            "_view_count": null,
            "_view_module": "@jupyter-widgets/base",
            "_view_module_version": "1.2.0",
            "_view_name": "LayoutView",
            "align_content": null,
            "align_items": null,
            "align_self": null,
            "border": null,
            "bottom": null,
            "display": null,
            "flex": null,
            "flex_flow": null,
            "grid_area": null,
            "grid_auto_columns": null,
            "grid_auto_flow": null,
            "grid_auto_rows": null,
            "grid_column": null,
            "grid_gap": null,
            "grid_row": null,
            "grid_template_areas": null,
            "grid_template_columns": null,
            "grid_template_rows": null,
            "height": null,
            "justify_content": null,
            "justify_items": null,
            "left": null,
            "margin": null,
            "max_height": null,
            "max_width": null,
            "min_height": null,
            "min_width": null,
            "object_fit": null,
            "object_position": null,
            "order": null,
            "overflow": null,
            "overflow_x": null,
            "overflow_y": null,
            "padding": null,
            "right": null,
            "top": null,
            "visibility": null,
            "width": null
          }
        },
        "0474c9e54d4b48e2a55b7c67e100acf0": {
          "model_module": "@jupyter-widgets/base",
          "model_name": "LayoutModel",
          "model_module_version": "1.2.0",
          "state": {
            "_model_module": "@jupyter-widgets/base",
            "_model_module_version": "1.2.0",
            "_model_name": "LayoutModel",
            "_view_count": null,
            "_view_module": "@jupyter-widgets/base",
            "_view_module_version": "1.2.0",
            "_view_name": "LayoutView",
            "align_content": null,
            "align_items": null,
            "align_self": null,
            "border": null,
            "bottom": null,
            "display": null,
            "flex": null,
            "flex_flow": null,
            "grid_area": null,
            "grid_auto_columns": null,
            "grid_auto_flow": null,
            "grid_auto_rows": null,
            "grid_column": null,
            "grid_gap": null,
            "grid_row": null,
            "grid_template_areas": null,
            "grid_template_columns": null,
            "grid_template_rows": null,
            "height": null,
            "justify_content": null,
            "justify_items": null,
            "left": null,
            "margin": null,
            "max_height": null,
            "max_width": null,
            "min_height": null,
            "min_width": null,
            "object_fit": null,
            "object_position": null,
            "order": null,
            "overflow": null,
            "overflow_x": null,
            "overflow_y": null,
            "padding": null,
            "right": null,
            "top": null,
            "visibility": null,
            "width": null
          }
        },
        "8f602b6bf54a41a5bbb0e64dbb22f37a": {
          "model_module": "@jupyter-widgets/controls",
          "model_name": "DescriptionStyleModel",
          "model_module_version": "1.5.0",
          "state": {
            "_model_module": "@jupyter-widgets/controls",
            "_model_module_version": "1.5.0",
            "_model_name": "DescriptionStyleModel",
            "_view_count": null,
            "_view_module": "@jupyter-widgets/base",
            "_view_module_version": "1.2.0",
            "_view_name": "StyleView",
            "description_width": ""
          }
        },
        "a033ccaa1f9a441a9c09073b122ce9c0": {
          "model_module": "@jupyter-widgets/base",
          "model_name": "LayoutModel",
          "model_module_version": "1.2.0",
          "state": {
            "_model_module": "@jupyter-widgets/base",
            "_model_module_version": "1.2.0",
            "_model_name": "LayoutModel",
            "_view_count": null,
            "_view_module": "@jupyter-widgets/base",
            "_view_module_version": "1.2.0",
            "_view_name": "LayoutView",
            "align_content": null,
            "align_items": null,
            "align_self": null,
            "border": null,
            "bottom": null,
            "display": null,
            "flex": null,
            "flex_flow": null,
            "grid_area": null,
            "grid_auto_columns": null,
            "grid_auto_flow": null,
            "grid_auto_rows": null,
            "grid_column": null,
            "grid_gap": null,
            "grid_row": null,
            "grid_template_areas": null,
            "grid_template_columns": null,
            "grid_template_rows": null,
            "height": null,
            "justify_content": null,
            "justify_items": null,
            "left": null,
            "margin": null,
            "max_height": null,
            "max_width": null,
            "min_height": null,
            "min_width": null,
            "object_fit": null,
            "object_position": null,
            "order": null,
            "overflow": null,
            "overflow_x": null,
            "overflow_y": null,
            "padding": null,
            "right": null,
            "top": null,
            "visibility": null,
            "width": null
          }
        },
        "ddc8eec4c7a040f2aac3c504bb8935ed": {
          "model_module": "@jupyter-widgets/controls",
          "model_name": "ProgressStyleModel",
          "model_module_version": "1.5.0",
          "state": {
            "_model_module": "@jupyter-widgets/controls",
            "_model_module_version": "1.5.0",
            "_model_name": "ProgressStyleModel",
            "_view_count": null,
            "_view_module": "@jupyter-widgets/base",
            "_view_module_version": "1.2.0",
            "_view_name": "StyleView",
            "bar_color": null,
            "description_width": ""
          }
        },
        "a386a2cb11004c0c9946937fd047870a": {
          "model_module": "@jupyter-widgets/base",
          "model_name": "LayoutModel",
          "model_module_version": "1.2.0",
          "state": {
            "_model_module": "@jupyter-widgets/base",
            "_model_module_version": "1.2.0",
            "_model_name": "LayoutModel",
            "_view_count": null,
            "_view_module": "@jupyter-widgets/base",
            "_view_module_version": "1.2.0",
            "_view_name": "LayoutView",
            "align_content": null,
            "align_items": null,
            "align_self": null,
            "border": null,
            "bottom": null,
            "display": null,
            "flex": null,
            "flex_flow": null,
            "grid_area": null,
            "grid_auto_columns": null,
            "grid_auto_flow": null,
            "grid_auto_rows": null,
            "grid_column": null,
            "grid_gap": null,
            "grid_row": null,
            "grid_template_areas": null,
            "grid_template_columns": null,
            "grid_template_rows": null,
            "height": null,
            "justify_content": null,
            "justify_items": null,
            "left": null,
            "margin": null,
            "max_height": null,
            "max_width": null,
            "min_height": null,
            "min_width": null,
            "object_fit": null,
            "object_position": null,
            "order": null,
            "overflow": null,
            "overflow_x": null,
            "overflow_y": null,
            "padding": null,
            "right": null,
            "top": null,
            "visibility": null,
            "width": null
          }
        },
        "d634faf44a6b4b4cbf4ad71a88525a44": {
          "model_module": "@jupyter-widgets/controls",
          "model_name": "DescriptionStyleModel",
          "model_module_version": "1.5.0",
          "state": {
            "_model_module": "@jupyter-widgets/controls",
            "_model_module_version": "1.5.0",
            "_model_name": "DescriptionStyleModel",
            "_view_count": null,
            "_view_module": "@jupyter-widgets/base",
            "_view_module_version": "1.2.0",
            "_view_name": "StyleView",
            "description_width": ""
          }
        },
        "0f21bbce0d2a436b8934cb8e422970f7": {
          "model_module": "@jupyter-widgets/controls",
          "model_name": "HBoxModel",
          "model_module_version": "1.5.0",
          "state": {
            "_dom_classes": [],
            "_model_module": "@jupyter-widgets/controls",
            "_model_module_version": "1.5.0",
            "_model_name": "HBoxModel",
            "_view_count": null,
            "_view_module": "@jupyter-widgets/controls",
            "_view_module_version": "1.5.0",
            "_view_name": "HBoxView",
            "box_style": "",
            "children": [
              "IPY_MODEL_332746fe82d3474087263640a57e6403",
              "IPY_MODEL_988149e9af0f423f963408da4ebf4de0",
              "IPY_MODEL_a2319e8737b54765a0448c05133c963c"
            ],
            "layout": "IPY_MODEL_34d2c17bdeb14cbc94a498e4b2f12a4a"
          }
        },
        "332746fe82d3474087263640a57e6403": {
          "model_module": "@jupyter-widgets/controls",
          "model_name": "HTMLModel",
          "model_module_version": "1.5.0",
          "state": {
            "_dom_classes": [],
            "_model_module": "@jupyter-widgets/controls",
            "_model_module_version": "1.5.0",
            "_model_name": "HTMLModel",
            "_view_count": null,
            "_view_module": "@jupyter-widgets/controls",
            "_view_module_version": "1.5.0",
            "_view_name": "HTMLView",
            "description": "",
            "description_tooltip": null,
            "layout": "IPY_MODEL_b37f4e5334bd489bbb59df62149fab53",
            "placeholder": "​",
            "style": "IPY_MODEL_0a839ab4247e47fab5b6ca88b2d2b54f",
            "value": "vocab.txt: 100%"
          }
        },
        "988149e9af0f423f963408da4ebf4de0": {
          "model_module": "@jupyter-widgets/controls",
          "model_name": "FloatProgressModel",
          "model_module_version": "1.5.0",
          "state": {
            "_dom_classes": [],
            "_model_module": "@jupyter-widgets/controls",
            "_model_module_version": "1.5.0",
            "_model_name": "FloatProgressModel",
            "_view_count": null,
            "_view_module": "@jupyter-widgets/controls",
            "_view_module_version": "1.5.0",
            "_view_name": "ProgressView",
            "bar_style": "success",
            "description": "",
            "description_tooltip": null,
            "layout": "IPY_MODEL_0cfb816db2464e7b8a7d60ff633a806f",
            "max": 231508,
            "min": 0,
            "orientation": "horizontal",
            "style": "IPY_MODEL_942b59e945074b4698c97a99537eb9e4",
            "value": 231508
          }
        },
        "a2319e8737b54765a0448c05133c963c": {
          "model_module": "@jupyter-widgets/controls",
          "model_name": "HTMLModel",
          "model_module_version": "1.5.0",
          "state": {
            "_dom_classes": [],
            "_model_module": "@jupyter-widgets/controls",
            "_model_module_version": "1.5.0",
            "_model_name": "HTMLModel",
            "_view_count": null,
            "_view_module": "@jupyter-widgets/controls",
            "_view_module_version": "1.5.0",
            "_view_name": "HTMLView",
            "description": "",
            "description_tooltip": null,
            "layout": "IPY_MODEL_6c0f1567b11f43b2ae0a6e2d2857b9b5",
            "placeholder": "​",
            "style": "IPY_MODEL_800086e460834faebaaa7a52f2ec204b",
            "value": " 232k/232k [00:00&lt;00:00, 5.24MB/s]"
          }
        },
        "34d2c17bdeb14cbc94a498e4b2f12a4a": {
          "model_module": "@jupyter-widgets/base",
          "model_name": "LayoutModel",
          "model_module_version": "1.2.0",
          "state": {
            "_model_module": "@jupyter-widgets/base",
            "_model_module_version": "1.2.0",
            "_model_name": "LayoutModel",
            "_view_count": null,
            "_view_module": "@jupyter-widgets/base",
            "_view_module_version": "1.2.0",
            "_view_name": "LayoutView",
            "align_content": null,
            "align_items": null,
            "align_self": null,
            "border": null,
            "bottom": null,
            "display": null,
            "flex": null,
            "flex_flow": null,
            "grid_area": null,
            "grid_auto_columns": null,
            "grid_auto_flow": null,
            "grid_auto_rows": null,
            "grid_column": null,
            "grid_gap": null,
            "grid_row": null,
            "grid_template_areas": null,
            "grid_template_columns": null,
            "grid_template_rows": null,
            "height": null,
            "justify_content": null,
            "justify_items": null,
            "left": null,
            "margin": null,
            "max_height": null,
            "max_width": null,
            "min_height": null,
            "min_width": null,
            "object_fit": null,
            "object_position": null,
            "order": null,
            "overflow": null,
            "overflow_x": null,
            "overflow_y": null,
            "padding": null,
            "right": null,
            "top": null,
            "visibility": null,
            "width": null
          }
        },
        "b37f4e5334bd489bbb59df62149fab53": {
          "model_module": "@jupyter-widgets/base",
          "model_name": "LayoutModel",
          "model_module_version": "1.2.0",
          "state": {
            "_model_module": "@jupyter-widgets/base",
            "_model_module_version": "1.2.0",
            "_model_name": "LayoutModel",
            "_view_count": null,
            "_view_module": "@jupyter-widgets/base",
            "_view_module_version": "1.2.0",
            "_view_name": "LayoutView",
            "align_content": null,
            "align_items": null,
            "align_self": null,
            "border": null,
            "bottom": null,
            "display": null,
            "flex": null,
            "flex_flow": null,
            "grid_area": null,
            "grid_auto_columns": null,
            "grid_auto_flow": null,
            "grid_auto_rows": null,
            "grid_column": null,
            "grid_gap": null,
            "grid_row": null,
            "grid_template_areas": null,
            "grid_template_columns": null,
            "grid_template_rows": null,
            "height": null,
            "justify_content": null,
            "justify_items": null,
            "left": null,
            "margin": null,
            "max_height": null,
            "max_width": null,
            "min_height": null,
            "min_width": null,
            "object_fit": null,
            "object_position": null,
            "order": null,
            "overflow": null,
            "overflow_x": null,
            "overflow_y": null,
            "padding": null,
            "right": null,
            "top": null,
            "visibility": null,
            "width": null
          }
        },
        "0a839ab4247e47fab5b6ca88b2d2b54f": {
          "model_module": "@jupyter-widgets/controls",
          "model_name": "DescriptionStyleModel",
          "model_module_version": "1.5.0",
          "state": {
            "_model_module": "@jupyter-widgets/controls",
            "_model_module_version": "1.5.0",
            "_model_name": "DescriptionStyleModel",
            "_view_count": null,
            "_view_module": "@jupyter-widgets/base",
            "_view_module_version": "1.2.0",
            "_view_name": "StyleView",
            "description_width": ""
          }
        },
        "0cfb816db2464e7b8a7d60ff633a806f": {
          "model_module": "@jupyter-widgets/base",
          "model_name": "LayoutModel",
          "model_module_version": "1.2.0",
          "state": {
            "_model_module": "@jupyter-widgets/base",
            "_model_module_version": "1.2.0",
            "_model_name": "LayoutModel",
            "_view_count": null,
            "_view_module": "@jupyter-widgets/base",
            "_view_module_version": "1.2.0",
            "_view_name": "LayoutView",
            "align_content": null,
            "align_items": null,
            "align_self": null,
            "border": null,
            "bottom": null,
            "display": null,
            "flex": null,
            "flex_flow": null,
            "grid_area": null,
            "grid_auto_columns": null,
            "grid_auto_flow": null,
            "grid_auto_rows": null,
            "grid_column": null,
            "grid_gap": null,
            "grid_row": null,
            "grid_template_areas": null,
            "grid_template_columns": null,
            "grid_template_rows": null,
            "height": null,
            "justify_content": null,
            "justify_items": null,
            "left": null,
            "margin": null,
            "max_height": null,
            "max_width": null,
            "min_height": null,
            "min_width": null,
            "object_fit": null,
            "object_position": null,
            "order": null,
            "overflow": null,
            "overflow_x": null,
            "overflow_y": null,
            "padding": null,
            "right": null,
            "top": null,
            "visibility": null,
            "width": null
          }
        },
        "942b59e945074b4698c97a99537eb9e4": {
          "model_module": "@jupyter-widgets/controls",
          "model_name": "ProgressStyleModel",
          "model_module_version": "1.5.0",
          "state": {
            "_model_module": "@jupyter-widgets/controls",
            "_model_module_version": "1.5.0",
            "_model_name": "ProgressStyleModel",
            "_view_count": null,
            "_view_module": "@jupyter-widgets/base",
            "_view_module_version": "1.2.0",
            "_view_name": "StyleView",
            "bar_color": null,
            "description_width": ""
          }
        },
        "6c0f1567b11f43b2ae0a6e2d2857b9b5": {
          "model_module": "@jupyter-widgets/base",
          "model_name": "LayoutModel",
          "model_module_version": "1.2.0",
          "state": {
            "_model_module": "@jupyter-widgets/base",
            "_model_module_version": "1.2.0",
            "_model_name": "LayoutModel",
            "_view_count": null,
            "_view_module": "@jupyter-widgets/base",
            "_view_module_version": "1.2.0",
            "_view_name": "LayoutView",
            "align_content": null,
            "align_items": null,
            "align_self": null,
            "border": null,
            "bottom": null,
            "display": null,
            "flex": null,
            "flex_flow": null,
            "grid_area": null,
            "grid_auto_columns": null,
            "grid_auto_flow": null,
            "grid_auto_rows": null,
            "grid_column": null,
            "grid_gap": null,
            "grid_row": null,
            "grid_template_areas": null,
            "grid_template_columns": null,
            "grid_template_rows": null,
            "height": null,
            "justify_content": null,
            "justify_items": null,
            "left": null,
            "margin": null,
            "max_height": null,
            "max_width": null,
            "min_height": null,
            "min_width": null,
            "object_fit": null,
            "object_position": null,
            "order": null,
            "overflow": null,
            "overflow_x": null,
            "overflow_y": null,
            "padding": null,
            "right": null,
            "top": null,
            "visibility": null,
            "width": null
          }
        },
        "800086e460834faebaaa7a52f2ec204b": {
          "model_module": "@jupyter-widgets/controls",
          "model_name": "DescriptionStyleModel",
          "model_module_version": "1.5.0",
          "state": {
            "_model_module": "@jupyter-widgets/controls",
            "_model_module_version": "1.5.0",
            "_model_name": "DescriptionStyleModel",
            "_view_count": null,
            "_view_module": "@jupyter-widgets/base",
            "_view_module_version": "1.2.0",
            "_view_name": "StyleView",
            "description_width": ""
          }
        },
        "49e30bd2186e4951b3e49501e4381afd": {
          "model_module": "@jupyter-widgets/controls",
          "model_name": "HBoxModel",
          "model_module_version": "1.5.0",
          "state": {
            "_dom_classes": [],
            "_model_module": "@jupyter-widgets/controls",
            "_model_module_version": "1.5.0",
            "_model_name": "HBoxModel",
            "_view_count": null,
            "_view_module": "@jupyter-widgets/controls",
            "_view_module_version": "1.5.0",
            "_view_name": "HBoxView",
            "box_style": "",
            "children": [
              "IPY_MODEL_f4eccfa284a943ee942bdec356bff03a",
              "IPY_MODEL_2ed11d6c882c4ddb8b05dc7cff1a8939",
              "IPY_MODEL_46e230013a544d92b88564fabce88e4e"
            ],
            "layout": "IPY_MODEL_f9487fdb87534975b4704c04cd488d03"
          }
        },
        "f4eccfa284a943ee942bdec356bff03a": {
          "model_module": "@jupyter-widgets/controls",
          "model_name": "HTMLModel",
          "model_module_version": "1.5.0",
          "state": {
            "_dom_classes": [],
            "_model_module": "@jupyter-widgets/controls",
            "_model_module_version": "1.5.0",
            "_model_name": "HTMLModel",
            "_view_count": null,
            "_view_module": "@jupyter-widgets/controls",
            "_view_module_version": "1.5.0",
            "_view_name": "HTMLView",
            "description": "",
            "description_tooltip": null,
            "layout": "IPY_MODEL_8f89e9ccc8094640b54ae474f4440276",
            "placeholder": "​",
            "style": "IPY_MODEL_2fdb6152e13e4ed78898432b41890b2f",
            "value": "tokenizer.json: 100%"
          }
        },
        "2ed11d6c882c4ddb8b05dc7cff1a8939": {
          "model_module": "@jupyter-widgets/controls",
          "model_name": "FloatProgressModel",
          "model_module_version": "1.5.0",
          "state": {
            "_dom_classes": [],
            "_model_module": "@jupyter-widgets/controls",
            "_model_module_version": "1.5.0",
            "_model_name": "FloatProgressModel",
            "_view_count": null,
            "_view_module": "@jupyter-widgets/controls",
            "_view_module_version": "1.5.0",
            "_view_name": "ProgressView",
            "bar_style": "success",
            "description": "",
            "description_tooltip": null,
            "layout": "IPY_MODEL_a0f524369a504388aaf93bcac001ca5b",
            "max": 466062,
            "min": 0,
            "orientation": "horizontal",
            "style": "IPY_MODEL_d98885e8adfb4c148188870e8e5639b4",
            "value": 466062
          }
        },
        "46e230013a544d92b88564fabce88e4e": {
          "model_module": "@jupyter-widgets/controls",
          "model_name": "HTMLModel",
          "model_module_version": "1.5.0",
          "state": {
            "_dom_classes": [],
            "_model_module": "@jupyter-widgets/controls",
            "_model_module_version": "1.5.0",
            "_model_name": "HTMLModel",
            "_view_count": null,
            "_view_module": "@jupyter-widgets/controls",
            "_view_module_version": "1.5.0",
            "_view_name": "HTMLView",
            "description": "",
            "description_tooltip": null,
            "layout": "IPY_MODEL_f42f22ad6aef4b1a8e6b143478085300",
            "placeholder": "​",
            "style": "IPY_MODEL_19439d3c13de4c0780b040ab8bec6149",
            "value": " 466k/466k [00:00&lt;00:00, 4.64MB/s]"
          }
        },
        "f9487fdb87534975b4704c04cd488d03": {
          "model_module": "@jupyter-widgets/base",
          "model_name": "LayoutModel",
          "model_module_version": "1.2.0",
          "state": {
            "_model_module": "@jupyter-widgets/base",
            "_model_module_version": "1.2.0",
            "_model_name": "LayoutModel",
            "_view_count": null,
            "_view_module": "@jupyter-widgets/base",
            "_view_module_version": "1.2.0",
            "_view_name": "LayoutView",
            "align_content": null,
            "align_items": null,
            "align_self": null,
            "border": null,
            "bottom": null,
            "display": null,
            "flex": null,
            "flex_flow": null,
            "grid_area": null,
            "grid_auto_columns": null,
            "grid_auto_flow": null,
            "grid_auto_rows": null,
            "grid_column": null,
            "grid_gap": null,
            "grid_row": null,
            "grid_template_areas": null,
            "grid_template_columns": null,
            "grid_template_rows": null,
            "height": null,
            "justify_content": null,
            "justify_items": null,
            "left": null,
            "margin": null,
            "max_height": null,
            "max_width": null,
            "min_height": null,
            "min_width": null,
            "object_fit": null,
            "object_position": null,
            "order": null,
            "overflow": null,
            "overflow_x": null,
            "overflow_y": null,
            "padding": null,
            "right": null,
            "top": null,
            "visibility": null,
            "width": null
          }
        },
        "8f89e9ccc8094640b54ae474f4440276": {
          "model_module": "@jupyter-widgets/base",
          "model_name": "LayoutModel",
          "model_module_version": "1.2.0",
          "state": {
            "_model_module": "@jupyter-widgets/base",
            "_model_module_version": "1.2.0",
            "_model_name": "LayoutModel",
            "_view_count": null,
            "_view_module": "@jupyter-widgets/base",
            "_view_module_version": "1.2.0",
            "_view_name": "LayoutView",
            "align_content": null,
            "align_items": null,
            "align_self": null,
            "border": null,
            "bottom": null,
            "display": null,
            "flex": null,
            "flex_flow": null,
            "grid_area": null,
            "grid_auto_columns": null,
            "grid_auto_flow": null,
            "grid_auto_rows": null,
            "grid_column": null,
            "grid_gap": null,
            "grid_row": null,
            "grid_template_areas": null,
            "grid_template_columns": null,
            "grid_template_rows": null,
            "height": null,
            "justify_content": null,
            "justify_items": null,
            "left": null,
            "margin": null,
            "max_height": null,
            "max_width": null,
            "min_height": null,
            "min_width": null,
            "object_fit": null,
            "object_position": null,
            "order": null,
            "overflow": null,
            "overflow_x": null,
            "overflow_y": null,
            "padding": null,
            "right": null,
            "top": null,
            "visibility": null,
            "width": null
          }
        },
        "2fdb6152e13e4ed78898432b41890b2f": {
          "model_module": "@jupyter-widgets/controls",
          "model_name": "DescriptionStyleModel",
          "model_module_version": "1.5.0",
          "state": {
            "_model_module": "@jupyter-widgets/controls",
            "_model_module_version": "1.5.0",
            "_model_name": "DescriptionStyleModel",
            "_view_count": null,
            "_view_module": "@jupyter-widgets/base",
            "_view_module_version": "1.2.0",
            "_view_name": "StyleView",
            "description_width": ""
          }
        },
        "a0f524369a504388aaf93bcac001ca5b": {
          "model_module": "@jupyter-widgets/base",
          "model_name": "LayoutModel",
          "model_module_version": "1.2.0",
          "state": {
            "_model_module": "@jupyter-widgets/base",
            "_model_module_version": "1.2.0",
            "_model_name": "LayoutModel",
            "_view_count": null,
            "_view_module": "@jupyter-widgets/base",
            "_view_module_version": "1.2.0",
            "_view_name": "LayoutView",
            "align_content": null,
            "align_items": null,
            "align_self": null,
            "border": null,
            "bottom": null,
            "display": null,
            "flex": null,
            "flex_flow": null,
            "grid_area": null,
            "grid_auto_columns": null,
            "grid_auto_flow": null,
            "grid_auto_rows": null,
            "grid_column": null,
            "grid_gap": null,
            "grid_row": null,
            "grid_template_areas": null,
            "grid_template_columns": null,
            "grid_template_rows": null,
            "height": null,
            "justify_content": null,
            "justify_items": null,
            "left": null,
            "margin": null,
            "max_height": null,
            "max_width": null,
            "min_height": null,
            "min_width": null,
            "object_fit": null,
            "object_position": null,
            "order": null,
            "overflow": null,
            "overflow_x": null,
            "overflow_y": null,
            "padding": null,
            "right": null,
            "top": null,
            "visibility": null,
            "width": null
          }
        },
        "d98885e8adfb4c148188870e8e5639b4": {
          "model_module": "@jupyter-widgets/controls",
          "model_name": "ProgressStyleModel",
          "model_module_version": "1.5.0",
          "state": {
            "_model_module": "@jupyter-widgets/controls",
            "_model_module_version": "1.5.0",
            "_model_name": "ProgressStyleModel",
            "_view_count": null,
            "_view_module": "@jupyter-widgets/base",
            "_view_module_version": "1.2.0",
            "_view_name": "StyleView",
            "bar_color": null,
            "description_width": ""
          }
        },
        "f42f22ad6aef4b1a8e6b143478085300": {
          "model_module": "@jupyter-widgets/base",
          "model_name": "LayoutModel",
          "model_module_version": "1.2.0",
          "state": {
            "_model_module": "@jupyter-widgets/base",
            "_model_module_version": "1.2.0",
            "_model_name": "LayoutModel",
            "_view_count": null,
            "_view_module": "@jupyter-widgets/base",
            "_view_module_version": "1.2.0",
            "_view_name": "LayoutView",
            "align_content": null,
            "align_items": null,
            "align_self": null,
            "border": null,
            "bottom": null,
            "display": null,
            "flex": null,
            "flex_flow": null,
            "grid_area": null,
            "grid_auto_columns": null,
            "grid_auto_flow": null,
            "grid_auto_rows": null,
            "grid_column": null,
            "grid_gap": null,
            "grid_row": null,
            "grid_template_areas": null,
            "grid_template_columns": null,
            "grid_template_rows": null,
            "height": null,
            "justify_content": null,
            "justify_items": null,
            "left": null,
            "margin": null,
            "max_height": null,
            "max_width": null,
            "min_height": null,
            "min_width": null,
            "object_fit": null,
            "object_position": null,
            "order": null,
            "overflow": null,
            "overflow_x": null,
            "overflow_y": null,
            "padding": null,
            "right": null,
            "top": null,
            "visibility": null,
            "width": null
          }
        },
        "19439d3c13de4c0780b040ab8bec6149": {
          "model_module": "@jupyter-widgets/controls",
          "model_name": "DescriptionStyleModel",
          "model_module_version": "1.5.0",
          "state": {
            "_model_module": "@jupyter-widgets/controls",
            "_model_module_version": "1.5.0",
            "_model_name": "DescriptionStyleModel",
            "_view_count": null,
            "_view_module": "@jupyter-widgets/base",
            "_view_module_version": "1.2.0",
            "_view_name": "StyleView",
            "description_width": ""
          }
        },
        "2ecd42472815415eb02970cd3992bc2b": {
          "model_module": "@jupyter-widgets/controls",
          "model_name": "HBoxModel",
          "model_module_version": "1.5.0",
          "state": {
            "_dom_classes": [],
            "_model_module": "@jupyter-widgets/controls",
            "_model_module_version": "1.5.0",
            "_model_name": "HBoxModel",
            "_view_count": null,
            "_view_module": "@jupyter-widgets/controls",
            "_view_module_version": "1.5.0",
            "_view_name": "HBoxView",
            "box_style": "",
            "children": [
              "IPY_MODEL_ec6b3e8692b64c2c9199bc4b34bef55f",
              "IPY_MODEL_b6f3b268186743f0be341f5d9a72f582",
              "IPY_MODEL_99262dceacc94deea961f68098fac135"
            ],
            "layout": "IPY_MODEL_29a6183772774780accaadd03d07c135"
          }
        },
        "ec6b3e8692b64c2c9199bc4b34bef55f": {
          "model_module": "@jupyter-widgets/controls",
          "model_name": "HTMLModel",
          "model_module_version": "1.5.0",
          "state": {
            "_dom_classes": [],
            "_model_module": "@jupyter-widgets/controls",
            "_model_module_version": "1.5.0",
            "_model_name": "HTMLModel",
            "_view_count": null,
            "_view_module": "@jupyter-widgets/controls",
            "_view_module_version": "1.5.0",
            "_view_name": "HTMLView",
            "description": "",
            "description_tooltip": null,
            "layout": "IPY_MODEL_c96f9db610654a728a4de5963b6fa540",
            "placeholder": "​",
            "style": "IPY_MODEL_d05d418315424b8a894f51f4dabc254e",
            "value": "config.json: 100%"
          }
        },
        "b6f3b268186743f0be341f5d9a72f582": {
          "model_module": "@jupyter-widgets/controls",
          "model_name": "FloatProgressModel",
          "model_module_version": "1.5.0",
          "state": {
            "_dom_classes": [],
            "_model_module": "@jupyter-widgets/controls",
            "_model_module_version": "1.5.0",
            "_model_name": "FloatProgressModel",
            "_view_count": null,
            "_view_module": "@jupyter-widgets/controls",
            "_view_module_version": "1.5.0",
            "_view_name": "ProgressView",
            "bar_style": "success",
            "description": "",
            "description_tooltip": null,
            "layout": "IPY_MODEL_7dd16f5a4e79412ca7a5de6db634708f",
            "max": 570,
            "min": 0,
            "orientation": "horizontal",
            "style": "IPY_MODEL_affea81a8dc04108a59f4f6fe264acee",
            "value": 570
          }
        },
        "99262dceacc94deea961f68098fac135": {
          "model_module": "@jupyter-widgets/controls",
          "model_name": "HTMLModel",
          "model_module_version": "1.5.0",
          "state": {
            "_dom_classes": [],
            "_model_module": "@jupyter-widgets/controls",
            "_model_module_version": "1.5.0",
            "_model_name": "HTMLModel",
            "_view_count": null,
            "_view_module": "@jupyter-widgets/controls",
            "_view_module_version": "1.5.0",
            "_view_name": "HTMLView",
            "description": "",
            "description_tooltip": null,
            "layout": "IPY_MODEL_d58c6f1f40664ef5b871dc63a3356310",
            "placeholder": "​",
            "style": "IPY_MODEL_2200b65cb463467f9a4ae7d6249923f0",
            "value": " 570/570 [00:00&lt;00:00, 60.3kB/s]"
          }
        },
        "29a6183772774780accaadd03d07c135": {
          "model_module": "@jupyter-widgets/base",
          "model_name": "LayoutModel",
          "model_module_version": "1.2.0",
          "state": {
            "_model_module": "@jupyter-widgets/base",
            "_model_module_version": "1.2.0",
            "_model_name": "LayoutModel",
            "_view_count": null,
            "_view_module": "@jupyter-widgets/base",
            "_view_module_version": "1.2.0",
            "_view_name": "LayoutView",
            "align_content": null,
            "align_items": null,
            "align_self": null,
            "border": null,
            "bottom": null,
            "display": null,
            "flex": null,
            "flex_flow": null,
            "grid_area": null,
            "grid_auto_columns": null,
            "grid_auto_flow": null,
            "grid_auto_rows": null,
            "grid_column": null,
            "grid_gap": null,
            "grid_row": null,
            "grid_template_areas": null,
            "grid_template_columns": null,
            "grid_template_rows": null,
            "height": null,
            "justify_content": null,
            "justify_items": null,
            "left": null,
            "margin": null,
            "max_height": null,
            "max_width": null,
            "min_height": null,
            "min_width": null,
            "object_fit": null,
            "object_position": null,
            "order": null,
            "overflow": null,
            "overflow_x": null,
            "overflow_y": null,
            "padding": null,
            "right": null,
            "top": null,
            "visibility": null,
            "width": null
          }
        },
        "c96f9db610654a728a4de5963b6fa540": {
          "model_module": "@jupyter-widgets/base",
          "model_name": "LayoutModel",
          "model_module_version": "1.2.0",
          "state": {
            "_model_module": "@jupyter-widgets/base",
            "_model_module_version": "1.2.0",
            "_model_name": "LayoutModel",
            "_view_count": null,
            "_view_module": "@jupyter-widgets/base",
            "_view_module_version": "1.2.0",
            "_view_name": "LayoutView",
            "align_content": null,
            "align_items": null,
            "align_self": null,
            "border": null,
            "bottom": null,
            "display": null,
            "flex": null,
            "flex_flow": null,
            "grid_area": null,
            "grid_auto_columns": null,
            "grid_auto_flow": null,
            "grid_auto_rows": null,
            "grid_column": null,
            "grid_gap": null,
            "grid_row": null,
            "grid_template_areas": null,
            "grid_template_columns": null,
            "grid_template_rows": null,
            "height": null,
            "justify_content": null,
            "justify_items": null,
            "left": null,
            "margin": null,
            "max_height": null,
            "max_width": null,
            "min_height": null,
            "min_width": null,
            "object_fit": null,
            "object_position": null,
            "order": null,
            "overflow": null,
            "overflow_x": null,
            "overflow_y": null,
            "padding": null,
            "right": null,
            "top": null,
            "visibility": null,
            "width": null
          }
        },
        "d05d418315424b8a894f51f4dabc254e": {
          "model_module": "@jupyter-widgets/controls",
          "model_name": "DescriptionStyleModel",
          "model_module_version": "1.5.0",
          "state": {
            "_model_module": "@jupyter-widgets/controls",
            "_model_module_version": "1.5.0",
            "_model_name": "DescriptionStyleModel",
            "_view_count": null,
            "_view_module": "@jupyter-widgets/base",
            "_view_module_version": "1.2.0",
            "_view_name": "StyleView",
            "description_width": ""
          }
        },
        "7dd16f5a4e79412ca7a5de6db634708f": {
          "model_module": "@jupyter-widgets/base",
          "model_name": "LayoutModel",
          "model_module_version": "1.2.0",
          "state": {
            "_model_module": "@jupyter-widgets/base",
            "_model_module_version": "1.2.0",
            "_model_name": "LayoutModel",
            "_view_count": null,
            "_view_module": "@jupyter-widgets/base",
            "_view_module_version": "1.2.0",
            "_view_name": "LayoutView",
            "align_content": null,
            "align_items": null,
            "align_self": null,
            "border": null,
            "bottom": null,
            "display": null,
            "flex": null,
            "flex_flow": null,
            "grid_area": null,
            "grid_auto_columns": null,
            "grid_auto_flow": null,
            "grid_auto_rows": null,
            "grid_column": null,
            "grid_gap": null,
            "grid_row": null,
            "grid_template_areas": null,
            "grid_template_columns": null,
            "grid_template_rows": null,
            "height": null,
            "justify_content": null,
            "justify_items": null,
            "left": null,
            "margin": null,
            "max_height": null,
            "max_width": null,
            "min_height": null,
            "min_width": null,
            "object_fit": null,
            "object_position": null,
            "order": null,
            "overflow": null,
            "overflow_x": null,
            "overflow_y": null,
            "padding": null,
            "right": null,
            "top": null,
            "visibility": null,
            "width": null
          }
        },
        "affea81a8dc04108a59f4f6fe264acee": {
          "model_module": "@jupyter-widgets/controls",
          "model_name": "ProgressStyleModel",
          "model_module_version": "1.5.0",
          "state": {
            "_model_module": "@jupyter-widgets/controls",
            "_model_module_version": "1.5.0",
            "_model_name": "ProgressStyleModel",
            "_view_count": null,
            "_view_module": "@jupyter-widgets/base",
            "_view_module_version": "1.2.0",
            "_view_name": "StyleView",
            "bar_color": null,
            "description_width": ""
          }
        },
        "d58c6f1f40664ef5b871dc63a3356310": {
          "model_module": "@jupyter-widgets/base",
          "model_name": "LayoutModel",
          "model_module_version": "1.2.0",
          "state": {
            "_model_module": "@jupyter-widgets/base",
            "_model_module_version": "1.2.0",
            "_model_name": "LayoutModel",
            "_view_count": null,
            "_view_module": "@jupyter-widgets/base",
            "_view_module_version": "1.2.0",
            "_view_name": "LayoutView",
            "align_content": null,
            "align_items": null,
            "align_self": null,
            "border": null,
            "bottom": null,
            "display": null,
            "flex": null,
            "flex_flow": null,
            "grid_area": null,
            "grid_auto_columns": null,
            "grid_auto_flow": null,
            "grid_auto_rows": null,
            "grid_column": null,
            "grid_gap": null,
            "grid_row": null,
            "grid_template_areas": null,
            "grid_template_columns": null,
            "grid_template_rows": null,
            "height": null,
            "justify_content": null,
            "justify_items": null,
            "left": null,
            "margin": null,
            "max_height": null,
            "max_width": null,
            "min_height": null,
            "min_width": null,
            "object_fit": null,
            "object_position": null,
            "order": null,
            "overflow": null,
            "overflow_x": null,
            "overflow_y": null,
            "padding": null,
            "right": null,
            "top": null,
            "visibility": null,
            "width": null
          }
        },
        "2200b65cb463467f9a4ae7d6249923f0": {
          "model_module": "@jupyter-widgets/controls",
          "model_name": "DescriptionStyleModel",
          "model_module_version": "1.5.0",
          "state": {
            "_model_module": "@jupyter-widgets/controls",
            "_model_module_version": "1.5.0",
            "_model_name": "DescriptionStyleModel",
            "_view_count": null,
            "_view_module": "@jupyter-widgets/base",
            "_view_module_version": "1.2.0",
            "_view_name": "StyleView",
            "description_width": ""
          }
        },
        "62dad9f5d3ac4c64b546ca2cf893deed": {
          "model_module": "@jupyter-widgets/controls",
          "model_name": "HBoxModel",
          "model_module_version": "1.5.0",
          "state": {
            "_dom_classes": [],
            "_model_module": "@jupyter-widgets/controls",
            "_model_module_version": "1.5.0",
            "_model_name": "HBoxModel",
            "_view_count": null,
            "_view_module": "@jupyter-widgets/controls",
            "_view_module_version": "1.5.0",
            "_view_name": "HBoxView",
            "box_style": "",
            "children": [
              "IPY_MODEL_b7f9dd0ec9cc4f128ad39bcf4db05d7b",
              "IPY_MODEL_de35b6355e0a444eacbb3189e9f9f22c",
              "IPY_MODEL_8474767906b54ba0a9746968bc26ed73"
            ],
            "layout": "IPY_MODEL_c049cf307f6b4d75979e59f05b2b884e"
          }
        },
        "b7f9dd0ec9cc4f128ad39bcf4db05d7b": {
          "model_module": "@jupyter-widgets/controls",
          "model_name": "HTMLModel",
          "model_module_version": "1.5.0",
          "state": {
            "_dom_classes": [],
            "_model_module": "@jupyter-widgets/controls",
            "_model_module_version": "1.5.0",
            "_model_name": "HTMLModel",
            "_view_count": null,
            "_view_module": "@jupyter-widgets/controls",
            "_view_module_version": "1.5.0",
            "_view_name": "HTMLView",
            "description": "",
            "description_tooltip": null,
            "layout": "IPY_MODEL_3aaae3abe2d84e4ebe85360aaaa75571",
            "placeholder": "​",
            "style": "IPY_MODEL_d6ebcbe3977e44eea98e913029d199e5",
            "value": "model.safetensors: 100%"
          }
        },
        "de35b6355e0a444eacbb3189e9f9f22c": {
          "model_module": "@jupyter-widgets/controls",
          "model_name": "FloatProgressModel",
          "model_module_version": "1.5.0",
          "state": {
            "_dom_classes": [],
            "_model_module": "@jupyter-widgets/controls",
            "_model_module_version": "1.5.0",
            "_model_name": "FloatProgressModel",
            "_view_count": null,
            "_view_module": "@jupyter-widgets/controls",
            "_view_module_version": "1.5.0",
            "_view_name": "ProgressView",
            "bar_style": "success",
            "description": "",
            "description_tooltip": null,
            "layout": "IPY_MODEL_0d29511ac8d04467a90c8a689f2ad0d2",
            "max": 440449768,
            "min": 0,
            "orientation": "horizontal",
            "style": "IPY_MODEL_e9a2641b59df417b8b89ca24114c9533",
            "value": 440449768
          }
        },
        "8474767906b54ba0a9746968bc26ed73": {
          "model_module": "@jupyter-widgets/controls",
          "model_name": "HTMLModel",
          "model_module_version": "1.5.0",
          "state": {
            "_dom_classes": [],
            "_model_module": "@jupyter-widgets/controls",
            "_model_module_version": "1.5.0",
            "_model_name": "HTMLModel",
            "_view_count": null,
            "_view_module": "@jupyter-widgets/controls",
            "_view_module_version": "1.5.0",
            "_view_name": "HTMLView",
            "description": "",
            "description_tooltip": null,
            "layout": "IPY_MODEL_07873d69f4834a4b8c3c3ee9b1c22b17",
            "placeholder": "​",
            "style": "IPY_MODEL_13d3d19997b44c78aca8112eaa3a72df",
            "value": " 440M/440M [00:02&lt;00:00, 237MB/s]"
          }
        },
        "c049cf307f6b4d75979e59f05b2b884e": {
          "model_module": "@jupyter-widgets/base",
          "model_name": "LayoutModel",
          "model_module_version": "1.2.0",
          "state": {
            "_model_module": "@jupyter-widgets/base",
            "_model_module_version": "1.2.0",
            "_model_name": "LayoutModel",
            "_view_count": null,
            "_view_module": "@jupyter-widgets/base",
            "_view_module_version": "1.2.0",
            "_view_name": "LayoutView",
            "align_content": null,
            "align_items": null,
            "align_self": null,
            "border": null,
            "bottom": null,
            "display": null,
            "flex": null,
            "flex_flow": null,
            "grid_area": null,
            "grid_auto_columns": null,
            "grid_auto_flow": null,
            "grid_auto_rows": null,
            "grid_column": null,
            "grid_gap": null,
            "grid_row": null,
            "grid_template_areas": null,
            "grid_template_columns": null,
            "grid_template_rows": null,
            "height": null,
            "justify_content": null,
            "justify_items": null,
            "left": null,
            "margin": null,
            "max_height": null,
            "max_width": null,
            "min_height": null,
            "min_width": null,
            "object_fit": null,
            "object_position": null,
            "order": null,
            "overflow": null,
            "overflow_x": null,
            "overflow_y": null,
            "padding": null,
            "right": null,
            "top": null,
            "visibility": null,
            "width": null
          }
        },
        "3aaae3abe2d84e4ebe85360aaaa75571": {
          "model_module": "@jupyter-widgets/base",
          "model_name": "LayoutModel",
          "model_module_version": "1.2.0",
          "state": {
            "_model_module": "@jupyter-widgets/base",
            "_model_module_version": "1.2.0",
            "_model_name": "LayoutModel",
            "_view_count": null,
            "_view_module": "@jupyter-widgets/base",
            "_view_module_version": "1.2.0",
            "_view_name": "LayoutView",
            "align_content": null,
            "align_items": null,
            "align_self": null,
            "border": null,
            "bottom": null,
            "display": null,
            "flex": null,
            "flex_flow": null,
            "grid_area": null,
            "grid_auto_columns": null,
            "grid_auto_flow": null,
            "grid_auto_rows": null,
            "grid_column": null,
            "grid_gap": null,
            "grid_row": null,
            "grid_template_areas": null,
            "grid_template_columns": null,
            "grid_template_rows": null,
            "height": null,
            "justify_content": null,
            "justify_items": null,
            "left": null,
            "margin": null,
            "max_height": null,
            "max_width": null,
            "min_height": null,
            "min_width": null,
            "object_fit": null,
            "object_position": null,
            "order": null,
            "overflow": null,
            "overflow_x": null,
            "overflow_y": null,
            "padding": null,
            "right": null,
            "top": null,
            "visibility": null,
            "width": null
          }
        },
        "d6ebcbe3977e44eea98e913029d199e5": {
          "model_module": "@jupyter-widgets/controls",
          "model_name": "DescriptionStyleModel",
          "model_module_version": "1.5.0",
          "state": {
            "_model_module": "@jupyter-widgets/controls",
            "_model_module_version": "1.5.0",
            "_model_name": "DescriptionStyleModel",
            "_view_count": null,
            "_view_module": "@jupyter-widgets/base",
            "_view_module_version": "1.2.0",
            "_view_name": "StyleView",
            "description_width": ""
          }
        },
        "0d29511ac8d04467a90c8a689f2ad0d2": {
          "model_module": "@jupyter-widgets/base",
          "model_name": "LayoutModel",
          "model_module_version": "1.2.0",
          "state": {
            "_model_module": "@jupyter-widgets/base",
            "_model_module_version": "1.2.0",
            "_model_name": "LayoutModel",
            "_view_count": null,
            "_view_module": "@jupyter-widgets/base",
            "_view_module_version": "1.2.0",
            "_view_name": "LayoutView",
            "align_content": null,
            "align_items": null,
            "align_self": null,
            "border": null,
            "bottom": null,
            "display": null,
            "flex": null,
            "flex_flow": null,
            "grid_area": null,
            "grid_auto_columns": null,
            "grid_auto_flow": null,
            "grid_auto_rows": null,
            "grid_column": null,
            "grid_gap": null,
            "grid_row": null,
            "grid_template_areas": null,
            "grid_template_columns": null,
            "grid_template_rows": null,
            "height": null,
            "justify_content": null,
            "justify_items": null,
            "left": null,
            "margin": null,
            "max_height": null,
            "max_width": null,
            "min_height": null,
            "min_width": null,
            "object_fit": null,
            "object_position": null,
            "order": null,
            "overflow": null,
            "overflow_x": null,
            "overflow_y": null,
            "padding": null,
            "right": null,
            "top": null,
            "visibility": null,
            "width": null
          }
        },
        "e9a2641b59df417b8b89ca24114c9533": {
          "model_module": "@jupyter-widgets/controls",
          "model_name": "ProgressStyleModel",
          "model_module_version": "1.5.0",
          "state": {
            "_model_module": "@jupyter-widgets/controls",
            "_model_module_version": "1.5.0",
            "_model_name": "ProgressStyleModel",
            "_view_count": null,
            "_view_module": "@jupyter-widgets/base",
            "_view_module_version": "1.2.0",
            "_view_name": "StyleView",
            "bar_color": null,
            "description_width": ""
          }
        },
        "07873d69f4834a4b8c3c3ee9b1c22b17": {
          "model_module": "@jupyter-widgets/base",
          "model_name": "LayoutModel",
          "model_module_version": "1.2.0",
          "state": {
            "_model_module": "@jupyter-widgets/base",
            "_model_module_version": "1.2.0",
            "_model_name": "LayoutModel",
            "_view_count": null,
            "_view_module": "@jupyter-widgets/base",
            "_view_module_version": "1.2.0",
            "_view_name": "LayoutView",
            "align_content": null,
            "align_items": null,
            "align_self": null,
            "border": null,
            "bottom": null,
            "display": null,
            "flex": null,
            "flex_flow": null,
            "grid_area": null,
            "grid_auto_columns": null,
            "grid_auto_flow": null,
            "grid_auto_rows": null,
            "grid_column": null,
            "grid_gap": null,
            "grid_row": null,
            "grid_template_areas": null,
            "grid_template_columns": null,
            "grid_template_rows": null,
            "height": null,
            "justify_content": null,
            "justify_items": null,
            "left": null,
            "margin": null,
            "max_height": null,
            "max_width": null,
            "min_height": null,
            "min_width": null,
            "object_fit": null,
            "object_position": null,
            "order": null,
            "overflow": null,
            "overflow_x": null,
            "overflow_y": null,
            "padding": null,
            "right": null,
            "top": null,
            "visibility": null,
            "width": null
          }
        },
        "13d3d19997b44c78aca8112eaa3a72df": {
          "model_module": "@jupyter-widgets/controls",
          "model_name": "DescriptionStyleModel",
          "model_module_version": "1.5.0",
          "state": {
            "_model_module": "@jupyter-widgets/controls",
            "_model_module_version": "1.5.0",
            "_model_name": "DescriptionStyleModel",
            "_view_count": null,
            "_view_module": "@jupyter-widgets/base",
            "_view_module_version": "1.2.0",
            "_view_name": "StyleView",
            "description_width": ""
          }
        }
      }
    }
  },
  "nbformat": 4,
  "nbformat_minor": 0
}